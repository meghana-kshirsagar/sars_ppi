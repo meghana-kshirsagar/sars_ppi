{
 "cells": [
  {
   "cell_type": "code",
   "execution_count": 88,
   "metadata": {},
   "outputs": [],
   "source": [
    "import pandas as pd\n",
    "from sklearn.preprocessing import MinMaxScaler, StandardScaler\n",
    "from sklearn.decomposition import PCA\n",
    "import numpy as np\n",
    "import matplotlib.pyplot as plt\n",
    "from sklearn.manifold import TSNE\n",
    "\n",
    "import plotly.express as px\n",
    "import plotly.graph_objects as go\n"
   ]
  },
  {
   "cell_type": "code",
   "execution_count": 156,
   "metadata": {},
   "outputs": [
    {
     "name": "stdout",
     "output_type": "stream",
     "text": [
      "(1312, 1526)\n",
      "[0, 143, 761, 1091, 1312]\n"
     ]
    }
   ],
   "source": [
    "viruses = ['other_corona','HIV','sars_cov2','ebola']\n",
    "feats = list()\n",
    "indices = list([0])\n",
    "for v in viruses:\n",
    "    df = pd.read_csv(format(\"features/%s_ppis_no3merfeats.csv\" % v), header=0)\n",
    "    indices.append(indices[-1]+df.shape[0])\n",
    "    feats.append(np.asarray(df))\n",
    "feats = np.vstack(feats)\n",
    "print(feats.shape)\n",
    "print(indices)"
   ]
  },
  {
   "cell_type": "code",
   "execution_count": 157,
   "metadata": {},
   "outputs": [
    {
     "name": "stdout",
     "output_type": "stream",
     "text": [
      "[0.14151525 0.07578349 0.05215993 0.04190788 0.03493226 0.03061226\n",
      " 0.02932095 0.02744374 0.02546536 0.02356344]\n",
      "(1312, 100)\n"
     ]
    }
   ],
   "source": [
    "#scaler = StandardScaler()\n",
    "#g_norm = scaler.fit_transform(g)\n",
    "f_norm = feats\n",
    "\n",
    "pca = PCA(n_components=100)\n",
    "pca.fit(f_norm)\n",
    "print(pca.explained_variance_ratio_[0:10])\n",
    "f_pca = pca.transform(f_norm)\n",
    "print(f_pca.shape)"
   ]
  },
  {
   "cell_type": "code",
   "execution_count": 158,
   "metadata": {},
   "outputs": [
    {
     "name": "stdout",
     "output_type": "stream",
     "text": [
      "[t-SNE] Computing 121 nearest neighbors...\n",
      "[t-SNE] Indexed 1312 samples in 0.002s...\n",
      "[t-SNE] Computed neighbors for 1312 samples in 0.292s...\n",
      "[t-SNE] Computed conditional probabilities for sample 1000 / 1312\n",
      "[t-SNE] Computed conditional probabilities for sample 1312 / 1312\n",
      "[t-SNE] Mean sigma: 1.286016\n",
      "[t-SNE] KL divergence after 250 iterations with early exaggeration: 55.381516\n",
      "[t-SNE] KL divergence after 300 iterations: 0.558143\n",
      "(1312, 2)\n"
     ]
    }
   ],
   "source": [
    "tsne = TSNE(n_components=2, verbose=1, perplexity=40, n_iter=300)\n",
    "f_pca = tsne.fit_transform(f_pca)\n",
    "print(f_pca.shape)"
   ]
  },
  {
   "cell_type": "code",
   "execution_count": 159,
   "metadata": {},
   "outputs": [
    {
     "data": {
      "text/plain": [
       "'gL'"
      ]
     },
     "execution_count": 159,
     "metadata": {},
     "output_type": "execute_result"
    }
   ],
   "source": [
    "gene_names = pd.read_csv(\"data/uniprotid_gene_name.txt\",header=0,sep='\\t')\n",
    "gene_names = gene_names.set_index('Protein_ID')\n",
    "gene_names.head()\n",
    "gene_names.loc['A0A024A4F8','Gene_name']"
   ]
  },
  {
   "cell_type": "code",
   "execution_count": 160,
   "metadata": {},
   "outputs": [],
   "source": [
    "def get_df(pca, filename, virusname):\n",
    "    ppis = pd.read_csv(filename, header=0,index_col=0)\n",
    "    str_array = np.asarray([format('%s:%s' % (gene_names.loc[ppi[0],'Gene_name'],\n",
    "                                              gene_names.loc[ppi[1],'Gene_name'])) for ppi in ppis.values])\n",
    "    df = pd.DataFrame({'PCA1': pca[:,0], 'PCA2': pca[:,1], \n",
    "                       'PPI': str_array, 'virus' : [virusname]*pca.shape[0]})\n",
    "    return df"
   ]
  },
  {
   "cell_type": "code",
   "execution_count": 161,
   "metadata": {},
   "outputs": [
    {
     "name": "stdout",
     "output_type": "stream",
     "text": [
      "(1312, 4)\n"
     ]
    }
   ],
   "source": [
    "df_all = pd.DataFrame()\n",
    "for v in range(len(viruses)):\n",
    "    wrap_df = get_df(f_pca[range(indices[v],indices[v+1]),:], \n",
    "                     format(\"data/%s_ppis_good.csv\" % viruses[v]), viruses[v])\n",
    "    df_all = df_all.append(wrap_df)\n",
    "\n",
    "print(df_all.shape)\n",
    "\n",
    "fig = px.scatter(df_all, x='PCA1',y='PCA2', hover_data=['PPI'], color='virus')\n",
    "#fig.show()\n",
    "fig.write_html('ppi_plot.html')\n",
    "\n",
    "#plt.scatter(data=df_all, x='PCA1',y='PCA2') #, c='virus')"
   ]
  },
  {
   "cell_type": "code",
   "execution_count": null,
   "metadata": {},
   "outputs": [],
   "source": [
    "######### OLD CODE ###########\n",
    "#plt.scatter(g_pca[idx3,0],g_pca[idx3,1], c='green', label='hiv')\n",
    "#plt.scatter(g_pca[idx2,0],g_pca[idx2,1], c='blue', label='sars-cov-2')\n",
    "#plt.scatter(g_pca[idx1,0],g_pca[idx1,1], c='coral', label='Other corona')\n",
    "#plt.scatter(g_pca[idx4,0],g_pca[idx4,1], c='yellow', label='Negatives')\n",
    "#plt.legend()\n",
    "#plt.savefig('TSNE_viruses.pdf', dpi=300, bbox_inches='tight')"
   ]
  }
 ],
 "metadata": {
  "kernelspec": {
   "display_name": "Python 3",
   "language": "python",
   "name": "python3"
  },
  "language_info": {
   "codemirror_mode": {
    "name": "ipython",
    "version": 3
   },
   "file_extension": ".py",
   "mimetype": "text/x-python",
   "name": "python",
   "nbconvert_exporter": "python",
   "pygments_lexer": "ipython3",
   "version": "3.7.3"
  }
 },
 "nbformat": 4,
 "nbformat_minor": 4
}
