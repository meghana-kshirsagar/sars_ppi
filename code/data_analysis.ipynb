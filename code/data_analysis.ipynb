{
 "cells": [
  {
   "cell_type": "code",
   "execution_count": 88,
   "metadata": {},
   "outputs": [],
   "source": [
    "import pandas as pd\n",
    "from sklearn.preprocessing import MinMaxScaler, StandardScaler\n",
    "from sklearn.decomposition import PCA\n",
    "import numpy as np\n",
    "import matplotlib.pyplot as plt\n",
    "from sklearn.manifold import TSNE\n",
    "\n",
    "import plotly.express as px\n",
    "import plotly.graph_objects as go\n"
   ]
  },
  {
   "cell_type": "code",
   "execution_count": 76,
   "metadata": {},
   "outputs": [
    {
     "name": "stdout",
     "output_type": "stream",
     "text": [
      "(1091, 1526)\n"
     ]
    }
   ],
   "source": [
    "#X_neg = pd.read_csv(\"features/pathogen_human_1500pairs_no3merfeats.csv\", header=0)\n",
    "#X_neg = pd.read_csv(\"features/HIV_7k_negs_no3mer_feats.csv\", header=0)\n",
    "\n",
    "other_corona = pd.read_csv(\"features/other_corona_no3merfeats.csv\", header=0)\n",
    "hiv = pd.read_csv(\"features/HIV_ppis_no3mer_feats.csv\", header=0)\n",
    "covid = pd.read_csv(\"features/krogan_ppis_no3mer.csv\", header=0)\n",
    "#negs = pd.read_csv(\"features/pathogen_human_1500pairs_no3merfeats.csv\", header=0)\n",
    "\n",
    "g = np.row_stack((other_corona,covid,hiv))\n",
    "print(g.shape)"
   ]
  },
  {
   "cell_type": "code",
   "execution_count": 52,
   "metadata": {},
   "outputs": [
    {
     "name": "stdout",
     "output_type": "stream",
     "text": [
      "[0.16503159 0.07454589 0.05607358 0.0486156  0.03914892 0.03578439\n",
      " 0.03336795 0.02861312 0.02632115 0.02278172]\n",
      "(1091, 100)\n"
     ]
    }
   ],
   "source": [
    "#scaler = StandardScaler()\n",
    "#g_norm = scaler.fit_transform(g)\n",
    "g_norm = g\n",
    "\n",
    "pca = PCA(n_components=100)\n",
    "pca.fit(g_norm)\n",
    "print(pca.explained_variance_ratio_[0:10])\n",
    "g_pca = pca.transform(g_norm)\n",
    "print(g_pca.shape)"
   ]
  },
  {
   "cell_type": "code",
   "execution_count": 53,
   "metadata": {},
   "outputs": [
    {
     "name": "stdout",
     "output_type": "stream",
     "text": [
      "[t-SNE] Computing 121 nearest neighbors...\n",
      "[t-SNE] Indexed 1091 samples in 0.002s...\n",
      "[t-SNE] Computed neighbors for 1091 samples in 0.211s...\n",
      "[t-SNE] Computed conditional probabilities for sample 1000 / 1091\n",
      "[t-SNE] Computed conditional probabilities for sample 1091 / 1091\n",
      "[t-SNE] Mean sigma: 1.267928\n",
      "[t-SNE] KL divergence after 250 iterations with early exaggeration: 54.897003\n",
      "[t-SNE] KL divergence after 300 iterations: 0.532274\n",
      "(1091, 2)\n"
     ]
    }
   ],
   "source": [
    "tsne = TSNE(n_components=2, verbose=1, perplexity=40, n_iter=300)\n",
    "g_pca = tsne.fit_transform(g_pca)\n",
    "print(g_pca.shape)"
   ]
  },
  {
   "cell_type": "code",
   "execution_count": 110,
   "metadata": {},
   "outputs": [],
   "source": [
    "def get_df(pca1, pca2, filename, virusname):\n",
    "    ppis = pd.read_csv(filename, header=0,index_col=0,sep='\\t')\n",
    "    str_array = np.asarray([format('%s:%s' % (ppi[1],ppi[3])) for ppi in ppis.values])\n",
    "    df = pd.DataFrame({'PCA1': pca1, 'PCA2': pca2, \n",
    "                       'PPI': str_array, 'virus' : [virusname]*len(pca1)})\n",
    "    return df"
   ]
  },
  {
   "cell_type": "code",
   "execution_count": 111,
   "metadata": {},
   "outputs": [],
   "source": [
    "idx1 = range(other_corona.shape[0])\n",
    "idx2 = range(max(idx1),max(idx1)+covid.shape[0])\n",
    "idx3 = range(max(idx2),max(idx2)+hiv.shape[0])\n",
    "#idx4 = range(max(idx3),max(idx3)+negs.shape[0])\n",
    "\n",
    "df_hiv = get_df(g_pca[idx3,0], g_pca[idx3,1], \"data/HIV_ppis_good_with_genenames.txt\", 'hiv')\n",
    "df_covid = get_df(g_pca[idx2,0], g_pca[idx2,1], \"data/krogan_ppis_good_with_genenames.txt\", 'covid')\n",
    "df_corona = get_df(g_pca[idx1,0], g_pca[idx1,1], \"data/othercorona_ppis_good_with_genenames.txt\", 'other corona')\n"
   ]
  },
  {
   "cell_type": "code",
   "execution_count": 112,
   "metadata": {},
   "outputs": [
    {
     "data": {
      "application/vnd.plotly.v1+json": {
       "config": {
        "plotlyServerURL": "https://plot.ly"
       },
       "data": [
        {
         "customdata": [
          [
           "vpr:AGPS AAG5"
          ],
          [
           "vpr:NDUFS8"
          ],
          [
           "env:CLIC1 G6 NCC27"
          ],
          [
           "gag:AP3D1 PRO0039"
          ],
          [
           "vpu:KCNK3 TASK TASK1"
          ],
          [
           "env:ADAM10 KUZ MADM"
          ],
          [
           "nef:ACOT8 ACTEIII PTE1"
          ],
          [
           "vpu:SCAMP3 C1orf3 PROPIN1"
          ],
          [
           "vpr:GEMIN2 SIP1"
          ],
          [
           "vpr:HAT1 KAT1"
          ],
          [
           "env:CLGN"
          ],
          [
           "vpu:XPO1 CRM1"
          ],
          [
           "tat:HTATSF1"
          ],
          [
           "vpu:SGTA SGT SGT1"
          ],
          [
           "env:CALU"
          ],
          [
           "vpr:CCNT1"
          ],
          [
           "tat:CCNT1"
          ],
          [
           "tat:CCNT2"
          ],
          [
           "vif:DNAJA2 CPR3 HIRIP4"
          ],
          [
           "vpr:ANKRD17 GTAR KIAA0697"
          ],
          [
           "vpr:TULP3 TUBL3"
          ],
          [
           "gag:BANF1 BAF BCRG1"
          ],
          [
           "vif:ERAL1 HERA"
          ],
          [
           "vpr:TOM1L1 SRCASM"
          ],
          [
           "env:CRTAP CASP"
          ],
          [
           "vpr:CDC123 C10orf7 D123"
          ],
          [
           "vpu:ATP5PD ATP5H My032"
          ],
          [
           "env:CPD"
          ],
          [
           "vpu:RTN3 ASYIP NSPL2"
          ],
          [
           "vpu:SGPL1 KIAA1252"
          ],
          [
           "env:ACSL3 ACS3 FACL3 LACS3"
          ],
          [
           "vpu:ACSL3 ACS3 FACL3 LACS3"
          ],
          [
           "nef:AP2A1 ADTAA CLAPA1"
          ],
          [
           "vif:AIFM1 AIF PDCD8"
          ],
          [
           "env:ABHD16A BAT5 G5 NG26 PP199"
          ],
          [
           "env:CLPTM1"
          ],
          [
           "env:CD4"
          ],
          [
           "nef:CD4"
          ],
          [
           "vpu:CD4"
          ],
          [
           "env:APOH B2G1"
          ],
          [
           "gag:APOH B2G1"
          ],
          [
           "vpr:NR3C1 GRL"
          ],
          [
           "env:CD3D T3D"
          ],
          [
           "env:TMEM131L KIAA0922"
          ],
          [
           "env:PSMD11"
          ],
          [
           "env:PGRMC1 HPR6.6 PGRMC"
          ],
          [
           "env:NEMP1 KIAA0286 TMEM194 TMEM194A"
          ],
          [
           "env:TOR1A DQ2 DYT1 TA TORA"
          ],
          [
           "env:TM9SF1"
          ],
          [
           "env:TAPBP NGS17 TAPA"
          ],
          [
           "env:GPAA1 GAA1"
          ],
          [
           "env:ITM2A UNQ603/PRO1189"
          ],
          [
           "env:EXTL3 EXTL1L EXTR1 KIAA0519"
          ],
          [
           "env:LY75 CD205 CLEC13B"
          ],
          [
           "env:PLOD3"
          ],
          [
           "env:PRAF2 JM4"
          ],
          [
           "env:SLIT1 KIAA0813 MEGF4 SLIL1"
          ],
          [
           "env:SEC22B SEC22L1"
          ],
          [
           "env:ATP6AP2 ATP6IP2 CAPER ELDF10 HT028 MSTP009 PSEC0072"
          ],
          [
           "env:FLOT1"
          ],
          [
           "env:SUN1 KIAA0810 UNC84A"
          ],
          [
           "env:CYB5R3 DIA1"
          ],
          [
           "env:PGK1 PGKA MIG10 OK/SW-cl.110"
          ],
          [
           "env:LDLR"
          ],
          [
           "env:TRBV12-3 TCRBV12S3 TCRBV8S1"
          ],
          [
           "env:TRBC1"
          ],
          [
           "env:HLA-B HLAB"
          ],
          [
           "env:TFRC"
          ],
          [
           "env:TRGV3 TCRGV3"
          ],
          [
           "env:HLA-A HLAA"
          ],
          [
           "env:RPN1"
          ],
          [
           "env:RPN2"
          ],
          [
           "env:ITGB2 CD18 MFI7"
          ],
          [
           "env:ITGB1 FNRB MDF2 MSK12"
          ],
          [
           "env:P4HB ERBA2L PDI PDIA1 PO4DB"
          ],
          [
           "env:RHOC ARH9 ARHC"
          ],
          [
           "env:PTPRC CD45"
          ],
          [
           "env:UBB"
          ],
          [
           "env:HLA-C HLAC"
          ],
          [
           "env:IGF2R MPRI"
          ],
          [
           "env:IMPDH2 IMPD2"
          ],
          [
           "env:RNH1 PRI RNH"
          ],
          [
           "env:PDIA4 ERP70 ERP72"
          ],
          [
           "env:P4HA1 P4HA"
          ],
          [
           "env:HLA-E HLA-6.2 HLAE"
          ],
          [
           "env:PRKCSH G19P1"
          ],
          [
           "env:HSP90B1 GRP94 TRA1"
          ],
          [
           "env:RAC2"
          ],
          [
           "env:IGLL1 IGL1"
          ],
          [
           "env:POR CYPOR"
          ],
          [
           "env:PSMC3 TBP1"
          ],
          [
           "env:LMNB1 LMN2 LMNB"
          ],
          [
           "env:ITGAL CD11A"
          ],
          [
           "env:VDAC1 VDAC"
          ],
          [
           "env:ITGA6"
          ],
          [
           "env:PSMA1 HC2 NU PROS30 PSC2"
          ],
          [
           "env:PSMB6 LMPY Y"
          ],
          [
           "env:ERP29 C12orf8 ERP28"
          ],
          [
           "env:PDIA3 ERP57 ERP60 GRP58"
          ],
          [
           "env:IL2RG"
          ],
          [
           "env:ICAM3"
          ],
          [
           "env:PHB"
          ],
          [
           "env:FDFT1"
          ],
          [
           "env:DDOST KIAA0115 OST48 OK/SW-cl.45"
          ],
          [
           "env:SSR1 TRAPA PSEC0262"
          ],
          [
           "env:KIR3DL1 CD158E NKAT3 NKB1"
          ],
          [
           "env:KIR3DL2 CD158K NKAT4"
          ],
          [
           "env:VDAC2"
          ],
          [
           "env:NOTCH1 TAN1"
          ],
          [
           "env:HSPA13 STCH"
          ],
          [
           "env:LMAN1 ERGIC53 F5F8D"
          ],
          [
           "env:THBS3 TSP3"
          ],
          [
           "env:TMED10 TMP21"
          ],
          [
           "env:EMD EDMD STA"
          ],
          [
           "env:CCT8 C21orf112 CCTQ KIAA0002"
          ],
          [
           "env:RAB5C RABL"
          ],
          [
           "env:RAB7A RAB7"
          ],
          [
           "env:SSR4 TRAPD"
          ],
          [
           "env:VCP"
          ],
          [
           "env:RAB10"
          ],
          [
           "env:RAB14"
          ],
          [
           "env:SEC61A1 SEC61A"
          ],
          [
           "env:RAB11A RAB11"
          ],
          [
           "env:NUCB2 NEFA"
          ],
          [
           "env:VLDLR"
          ],
          [
           "env:PLOD1 LLH PLOD"
          ],
          [
           "env:TAP2 ABCB3 PSF2 RING11 Y1"
          ],
          [
           "env:LMAN2 C5orf8"
          ],
          [
           "env:PDIA2 PDIP"
          ],
          [
           "env:PSMD2 TRAP2"
          ],
          [
           "env:OS9"
          ],
          [
           "env:TUSC3 N33"
          ],
          [
           "env:STIM1 GOK"
          ],
          [
           "env:MOGS GCS1"
          ],
          [
           "env:RCN2 ERC55"
          ],
          [
           "env:MESD KIAA0081 MESDC2 MESDM UNQ1911/PRO4369"
          ],
          [
           "env:GANAB G2AN KIAA0088"
          ],
          [
           "env:PDIA6 ERP5 P5 TXNDC7"
          ],
          [
           "env:PON2"
          ],
          [
           "env:RCN1 RCN"
          ],
          [
           "env:P3H1 GROS1 LEPRE1 PSEC0109"
          ],
          [
           "env:nan"
          ],
          [
           "env:MIA3 KIAA0268 TANGO UNQ6077/PRO20088"
          ],
          [
           "env:TOR1AIP1 LAP1"
          ],
          [
           "env:ERAP2 LRAP"
          ],
          [
           "env:LPCAT3 MBOAT5 OACT5"
          ],
          [
           "env:TXNDC11 EFP1"
          ],
          [
           "env:IKBIP IKIP"
          ],
          [
           "env:PLD3"
          ],
          [
           "env:ITPRIP DANGER KIAA1754"
          ],
          [
           "env:EMC1 KIAA0090 PSEC0263"
          ],
          [
           "env:COLGALT1 GLT25D1 PSEC0241"
          ],
          [
           "env:SUMF2 PSEC0171 UNQ1968/PRO4500"
          ],
          [
           "env:TTC13 PSEC0076"
          ],
          [
           "env:TXNDC5 TLP46 UNQ364/PRO700"
          ],
          [
           "env:TOR1AIP2 IFRG15 LULL1"
          ],
          [
           "env:RDH11 ARSDR1 PSDR1 SDR7C1 CGI-82"
          ],
          [
           "env:STT3B SIMP"
          ],
          [
           "env:HM13 H13 IMP1 PSL3 SPP MSTP086"
          ],
          [
           "env:NUP210 KIAA0906 PSEC0245"
          ],
          [
           "env:NUP133"
          ],
          [
           "env:HSPH1 HSP105 HSP110 KIAA0201"
          ],
          [
           "env:PIGK GPI8"
          ],
          [
           "env:GLG1 CFR1 ESL1 MG160"
          ],
          [
           "env:EXT2"
          ],
          [
           "env:PIGT CGI-06 PSEC0163 UNQ716/PRO1379"
          ],
          [
           "env:ERGIC1 ERGIC32 KIAA1181 HT034"
          ],
          [
           "env:TTC17"
          ],
          [
           "env:PBXIP1 HPIP"
          ],
          [
           "env:ERLEC1 C2orf30 XTP3TPB UNQ1878/PRO4321"
          ],
          [
           "env:SEH1L SEC13L SEH1"
          ],
          [
           "env:C16orf58"
          ],
          [
           "env:ERO1A ERO1L UNQ434/PRO865"
          ],
          [
           "env:NGLY1 PNG1"
          ],
          [
           "env:TMX3 KIAA1830 TXNDC10"
          ],
          [
           "env:HHIP HIP UNQ5825/PRO19644"
          ],
          [
           "env:ERGIC2 ERV41 PTX1 CDA14"
          ],
          [
           "env:GPX7 GPX6 UNQ469/PRO828"
          ],
          [
           "env:PSMD1"
          ],
          [
           "env:SDF2"
          ],
          [
           "env:NEU1 NANH"
          ],
          [
           "env:SORT1"
          ],
          [
           "env:RNF5 G16 NG2 RMA1"
          ],
          [
           "env:ERP44 KIAA0573 TXNDC4 UNQ532/PRO1075"
          ],
          [
           "env:ESYT1 FAM62A KIAA0747 MBC2"
          ],
          [
           "env:TMEM43 UNQ2564/PRO6244"
          ],
          [
           "env:LMF2 TMEM112B TMEM153"
          ],
          [
           "env:RAB5IF C20orf24 RCAF1 PNAS-11"
          ],
          [
           "env:TMEM109"
          ],
          [
           "env:TAPBPL"
          ],
          [
           "env:FUT8"
          ],
          [
           "env:OSBPL8 KIAA1451 ORP8 OSBP10"
          ],
          [
           "env:MAGT1 IAG2 PSEC0084 UNQ628/PRO1244"
          ],
          [
           "env:SIL1 UNQ545/PRO836"
          ],
          [
           "env:TMX4 KIAA1162 TXNDC13 PSEC0095 UNQ475/PRO938"
          ],
          [
           "env:TMX1 TMX TXNDC TXNDC1 PSEC0085 UNQ235/PRO268"
          ],
          [
           "env:ACBD3 GCP60 GOCAP1 GOLPH1"
          ],
          [
           "env:TOR3A ADIR"
          ],
          [
           "env:SDF2L1 UNQ1941/PRO4424"
          ],
          [
           "env:SAR1A SAR1 SARA SARA1"
          ],
          [
           "env:SACM1L KIAA0851"
          ],
          [
           "env:TMEM38B C9orf87"
          ],
          [
           "env:QPCTL"
          ],
          [
           "env:UGGT1 GT UGCGL1 UGGT UGT1 UGTR"
          ],
          [
           "env:ERAP1 APPILS ARTS1 KIAA0525 UNQ584/PRO1154"
          ],
          [
           "env:SEL1L TSA305 UNQ128/PRO1063"
          ],
          [
           "env:SUN2 FRIGG KIAA0668 RAB5IP UNC84B"
          ],
          [
           "env:PSMD13"
          ],
          [
           "env:RUVBL2 INO80J TIP48 TIP49B CGI-46"
          ],
          [
           "env:RUVBL1 INO80H NMP238 TIP49 TIP49A"
          ],
          [
           "env:ERGIC3 C20orf47 ERV46 SDBCAG84 CGI-54 PRO0989"
          ],
          [
           "env:ITM2B BRI BRI2"
          ],
          [
           "env:HYOU1 GRP170 ORP150"
          ],
          [
           "env:SRPRB PSEC0230"
          ],
          [
           "env:PRSS21 ESP1 TEST1 UNQ266/PRO303"
          ],
          [
           "gag:SGTA SGT SGT1"
          ],
          [
           "gag:NMT2"
          ],
          [
           "gag:KIF4A KIF4"
          ],
          [
           "gag:STAU1 STAU"
          ],
          [
           "gag:PRKCA PKCA PRKACA"
          ],
          [
           "gag:PPIB CYPB"
          ],
          [
           "gag:PPIC CYPC"
          ],
          [
           "gag:KARS1 KARS KIAA0070"
          ],
          [
           "gag:RBM17 SPF45"
          ],
          [
           "gag:TSG101"
          ],
          [
           "gag:SEPSECS TRNP48"
          ],
          [
           "gag:OLA1 GTPBP9 PRO2455 PTD004"
          ],
          [
           "gag:THRAP3 BCLAF2 TRAP150"
          ],
          [
           "gag:IVNS1ABP ARA3 FLARA3 KIAA0850 KLHL39 NS1 NS1BP HSPC068"
          ],
          [
           "nef:RAF1 RAF"
          ],
          [
           "nef:HCK"
          ],
          [
           "nef:GNAO1"
          ],
          [
           "nef:SRC SRC1"
          ],
          [
           "nef:MTHFD2 NMDMC"
          ],
          [
           "nef:VAV1 VAV"
          ],
          [
           "nef:MAPK3 ERK1 PRKM3"
          ],
          [
           "nef:PIK3R1 GRB1"
          ],
          [
           "nef:PSMB4 PROS26"
          ],
          [
           "nef:NMT1 NMT"
          ],
          [
           "nef:SDHA SDH2 SDHF"
          ],
          [
           "nef:VAV2"
          ],
          [
           "nef:PRKCQ PRKCT"
          ],
          [
           "nef:PAK1"
          ],
          [
           "nef:PAK2"
          ],
          [
           "nef:TNIP1 KIAA0113 NAF1"
          ],
          [
           "nef:PACS1 KIAA1175"
          ],
          [
           "nef:MAP3K5 ASK1 MAPKKK5 MEKK5"
          ],
          [
           "nef:MTCH1 PSAP CGI-64 UNQ1871/PRO4314"
          ],
          [
           "nef:ATP6V1H CGI-11"
          ],
          [
           "tat:TCERG1 CA150 TAF2S"
          ],
          [
           "tat:PSMA7 HSPC"
          ],
          [
           "tat:TP73 P73"
          ],
          [
           "tat:PPM1G PPM1C"
          ],
          [
           "tat:AHCYL1 DCAL IRBIT XPVKONA"
          ],
          [
           "tat:RNGTT CAP1A"
          ],
          [
           "tat:NPM3"
          ],
          [
           "tat:ZBTB7A FBI1 LRF ZBTB7 ZNF857A"
          ],
          [
           "tat:MMP1 CLG"
          ],
          [
           "tat:TUBB4A TUBB4 TUBB5"
          ],
          [
           "tat:NPM1 NPM"
          ],
          [
           "tat:ITGAV MSK8 VNRA VTNR"
          ],
          [
           "tat:THBS1 TSP TSP1"
          ],
          [
           "tat:SP1 TSFP1"
          ],
          [
           "tat:PARP1 ADPRT PPOL"
          ],
          [
           "tat:THRA EAR7 ERBA1 NR1A1 THRA1 THRA2"
          ],
          [
           "tat:PCNA"
          ],
          [
           "tat:GTF2F2 RAP30"
          ],
          [
           "tat:PSMC3 TBP1"
          ],
          [
           "tat:ITGB5"
          ],
          [
           "tat:TBP GTF2D1 TF2D TFIID"
          ],
          [
           "tat:PSMB1 PSC5"
          ],
          [
           "tat:TAF1 BA2R CCG1 CCGS TAF2A"
          ],
          [
           "tat:POLR2A POLR2"
          ],
          [
           "tat:PSMA2 HC3 PSC3"
          ],
          [
           "tat:PSMA4 HC9 PSC9"
          ],
          [
           "tat:PSMB8 LMP7 PSMB5i RING10 Y2"
          ],
          [
           "tat:PSMB6 LMPY Y"
          ],
          [
           "tat:PSMB5 LMPX MB1 X"
          ],
          [
           "tat:GTF2E1 TF2E1"
          ],
          [
           "tat:GTF2E2 TF2E2"
          ],
          [
           "tat:GTF2H1 BTF2"
          ],
          [
           "tat:GTF2F1 RAP74"
          ],
          [
           "tat:KDR FLK1 VEGFR2"
          ],
          [
           "tat:PSMC2 MSS1"
          ],
          [
           "tat:PSMB10 LMP10 MECL1"
          ],
          [
           "tat:STAT1"
          ],
          [
           "tat:PSMC4 MIP224 TBP7"
          ],
          [
           "tat:PSMB2"
          ],
          [
           "tat:SMARCA2 BAF190B BRM SNF2A SNF2L2"
          ],
          [
           "tat:USP11 UHX1"
          ],
          [
           "tat:SUB1 PC4 RPO2TC1"
          ],
          [
           "tat:PSMC5 SUG1"
          ],
          [
           "tat:RPL24"
          ],
          [
           "tat:SMAD3 MADH3"
          ],
          [
           "tat:GTF2B TF2B TFIIB"
          ],
          [
           "tat:PURA PUR1"
          ],
          [
           "tat:NOTCH2"
          ],
          [
           "tat:LRP1 A2MR APR"
          ],
          [
           "tat:RBL2 RB2"
          ],
          [
           "tat:TRIM32 HT2A"
          ],
          [
           "tat:NFATC2 NFAT1 NFATP"
          ],
          [
           "tat:SMAD4 DPC4 MADH4"
          ],
          [
           "tat:GTF2H3"
          ],
          [
           "tat:NCOA2 BHLHE75 SRC2 TIF2"
          ],
          [
           "tat:NCOA1 BHLHE74 SRC1"
          ],
          [
           "tat:LARP7 HDCMA18P"
          ],
          [
           "tat:MEPCE BCDIN3"
          ],
          [
           "tat:ZNF579"
          ],
          [
           "tat:KAT2A GCN5 GCN5L2"
          ],
          [
           "tat:TNPO1 KPNB2 MIP1 TRN"
          ],
          [
           "tat:KAT5 HTATIP TIP60"
          ],
          [
           "tat:SIRT1 SIR2L1"
          ],
          [
           "tat:AHCYL2 KIAA0828"
          ],
          [
           "tat:ZFP91 ZNF757 FKSG11"
          ],
          [
           "tat:PSMB7 Z"
          ],
          [
           "tat:NAP1L4 NAP2"
          ],
          [
           "tat:UBE2O KIAA1734"
          ],
          [
           "tat:TCF7L2 TCF4"
          ],
          [
           "tat:SRRM2 KIAA0324 SRL300 SRM300 HSPC075"
          ],
          [
           "tat:NCOA3 AIB1 BHLHE42 RAC3 TRAM1"
          ],
          [
           "rev:XPO1 CRM1"
          ],
          [
           "rev:KIF21B KIAA0449"
          ],
          [
           "rev:LMNA LMN1"
          ],
          [
           "rev:NPM1 NPM"
          ],
          [
           "rev:NUP214 CAIN CAN KIAA0023"
          ],
          [
           "rev:TMED10 TMP21"
          ],
          [
           "rev:KPNA2 RCH1 SRP1"
          ],
          [
           "rev:NUP98 ADAR2"
          ],
          [
           "rev:RPS27A UBA80 UBCEP1"
          ],
          [
           "rev:MRPS9 RPMS9"
          ],
          [
           "rev:SSBP1 SSBP"
          ],
          [
           "rev:KHDRBS1 SAM68"
          ],
          [
           "rev:IK RED RER"
          ],
          [
           "rev:KIF22 KID KNSL4"
          ],
          [
           "rev:KPNB1 NTF97"
          ],
          [
           "rev:SMU1"
          ],
          [
           "rev:TMED4 ERS25"
          ],
          [
           "rev:SPATS2 SCR59 SPATA10 Nbla00526"
          ],
          [
           "rev:MITD1"
          ],
          [
           "rev:TNPO1 KPNB2 MIP1 TRN"
          ],
          [
           "rev:TMED9 GP25L2"
          ],
          [
           "rev:MRS2 HPT MRS2L"
          ],
          [
           "rev:MRPS28 MRPS35 HSPC007"
          ],
          [
           "rev:MRPL42 MRPL31 MRPS32 RPML31 HSPC204 PTD007"
          ],
          [
           "vif:HSPB1 HSP27 HSP28"
          ],
          [
           "env:APP A4 AD1"
          ],
          [
           "nef:FYN"
          ],
          [
           "tat:CDK1 CDC2 CDC28A CDKN1 P34CDC2"
          ],
          [
           "vpu:ATP5F1B ATP5B ATPMB ATPSB"
          ],
          [
           "env:CTSD CPSD"
          ],
          [
           "gag:ANXA2 ANX2 ANX2L4 CAL1H LPC2D"
          ],
          [
           "env:CAPN1 CANPL1 PIG30"
          ],
          [
           "env:CD3E T3E"
          ],
          [
           "vif:HSP90AA1 HSP90A HSPC1 HSPCA"
          ],
          [
           "vpr:SP1 TSFP1"
          ],
          [
           "tat:FURIN FUR PACE PCSK3"
          ],
          [
           "vif:HSPA1A HSP72 HSPA1 HSX70"
          ],
          [
           "tat:GLI2 THP"
          ],
          [
           "tat:NR2F1 EAR3 ERBAL3 TFCOUP1"
          ],
          [
           "vif:HSPD1 HSP60"
          ],
          [
           "env:HSPA5 GRP78"
          ],
          [
           "tat:HSPA5 GRP78"
          ],
          [
           "tat:HSPA8 HSC70 HSP73 HSPA10"
          ],
          [
           "vif:HSPA8 HSC70 HSP73 HSPA10"
          ],
          [
           "tat:EGR2 KROX20"
          ],
          [
           "tat:CDK4"
          ],
          [
           "vpr:SLC25A4 ANT1"
          ],
          [
           "vpr:UNG DGU UNG1 UNG15"
          ],
          [
           "env:COX4I1 COX4"
          ],
          [
           "vpu:ICAM2"
          ],
          [
           "nef:GATA1 ERYF1 GF1"
          ],
          [
           "env:ATP2A2 ATP2B"
          ],
          [
           "vpr:TMEM11 C17orf35 PM1"
          ],
          [
           "tat:CEBPB TCF5 PP9092"
          ],
          [
           "tat:EGR1 KROX24 ZNF225"
          ],
          [
           "vpu:ATP5PF ATP5A ATP5J ATPM"
          ],
          [
           "gag:EIF2AK2 PKR PRKR"
          ],
          [
           "tat:EIF2AK2 PKR PRKR"
          ],
          [
           "rev:CSNK2A2 CK2A2"
          ],
          [
           "vpu:ATP2B1 PMCA1"
          ],
          [
           "vpr:TBP GTF2D1 TF2D TFIID"
          ],
          [
           "tat:CCNA2 CCN1 CCNA"
          ],
          [
           "nef:CD247 CD3Z T3Z TCRZ"
          ],
          [
           "vpr:COMT"
          ],
          [
           "vpr:CCNO"
          ],
          [
           "nef:GATA3"
          ],
          [
           "vpu:ATP5PB ATP5F1"
          ],
          [
           "nef:DNAJB1 DNAJ1 HDJ1 HSPF1"
          ],
          [
           "vpu:MSN"
          ],
          [
           "vpr:YWHAQ"
          ],
          [
           "env:CALR CRTC"
          ],
          [
           "env:CANX"
          ],
          [
           "vpr:ABCD3 PMP70 PXMP1"
          ],
          [
           "tat:GRN"
          ],
          [
           "rev:MPG AAG ANPG MID1"
          ],
          [
           "vpu:ATP5F1D ATP5D"
          ],
          [
           "tat:CCND3"
          ],
          [
           "vpr:CDC25C"
          ],
          [
           "vif:DNAJA1 DNAJ2 HDJ2 HSJ2 HSPF4"
          ],
          [
           "tat:HNRNPH3 HNRPH3"
          ],
          [
           "nef:CD80 CD28LG CD28LG1 LAB7"
          ],
          [
           "vpr:USP6 HRP1 TRE2"
          ],
          [
           "tat:FBN2"
          ],
          [
           "env:COPB2"
          ],
          [
           "tat:DDIT3 CHOP CHOP10 GADD153"
          ],
          [
           "vif:AHR BHLHE76"
          ],
          [
           "vif:HADHA HADH"
          ],
          [
           "vpu:HADHA HADH"
          ],
          [
           "nef:CD86 CD28LG2"
          ],
          [
           "vpu:NCAPD3 CAPD3 KIAA0056"
          ],
          [
           "vpu:LRPPRC LRP130"
          ],
          [
           "nef:CDKN2A CDKN2 MTS1"
          ],
          [
           "vpr:MATR3 KIAA0723"
          ],
          [
           "vpu:RANBP1"
          ],
          [
           "vif:BAG6 BAT3 G3"
          ],
          [
           "vpu:ATP5PO ATP5O ATPO"
          ],
          [
           "vif:FASN FAS"
          ],
          [
           "env:TUFM"
          ],
          [
           "vpu:RANBP2 NUP358"
          ],
          [
           "tat:CDK7 CAK CAK1 CDKN7 MO15 STK1"
          ],
          [
           "tat:CDK9 CDC2L4 TAK"
          ],
          [
           "vpr:STAT5B"
          ],
          [
           "tat:AFF1 AF4 FEL MLLT2 PBM1"
          ],
          [
           "vpr:KPNA2 RCH1 SRP1"
          ],
          [
           "vpr:KPNA1 RCH2"
          ],
          [
           "rev:AGFG1 HRB RAB RIP"
          ],
          [
           "nef:COPB1 COPB MSTP026"
          ],
          [
           "env:CTSC CPPI"
          ],
          [
           "env:ATP1B3"
          ],
          [
           "vpr:RAD23A"
          ],
          [
           "vpr:RAD23B"
          ],
          [
           "vpu:HADHB MSTP029"
          ],
          [
           "env:CTSW"
          ],
          [
           "vpr:CTBP2"
          ],
          [
           "vpr:GEMIN4"
          ],
          [
           "tat:CXCR4"
          ],
          [
           "vpr:COPS2 CSN2 TRIP15"
          ],
          [
           "gag:ABCE1 RLI RNASEL1 RNASELI RNS4I OK/SW-cl.40"
          ],
          [
           "vif:ABCE1 RLI RNASEL1 RNASELI RNS4I OK/SW-cl.40"
          ],
          [
           "vpr:PSME3"
          ],
          [
           "vpr:POLR2G RPB7"
          ],
          [
           "nef:AP2B1 ADTB2 CLAPB1"
          ],
          [
           "vpu:SKP1 EMC19 OCP2 SKP1A TCEB1L"
          ],
          [
           "rev:CSNK2B CK2N G5A"
          ],
          [
           "rev:CSNK2A1 CK2A1"
          ],
          [
           "vif:PFAS KIAA0361"
          ],
          [
           "vif:NRDC NRD1"
          ],
          [
           "vif:TFRC"
          ],
          [
           "vif:TCP1 CCT1 CCTA"
          ],
          [
           "vif:GART PGFT PRGS"
          ],
          [
           "vif:POLR2A POLR2"
          ],
          [
           "vif:CAD"
          ],
          [
           "vif:POLR2B"
          ],
          [
           "vif:CCT6A CCT6 CCTZ"
          ],
          [
           "vif:MAP1B"
          ],
          [
           "vif:CCT5 CCTE KIAA0098"
          ],
          [
           "vif:CCT3 CCTG TRIC5"
          ],
          [
           "vif:CCT8 C21orf112 CCTQ KIAA0002"
          ],
          [
           "vif:CCT4 CCTD SRB"
          ],
          [
           "vif:KIF11 EG5 KNSL1 TRIP5"
          ],
          [
           "vif:CCT2 99D8.1 CCTB"
          ],
          [
           "vif:SLFN5"
          ],
          [
           "vif:NACA HSD48"
          ],
          [
           "vif:CBFB"
          ],
          [
           "vif:KIF26B"
          ],
          [
           "vif:KIAA1217 SKT"
          ],
          [
           "vif:MTR"
          ],
          [
           "vif:CCT7 CCTH NIP7-1"
          ],
          [
           "vif:WDR6"
          ],
          [
           "vif:IARS2"
          ],
          [
           "vpu:CNTNAP1 CASPR NRXN4"
          ],
          [
           "tat:CCNA1"
          ],
          [
           "vpu:PRKDC HYRC HYRC1"
          ],
          [
           "env:ADAM17 CSVP TACE"
          ],
          [
           "nef:ARF1"
          ],
          [
           "vpr:GTF2B TF2B TFIIB"
          ],
          [
           "vif:IL9R"
          ],
          [
           "tat:MLLT1 ENL LTG19 YEATS1"
          ],
          [
           "vpr:YWHAH YWHA1"
          ],
          [
           "tat:EGR3 PILOT"
          ],
          [
           "tat:C1QBP GC1QBP HABP1 SF2P32"
          ],
          [
           "rev:C1QBP GC1QBP HABP1 SF2P32"
          ],
          [
           "env:CKAP4"
          ],
          [
           "gag:DHX9 DDX9 LKP NDH2"
          ],
          [
           "vpr:EP300 P300"
          ],
          [
           "tat:EP300 P300"
          ],
          [
           "nef:AP1B1 ADTB1 BAM22 CLAPB2"
          ],
          [
           "env:ASPH BAH"
          ],
          [
           "vpr:GPS1 COPS1 CSN1"
          ],
          [
           "env:CHAF1B CAF1A CAF1P60 MPHOSPH7 MPP7"
          ],
          [
           "env:DNAJC3 P58IPK PRKRI"
          ],
          [
           "vpr:DYNC1I2 DNCI2 DNCIC2"
          ],
          [
           "vpr:SF3B2 SAP145"
          ],
          [
           "vpr:CUL1"
          ],
          [
           "vpu:CUL1"
          ],
          [
           "vif:CUL2"
          ],
          [
           "vpr:CUL4A"
          ],
          [
           "vpr:MOGS GCS1"
          ],
          [
           "vpr:DYNC1H1 DHC1 DNCH1 DNCL DNECL DYHC KIAA0325"
          ],
          [
           "env:DSC3 CDHF3 DSC4"
          ],
          [
           "vpr:KARS1 KARS KIAA0070"
          ],
          [
           "vpu:PTGES3 P23 TEBP"
          ],
          [
           "vif:ELOC TCEB1"
          ],
          [
           "vif:ELOB TCEB2"
          ],
          [
           "env:DHCR24 KIAA0018"
          ],
          [
           "env:CHI3L2"
          ],
          [
           "vpu:NEDD8"
          ],
          [
           "tat:E2F4"
          ],
          [
           "vpr:PDCD2 RP8 ZMYND7"
          ],
          [
           "vpr:DDB1 XAP1"
          ],
          [
           "vif:DDB1 XAP1"
          ],
          [
           "vpu:PPP2R5E"
          ],
          [
           "vpr:RBBP7 RBAP46"
          ],
          [
           "vpr:SMN1 SMN SMNT SMN2 SMNC"
          ],
          [
           "vpr:DPY19L1 GA0500 KIAA0877"
          ],
          [
           "env:HSD17B12 SDR12C1"
          ],
          [
           "vpu:HSD17B12 SDR12C1"
          ],
          [
           "vpr:SMUG1"
          ],
          [
           "vpr:CEP170 FAM68A KAB KIAA0470"
          ],
          [
           "vif:CEP170 FAM68A KAB KIAA0470"
          ],
          [
           "rev:GPATCH4 GPATC4"
          ],
          [
           "vpr:ACBD5 KIAA1996"
          ],
          [
           "vpu:ATAD3B KIAA1273 TOB3"
          ],
          [
           "vpr:DCAF8 H326 WDR42A"
          ],
          [
           "vif:CDKAL1"
          ],
          [
           "vpu:RNF213 ALO17 C17orf27 KIAA1554 KIAA1618 MYSTR"
          ],
          [
           "env:ATL3"
          ],
          [
           "vif:CARMIL2 LRRC16C RLTPR"
          ],
          [
           "vpu:SLC27A4 ACSVL4 FATP4"
          ],
          [
           "vpu:EDC4 HEDLS"
          ],
          [
           "vif:MTHFD1L FTHFSDC1"
          ],
          [
           "vpr:DPY19L3"
          ],
          [
           "vpr:COPS6 CSN6 HVIP"
          ],
          [
           "vif:HUWE1 KIAA0312 KIAA1578 UREB1 HSPC272"
          ],
          [
           "vpu:PIP4P1 C14orf9 TMEM55B"
          ],
          [
           "vpu:CEP57 KIAA0092 TSP57"
          ],
          [
           "vif:HPS6"
          ],
          [
           "gag:APOBEC3F"
          ],
          [
           "vpr:ANKHD1 KIAA1085 MASK VBARP PP2500"
          ],
          [
           "env:DNAJC10 ERDJ5 UNQ495/PRO1012"
          ],
          [
           "vpu:TMEM192"
          ],
          [
           "vpr:ANKRD13A ANKRD13"
          ],
          [
           "vif:CCAR2 DBC1 KIAA1967"
          ],
          [
           "tat:FAM98A"
          ],
          [
           "vpu:DAGLB"
          ],
          [
           "env:CNNM3 ACDP3"
          ],
          [
           "vpu:TBC1D15"
          ],
          [
           "vpr:DCAF11 WDR23 GL014 PRO2389"
          ],
          [
           "vpr:GEMIN6"
          ],
          [
           "rev:DDX1"
          ],
          [
           "vpr:CREBBP CBP"
          ],
          [
           "tat:CREBBP CBP"
          ],
          [
           "vpr:COPS5 CSN5 JAB1"
          ],
          [
           "env:ATP2A3"
          ],
          [
           "vpr:RAB24"
          ],
          [
           "nef:ERGIC1 ERGIC32 KIAA1181 HT034"
          ],
          [
           "vpu:TBRG4 CPR2 FASTKD4 KIAA0948"
          ],
          [
           "vpr:CCDC47 GK001 MSTP041 PSEC0077"
          ],
          [
           "nef:EXOC4 KIAA1699 SEC8 SEC8L1"
          ],
          [
           "rev:CHCHD1 C10orf34 MRPS37"
          ],
          [
           "env:CTHRC1 UNQ762/PRO1550"
          ],
          [
           "vpu:GIMAP5 IAN4L1 IAN5 IMAP3"
          ],
          [
           "vpu:CERS2 LASS2 TMSG1"
          ],
          [
           "env:CLPTM1L CRR9"
          ],
          [
           "tat:PRMT6 HRMT1L6"
          ],
          [
           "vpu:IPO9 IMP9 KIAA1192 RANBP9 HSPC273"
          ],
          [
           "vpr:NEDD4L KIAA0439 NEDL3"
          ],
          [
           "vpr:COPS8 CSN8"
          ],
          [
           "vpu:CHP1 CHP"
          ],
          [
           "tat:CDC6 CDC18L"
          ],
          [
           "gag:PRMT1 HMT2 HRMT1L2 IR1B4"
          ],
          [
           "env:CLSTN3 CS3 KIAA0726"
          ],
          [
           "env:SDF4 CAB45 PSEC0034"
          ],
          [
           "vpr:COPS4 CSN4"
          ],
          [
           "tat:HTATIP2 CC3 TIP30"
          ],
          [
           "vpr:DDA1 C19orf58 PCIA1"
          ],
          [
           "env:CHID1 GL008 PSEC0104 SB139"
          ],
          [
           "env:AP1M1 CLTNM"
          ],
          [
           "nef:AP1M1 CLTNM"
          ],
          [
           "env:EDEM3 C1orf22"
          ],
          [
           "vif:AMBRA1 KIAA1736"
          ],
          [
           "vpu:XPO4 KIAA1721"
          ],
          [
           "tat:BCL11B CTIP2 RIT1"
          ],
          [
           "vpu:SLIRP C14orf156 DC23 DC50 PD04872"
          ],
          [
           "vpr:GOLPH3 GPP34"
          ],
          [
           "vpr:GEMIN7"
          ],
          [
           "vpu:XPO5 KIAA1291 RANBP21"
          ],
          [
           "vpu:PREB SEC12"
          ],
          [
           "env:APMAP C20orf3 UNQ1869/PRO4305"
          ],
          [
           "vpu:RTN4 KIAA0886 NOGO My043 SP1507"
          ],
          [
           "vpr:ABCB10"
          ],
          [
           "vpu:ATAD3A"
          ],
          [
           "env:CLN6"
          ],
          [
           "vpr:TMEM160"
          ],
          [
           "tat:DCAF16 C4orf30"
          ],
          [
           "env:CHPF2 CHSY3 CSGLCAT KIAA1402 UNQ299/PRO339"
          ],
          [
           "vpu:ATXN10 SCA10"
          ],
          [
           "env:DHCR7 D7SR"
          ],
          [
           "env:DNAJB11 EDJ ERJ3 HDJ9 PSEC0121 UNQ537/PRO1080"
          ],
          [
           "tat:AFF4 AF5Q31 MCEF HSPC092"
          ],
          [
           "env:EGFL7 MEGF7 UNQ187/PRO1449"
          ],
          [
           "vpr:DDX20 DP103 GEMIN3"
          ],
          [
           "vpu:CYB5R1 NQO3A2 UNQ3049/PRO9865"
          ],
          [
           "tat:FBXO3 FBX3"
          ],
          [
           "vpu:FBXW11 BTRCP2 FBW1B FBXW1B KIAA0696"
          ],
          [
           "vif:IKZF3 ZNFN1A3"
          ],
          [
           "env:ANGPTL2 ARP2 UNQ170/PRO196"
          ],
          [
           "vpr:COPS3 CSN3"
          ],
          [
           "vpr:SMC3 BAM BMH CSPG6 SMC3L1"
          ],
          [
           "vpu:BTRC BTRCP FBW1A FBXW1A"
          ],
          [
           "nef:AP3M1"
          ],
          [
           "vpr:DCAF1 KIAA0800 RIP VPRBP"
          ],
          [
           "tat:CTDP1 FCP1"
          ],
          [
           "vpr:MTCH2 MIMP HSPC032"
          ],
          [
           "vpu:ARFGEF2 ARFGEP2 BIG2"
          ],
          [
           "vpu:ARFGEF1 ARFGEP1 BIG1"
          ],
          [
           "vpr:DYNC1LI1 DNCLI1"
          ],
          [
           "gag:DDX49"
          ]
         ],
         "hovertemplate": "virus=hiv<br>PCA1=%{x}<br>PCA2=%{y}<br>PPI=%{customdata[0]}<extra></extra>",
         "legendgroup": "hiv",
         "marker": {
          "color": "#636efa",
          "symbol": "circle"
         },
         "mode": "markers",
         "name": "hiv",
         "showlegend": true,
         "type": "scattergl",
         "x": [
          -4.678488254547119,
          -5.097402572631836,
          -17.21784019470215,
          -18.849889755249023,
          14.605053901672363,
          5.543182849884033,
          -10.073381423950195,
          13.097994804382324,
          14.10258674621582,
          -9.983826637268066,
          -18.026060104370117,
          -17.890504837036133,
          11.11054801940918,
          -9.944112777709961,
          0.030610710382461548,
          -10.70224380493164,
          11.430657386779785,
          -17.327829360961914,
          -1.2478954792022705,
          -0.6653686761856079,
          -15.508380889892578,
          -17.054636001586914,
          -17.645050048828125,
          5.294283390045166,
          -16.407148361206055,
          -16.729990005493164,
          14.090690612792969,
          -17.8236083984375,
          -9.270844459533691,
          14.053568840026855,
          -10.20340633392334,
          -10.12548542022705,
          13.503947257995605,
          -9.925216674804688,
          13.619173049926758,
          -16.00754165649414,
          11.620513916015625,
          11.491463661193848,
          10.025909423828125,
          13.120980262756348,
          -9.72327995300293,
          9.097352027893066,
          5.472610950469971,
          -17.358774185180664,
          9.756175994873047,
          12.462614059448242,
          13.444859504699707,
          6.983264446258545,
          8.846700668334961,
          8.818320274353027,
          8.505608558654785,
          10.21151065826416,
          9.38293170928955,
          9.703424453735352,
          12.626996040344238,
          14.38340950012207,
          9.251022338867188,
          8.361831665039062,
          14.463075637817383,
          11.445517539978027,
          11.054521560668945,
          9.358965873718262,
          11.662725448608398,
          9.64120864868164,
          9.748034477233887,
          15.418973922729492,
          7.602788925170898,
          9.646249771118164,
          11.358176231384277,
          13.501440048217773,
          9.576263427734375,
          11.589240074157715,
          9.455679893493652,
          11.466765403747559,
          13.137459754943848,
          13.106985092163086,
          12.66651439666748,
          7.948409557342529,
          14.109460830688477,
          7.681097507476807,
          11.844937324523926,
          14.43529987335205,
          11.553301811218262,
          12.896923065185547,
          7.411796569824219,
          14.385870933532715,
          11.750093460083008,
          7.155275344848633,
          7.100006580352783,
          10.717369079589844,
          9.293863296508789,
          14.286430358886719,
          14.242610931396484,
          7.621729850769043,
          11.214941024780273,
          13.23443603515625,
          12.83790397644043,
          11.159321784973145,
          8.184314727783203,
          9.352296829223633,
          14.504232406616211,
          8.583341598510742,
          11.224366188049316,
          10.33864974975586,
          11.756368637084961,
          9.546548843383789,
          7.3237504959106445,
          8.456011772155762,
          8.54171371459961,
          13.201422691345215,
          12.610824584960938,
          11.903136253356934,
          12.715531349182129,
          13.371528625488281,
          8.445825576782227,
          7.779633045196533,
          11.63227653503418,
          8.965540885925293,
          10.63658332824707,
          9.174623489379883,
          14.590860366821289,
          8.579145431518555,
          8.306612014770508,
          9.229532241821289,
          10.976408004760742,
          10.974106788635254,
          15.6880464553833,
          13.296415328979492,
          11.204051971435547,
          9.290441513061523,
          10.198359489440918,
          11.584745407104492,
          7.173778533935547,
          8.714068412780762,
          14.63802433013916,
          10.38016414642334,
          11.457792282104492,
          7.733980655670166,
          12.51513385772705,
          9.874314308166504,
          12.037940979003906,
          11.36784839630127,
          14.185458183288574,
          8.738726615905762,
          14.674724578857422,
          15.76554012298584,
          12.341096878051758,
          9.602069854736328,
          12.466127395629883,
          13.584356307983398,
          13.416428565979004,
          10.939692497253418,
          11.586304664611816,
          9.832289695739746,
          11.829147338867188,
          12.360750198364258,
          11.778825759887695,
          14.39822769165039,
          8.234164237976074,
          11.177946090698242,
          8.724715232849121,
          13.418566703796387,
          13.257570266723633,
          15.25576400756836,
          10.902928352355957,
          15.12935733795166,
          12.293200492858887,
          10.999820709228516,
          8.160719871520996,
          14.040294647216797,
          15.445545196533203,
          13.044394493103027,
          13.301628112792969,
          10.978704452514648,
          11.884773254394531,
          11.771256446838379,
          11.81682014465332,
          13.073908805847168,
          10.223078727722168,
          8.545632362365723,
          11.795282363891602,
          7.008707046508789,
          11.52185344696045,
          14.074345588684082,
          8.269979476928711,
          10.356467247009277,
          12.114190101623535,
          10.770910263061523,
          10.665159225463867,
          8.04399585723877,
          9.171308517456055,
          11.0400972366333,
          15.024483680725098,
          12.516578674316406,
          10.210695266723633,
          12.529950141906738,
          7.033471584320068,
          10.735090255737305,
          7.036540985107422,
          8.168712615966797,
          6.944910526275635,
          8.658368110656738,
          12.730122566223145,
          9.279399871826172,
          8.301382064819336,
          14.345402717590332,
          12.408363342285156,
          13.544218063354492,
          13.840646743774414,
          13.189924240112305,
          12.742074012756348,
          13.008964538574219,
          12.478286743164062,
          11.574407577514648,
          14.887041091918945,
          9.997892379760742,
          8.697229385375977,
          5.376606464385986,
          5.51010799407959,
          5.547279357910156,
          5.451798915863037,
          5.511174201965332,
          5.332199573516846,
          5.356423854827881,
          5.440101146697998,
          5.356382369995117,
          5.559782981872559,
          5.44596004486084,
          5.410155773162842,
          5.27145528793335,
          5.454208850860596,
          13.63617992401123,
          13.96442985534668,
          13.142851829528809,
          13.725460052490234,
          12.765942573547363,
          13.54198932647705,
          13.792030334472656,
          13.867145538330078,
          12.850754737854004,
          14.33357048034668,
          13.163719177246094,
          14.065848350524902,
          14.166162490844727,
          13.311637878417969,
          13.55497932434082,
          13.779732704162598,
          12.99898624420166,
          14.053096771240234,
          12.792996406555176,
          13.654054641723633,
          -0.4685608446598053,
          0.4027565121650696,
          -0.983265221118927,
          0.09704437851905823,
          -0.7815797328948975,
          -0.78114253282547,
          0.31163281202316284,
          0.37568020820617676,
          -2.435250997543335,
          -0.785334587097168,
          0.25138747692108154,
          -1.625998854637146,
          -1.2140527963638306,
          -0.640714704990387,
          -1.587302327156067,
          -1.9647927284240723,
          -0.21236447989940643,
          1.6474329233169556,
          -2.899266481399536,
          -1.8252214193344116,
          0.2840183675289154,
          0.8886281251907349,
          -1.7288202047348022,
          -0.04115127772092819,
          0.7504802346229553,
          -0.20499634742736816,
          0.9845332503318787,
          0.7836347222328186,
          0.8248301148414612,
          -0.08113088458776474,
          -0.9807450175285339,
          -1.274533748626709,
          -0.8549946546554565,
          -1.8212690353393555,
          -3.25882625579834,
          0.4323490560054779,
          -2.7073776721954346,
          -3.0442888736724854,
          -1.0097161531448364,
          -1.7991063594818115,
          -1.7527610063552856,
          -0.2389334887266159,
          -3.18743896484375,
          1.1470401287078857,
          -1.6854515075683594,
          0.7633031606674194,
          0.38102734088897705,
          -1.0239522457122803,
          -1.2153966426849365,
          -1.7585701942443848,
          -1.0307612419128418,
          -1.5502376556396484,
          -1.0646090507507324,
          -1.9584569931030273,
          -2.570364475250244,
          -2.597618579864502,
          -0.32955989241600037,
          0.17524302005767822,
          0.20743030309677124,
          -1.8106739521026611,
          -0.7951478958129883,
          -2.0849738121032715,
          -0.13637080788612366,
          -0.3203873336315155,
          -0.6157997846603394,
          0.7143563628196716,
          -0.060328807681798935,
          -1.2637979984283447,
          -1.1007598638534546,
          -0.2943602204322815,
          -1.0656490325927734,
          -7.990847587585449,
          -8.788175582885742,
          -8.366665840148926,
          -7.233728408813477,
          -7.935461521148682,
          -7.556992530822754,
          -8.25446891784668,
          -8.154626846313477,
          -7.338092803955078,
          -8.678074836730957,
          -7.492467880249023,
          -7.468046188354492,
          -7.362514495849609,
          -8.360264778137207,
          -8.321181297302246,
          -8.79029369354248,
          -7.973897933959961,
          -8.260908126831055,
          -7.994604110717773,
          -7.667781352996826,
          -7.9997687339782715,
          -7.792464256286621,
          -7.91611385345459,
          -7.806920051574707,
          -15.620468139648438,
          14.857590675354004,
          13.505967140197754,
          -2.232778787612915,
          -10.22832202911377,
          10.871549606323242,
          5.428023338317871,
          15.016084671020508,
          10.64307689666748,
          -17.217607498168945,
          -16.315401077270508,
          -0.841903567314148,
          -16.173492431640625,
          -0.909288227558136,
          -0.6543888449668884,
          -15.950799942016602,
          10.03290843963623,
          0.12351761013269424,
          0.09766530990600586,
          -16.135990142822266,
          -0.26501598954200745,
          -0.10092520713806152,
          -17.17135238647461,
          -16.255783081054688,
          10.388557434082031,
          -10.292815208435059,
          12.83591365814209,
          13.553544044494629,
          -16.18018341064453,
          0.03918569162487984,
          -0.2873072624206543,
          -9.999908447265625,
          5.461798667907715,
          -2.818653106689453,
          -8.6211576461792,
          -10.096135139465332,
          -17.219345092773438,
          -1.5712836980819702,
          12.668270111083984,
          -16.992191314697266,
          -16.697128295898438,
          12.8199462890625,
          -10.004415512084961,
          13.525422096252441,
          -11.052250862121582,
          -19.35938262939453,
          7.161471366882324,
          7.005467891693115,
          -17.267620086669922,
          0.6850526332855225,
          -8.394327163696289,
          -10.271210670471191,
          -0.6606769561767578,
          -17.845619201660156,
          -15.703811645507812,
          0.7899482846260071,
          13.189369201660156,
          -17.494558334350586,
          -0.926969587802887,
          14.762346267700195,
          0.08180007338523865,
          -17.33320426940918,
          -16.03004264831543,
          -10.321538925170898,
          13.16230583190918,
          -10.140663146972656,
          -10.03265380859375,
          12.637672424316406,
          -17.506616592407227,
          -9.461133003234863,
          -16.34992027282715,
          -10.796102523803711,
          -16.512418746948242,
          11.3468599319458,
          -10.086835861206055,
          -1.9051984548568726,
          -2.536072254180908,
          -17.347349166870117,
          -1.624137043952942,
          -16.85136604309082,
          -17.696443557739258,
          -7.850754737854004,
          13.776087760925293,
          11.659497261047363,
          9.573043823242188,
          -16.74301528930664,
          -17.0794677734375,
          -10.340694427490234,
          11.317778587341309,
          -16.91244125366211,
          -17.287979125976562,
          -0.2856094241142273,
          -18.42136001586914,
          5.483303546905518,
          -16.455785751342773,
          -17.866636276245117,
          -17.174325942993164,
          13.758548736572266,
          -9.411139488220215,
          -7.875292778015137,
          -8.388449668884277,
          -16.086557388305664,
          -16.82186508178711,
          -16.880687713623047,
          -16.247217178344727,
          -16.097248077392578,
          -16.011642456054688,
          -16.401012420654297,
          -17.104690551757812,
          -15.990028381347656,
          -17.295055389404297,
          -16.05301284790039,
          -16.865388870239258,
          -16.123130798339844,
          -16.5256404876709,
          -17.635967254638672,
          -16.075895309448242,
          -16.598276138305664,
          -17.135196685791016,
          -14.975157737731934,
          -17.169750213623047,
          -17.649431228637695,
          -16.518056869506836,
          -16.03510093688965,
          -16.25947380065918,
          -16.93552017211914,
          -10.000123977661133,
          -2.093933343887329,
          -10.070782661437988,
          14.701316833496094,
          13.296777725219727,
          -18.66680335998535,
          -16.557292938232422,
          -1.4968796968460083,
          -19.353639602661133,
          -2.1611852645874023,
          -3.1391825675964355,
          -8.520097732543945,
          9.178767204284668,
          5.43497371673584,
          -16.374221801757812,
          -2.5937371253967285,
          13.850037574768066,
          14.971221923828125,
          -17.98217010498047,
          13.2072172164917,
          15.420811653137207,
          -17.560504913330078,
          -17.50944709777832,
          -17.76025390625,
          -10.1718168258667,
          -17.54249382019043,
          -17.69998550415039,
          -16.870159149169922,
          -17.490970611572266,
          12.812132835388184,
          -17.925138473510742,
          -9.434646606445312,
          -15.983219146728516,
          -15.991711616516113,
          9.13632869720459,
          10.432685852050781,
          -10.002602577209473,
          -0.31223633885383606,
          -17.428573608398438,
          -17.25346565246582,
          -17.20173454284668,
          -9.690653800964355,
          -18.243282318115234,
          -17.2669620513916,
          -16.894508361816406,
          10.638055801391602,
          -10.443378448486328,
          -16.75771713256836,
          -17.804811477661133,
          -17.346343994140625,
          -7.297675132751465,
          -18.324953079223633,
          -9.385205268859863,
          -17.75301742553711,
          -17.06651496887207,
          -10.1110200881958,
          9.705713272094727,
          -16.483963012695312,
          -10.0822114944458,
          -10.13563346862793,
          -16.0966796875,
          -17.100208282470703,
          -17.17798614501953,
          -17.271867752075195,
          -10.071992874145508,
          -10.799488067626953,
          -16.089019775390625,
          5.853309154510498,
          -16.868825912475586,
          13.572635650634766,
          -9.727621078491211,
          -17.942466735839844,
          -16.26521873474121,
          0.9525071978569031,
          -10.172870635986328,
          9.519886016845703,
          -10.141345024108887,
          -18.004629135131836,
          -18.60848617553711,
          -8.384722709655762,
          -16.471006393432617,
          -2.515720844268799,
          -16.824562072753906,
          11.001628875732422,
          -18.125234603881836,
          13.012338638305664,
          -10.008159637451172,
          -18.075193405151367,
          13.917865753173828,
          -7.258340358734131,
          8.882150650024414,
          -9.833937644958496,
          -9.839534759521484,
          11.126255989074707,
          -0.3064335882663727,
          -9.955897331237793,
          -17.654769897460938,
          -16.48484230041504,
          -11.347136497497559,
          -2.3561127185821533,
          5.478353977203369,
          12.440092086791992,
          15.242152214050293,
          -17.55514144897461,
          0.9066444039344788,
          -17.922916412353516,
          12.220047950744629,
          12.200568199157715,
          14.097942352294922,
          12.30020523071289,
          -17.389163970947266,
          -9.978252410888672,
          -0.3982214033603668,
          -10.644840240478516,
          -17.66910743713379,
          -16.31818389892578,
          -10.04661750793457,
          -9.993206024169922,
          12.240368843078613,
          -10.030844688415527,
          -16.896495819091797,
          -9.32852840423584,
          8.068931579589844,
          -17.13866424560547,
          -1.1963640451431274,
          10.367417335510254,
          -9.795953750610352,
          8.894213676452637,
          10.667769432067871,
          -1.319805383682251,
          12.671480178833008,
          -17.300582885742188,
          -10.037640571594238,
          -0.14551036059856415,
          -10.988061904907227,
          -17.322153091430664,
          13.895875930786133,
          -16.77376365661621,
          -17.751079559326172,
          -11.035195350646973,
          13.240518569946289,
          -17.64903450012207,
          -1.0124675035476685,
          -16.765151977539062,
          -10.074958801269531,
          -10.095279693603516
         ],
         "xaxis": "x",
         "y": [
          -0.9075303077697754,
          -0.9266115427017212,
          4.270388603210449,
          4.102482795715332,
          2.890737295150757,
          -3.268986940383911,
          0.5785399079322815,
          -2.4643990993499756,
          -12.242547988891602,
          0.849481999874115,
          5.0404863357543945,
          4.139336585998535,
          5.940533638000488,
          1.6637359857559204,
          -9.195531845092773,
          1.0561753511428833,
          6.392435550689697,
          4.064352989196777,
          -11.319332122802734,
          -10.21666145324707,
          -8.138352394104004,
          4.015078067779541,
          3.4662024974823,
          -1.8154820203781128,
          -7.326661586761475,
          2.6179192066192627,
          0.9511353373527527,
          5.017228603363037,
          0.6949438452720642,
          -0.8423672914505005,
          2.1587319374084473,
          2.14911150932312,
          -1.2295693159103394,
          2.864903450012207,
          -12.821392059326172,
          -6.767012119293213,
          0.22076420485973358,
          0.12126161903142929,
          3.8817126750946045,
          -12.853578567504883,
          1.2364424467086792,
          0.22213560342788696,
          -2.377224922180176,
          3.8032519817352295,
          5.323593616485596,
          -0.8723889589309692,
          1.1469897031784058,
          3.636582851409912,
          3.2100563049316406,
          3.3314192295074463,
          3.398688793182373,
          1.9143146276474,
          2.6010448932647705,
          3.7389228343963623,
          -0.8922690153121948,
          -2.21110200881958,
          3.3926079273223877,
          2.515749216079712,
          -2.495967388153076,
          -0.6581034064292908,
          2.4865405559539795,
          1.3710596561431885,
          0.9916844964027405,
          -0.8970910906791687,
          1.7128033638000488,
          -1.8556487560272217,
          4.321748733520508,
          5.210416793823242,
          4.376206874847412,
          -0.6516746282577515,
          -1.0927315950393677,
          4.518091678619385,
          3.252978563308716,
          0.7273280024528503,
          0.4864514172077179,
          0.3760378062725067,
          4.175097942352295,
          4.885050296783447,
          -1.8986544609069824,
          4.703962802886963,
          4.63890266418457,
          -1.4726642370224,
          1.80821692943573,
          2.7582430839538574,
          3.2750041484832764,
          0.19117970764636993,
          4.585847854614258,
          3.5690062046051025,
          3.3749098777770996,
          1.4278699159622192,
          4.524233818054199,
          0.014273668639361858,
          1.9644097089767456,
          0.6163206100463867,
          0.9678027629852295,
          4.15022611618042,
          0.26241379976272583,
          3.00821590423584,
          2.236287832260132,
          3.421375036239624,
          1.9795094728469849,
          3.5630130767822266,
          1.9771838188171387,
          2.3968281745910645,
          0.5099083185195923,
          2.671971082687378,
          3.5085020065307617,
          3.4930002689361572,
          3.472292423248291,
          4.130519390106201,
          1.4068455696105957,
          -0.3804011940956116,
          0.6337338089942932,
          1.2714968919754028,
          4.035872459411621,
          3.9227776527404785,
          2.262302875518799,
          1.561751365661621,
          -1.9876092672348022,
          4.371366024017334,
          1.5045924186706543,
          5.69563102722168,
          0.34091851115226746,
          2.9535255432128906,
          2.737804651260376,
          6.337050914764404,
          -1.5474637746810913,
          -1.3260749578475952,
          0.031317733228206635,
          4.338968753814697,
          2.6881797313690186,
          1.9835150241851807,
          3.341562509536743,
          3.356555461883545,
          -2.278078556060791,
          2.103268623352051,
          6.268590927124023,
          3.885463237762451,
          -0.002384807914495468,
          2.141986846923828,
          -0.819684624671936,
          6.368197441101074,
          -0.252651184797287,
          2.139816999435425,
          0.865204930305481,
          -0.24445295333862305,
          -0.9839547276496887,
          0.7367839813232422,
          -0.715831995010376,
          2.675307512283325,
          -1.677099347114563,
          -1.0190714597702026,
          0.3297065496444702,
          3.487061023712158,
          3.1831111907958984,
          -0.3889407813549042,
          3.041826009750366,
          -0.15759062767028809,
          3.5633785724639893,
          0.24822038412094116,
          3.6124203205108643,
          -0.7551567554473877,
          -1.063612699508667,
          -0.278644323348999,
          -0.9816878437995911,
          -1.3888736963272095,
          -0.1592218428850174,
          -0.29729053378105164,
          1.237733244895935,
          -2.170839548110962,
          0.8146994113922119,
          -0.08172550052404404,
          3.555051803588867,
          0.984860360622406,
          -1.8582944869995117,
          -1.1150256395339966,
          2.0453338623046875,
          -1.4385069608688354,
          -0.7620682120323181,
          1.6616955995559692,
          1.9998729228973389,
          1.8442957401275635,
          1.6850056648254395,
          -1.148234486579895,
          2.7849643230438232,
          3.71391224861145,
          0.7698019742965698,
          -0.21307380497455597,
          0.47993969917297363,
          2.7330541610717773,
          2.6292970180511475,
          0.6338468790054321,
          -0.9682815074920654,
          -1.5788846015930176,
          0.7177842259407043,
          1.8666582107543945,
          3.386242389678955,
          3.5931355953216553,
          3.1606733798980713,
          3.5775864124298096,
          1.6701959371566772,
          4.553787708282471,
          -1.432755947113037,
          3.4887948036193848,
          3.574876546859741,
          -1.309339165687561,
          -0.927727460861206,
          0.31276965141296387,
          -0.15128137171268463,
          -2.5669326782226562,
          1.3250988721847534,
          2.2162907123565674,
          0.6042532324790955,
          3.1984453201293945,
          0.9526461958885193,
          1.770970106124878,
          3.302063226699829,
          -2.3032312393188477,
          -3.0396311283111572,
          -3.3435044288635254,
          -2.507258653640747,
          -3.021000862121582,
          -2.039273738861084,
          -2.1204147338867188,
          -2.4941015243530273,
          -2.3865909576416016,
          -2.7042641639709473,
          -2.672111988067627,
          -2.4536967277526855,
          -2.3039803504943848,
          -2.503848075866699,
          -13.124249458312988,
          -12.852986335754395,
          -12.84848690032959,
          -12.7482328414917,
          -12.788439750671387,
          -12.923074722290039,
          -12.816892623901367,
          -12.978862762451172,
          -12.80015754699707,
          -12.91931438446045,
          -12.779522895812988,
          -12.975787162780762,
          -13.07218074798584,
          -12.955792427062988,
          -12.986480712890625,
          -13.331083297729492,
          -12.860333442687988,
          -12.876111030578613,
          -12.814781188964844,
          -12.512324333190918,
          -10.0821533203125,
          -13.083721160888672,
          -11.801919937133789,
          -9.449006080627441,
          -13.389787673950195,
          -10.328060150146484,
          -9.63151741027832,
          -9.984260559082031,
          -12.893062591552734,
          -12.67175006866455,
          -9.369771003723145,
          -12.516324043273926,
          -14.40407943725586,
          -11.767783164978027,
          -13.784628868103027,
          -13.32220458984375,
          -12.530594825744629,
          -10.309304237365723,
          -12.320840835571289,
          -12.9448823928833,
          -9.591794967651367,
          -11.940467834472656,
          -11.718340873718262,
          -9.685948371887207,
          -11.334370613098145,
          -13.15297794342041,
          -11.620697021484375,
          -10.836490631103516,
          -11.303503036499023,
          -10.792119979858398,
          -9.455402374267578,
          -11.489364624023438,
          -8.948034286499023,
          -12.85432243347168,
          -12.235740661621094,
          -11.605320930480957,
          -13.297175407409668,
          -12.092291831970215,
          -10.534615516662598,
          -11.606901168823242,
          -12.83852767944336,
          -9.1956787109375,
          -12.224359512329102,
          -9.307196617126465,
          -11.812143325805664,
          -12.2228422164917,
          -9.81872272491455,
          -14.295637130737305,
          -14.370814323425293,
          -12.003517150878906,
          -13.227578163146973,
          -12.361069679260254,
          -12.815120697021484,
          -10.941027641296387,
          -14.048029899597168,
          -14.077632904052734,
          -9.420655250549316,
          -10.670295715332031,
          -10.653133392333984,
          -12.34535026550293,
          -10.419670104980469,
          -11.48259162902832,
          -10.473031044006348,
          -12.428120613098145,
          -9.94446849822998,
          -11.431546211242676,
          -9.008322715759277,
          -12.989505767822266,
          -10.856430053710938,
          -9.463068962097168,
          -11.544248580932617,
          -6.522974014282227,
          -6.04621696472168,
          -6.2276763916015625,
          -6.721109390258789,
          -6.225933074951172,
          -6.615756988525391,
          -6.311356544494629,
          -6.310626029968262,
          -6.719466686248779,
          -6.002147674560547,
          -6.648728370666504,
          -6.641968250274658,
          -6.688065528869629,
          -6.267446041107178,
          -6.35478401184082,
          -6.029314994812012,
          -6.432882785797119,
          -6.283164024353027,
          -6.830991744995117,
          -6.637531280517578,
          -6.393146514892578,
          -6.598906517028809,
          -6.084800720214844,
          -7.211669445037842,
          -7.006765365600586,
          1.23598313331604,
          -12.809791564941406,
          -11.348665237426758,
          1.164501428604126,
          1.5520963668823242,
          -3.0578153133392334,
          -0.6678851246833801,
          4.6448073387146,
          -6.989847660064697,
          4.34957218170166,
          -12.820891380310059,
          -7.1837687492370605,
          -12.120945930480957,
          -11.65062427520752,
          -6.895445823669434,
          1.3378046751022339,
          -11.939545631408691,
          -11.591355323791504,
          -6.929185390472412,
          -11.132889747619629,
          -11.430914878845215,
          5.664243698120117,
          4.523131847381592,
          4.706077575683594,
          1.7241662740707397,
          -12.911480903625488,
          -0.39030417799949646,
          5.0868821144104,
          -10.614441871643066,
          -10.130119323730469,
          0.1562676578760147,
          -3.075949192047119,
          -10.975916862487793,
          -6.362040996551514,
          1.5473403930664062,
          5.974035263061523,
          -12.193549156188965,
          -12.875277519226074,
          5.359025955200195,
          4.591032028198242,
          -12.922466278076172,
          0.6011465191841125,
          -13.273859977722168,
          2.599724769592285,
          3.3514609336853027,
          3.6071503162384033,
          3.4670796394348145,
          3.9673469066619873,
          -10.389216423034668,
          -6.502170085906982,
          0.6414708495140076,
          -11.885588645935059,
          3.717163562774658,
          -7.139740467071533,
          -10.265729904174805,
          -13.2918119430542,
          3.3231351375579834,
          -14.351729393005371,
          -1.0072060823440552,
          -9.164328575134277,
          -7.219259738922119,
          -7.195786952972412,
          1.2334156036376953,
          -13.287948608398438,
          1.9424326419830322,
          1.5190446376800537,
          -12.77064323425293,
          2.344125986099243,
          0.1306948959827423,
          -7.100966453552246,
          0.8010984659194946,
          -7.633690357208252,
          2.4451329708099365,
          3.0962862968444824,
          -11.111336708068848,
          -11.615987777709961,
          3.2180941104888916,
          -10.9065523147583,
          3.5758235454559326,
          3.4336166381835938,
          -6.230356693267822,
          -12.946362495422363,
          1.0158013105392456,
          -0.18872392177581787,
          3.4618782997131348,
          5.300517559051514,
          1.3274619579315186,
          -1.6369515657424927,
          4.938673496246338,
          3.547344207763672,
          -10.165604591369629,
          2.816713333129883,
          -2.818635940551758,
          -8.24632740020752,
          5.107306003570557,
          5.7628631591796875,
          -12.877989768981934,
          0.30673378705978394,
          -6.802104949951172,
          -6.381885051727295,
          -7.051180362701416,
          -7.084364414215088,
          -7.990838050842285,
          -7.946925163269043,
          -7.180445194244385,
          -6.222022533416748,
          -7.498162746429443,
          -7.7703399658203125,
          -7.473012447357178,
          -7.229437351226807,
          -7.75883674621582,
          -8.25893783569336,
          -7.345468997955322,
          -8.495361328125,
          -7.6935601234436035,
          -7.494680404663086,
          -7.057113170623779,
          -6.156331539154053,
          -7.320976257324219,
          -7.721408843994141,
          -7.807810306549072,
          -7.746280193328857,
          -7.629551410675049,
          -7.345261573791504,
          -7.693305015563965,
          2.7132179737091064,
          -12.76728630065918,
          2.840688467025757,
          -1.6333422660827637,
          -12.296221733093262,
          4.996859550476074,
          -6.887549877166748,
          -10.175955772399902,
          3.341484546661377,
          -12.339581489562988,
          -11.694091796875,
          -6.759832859039307,
          1.8030762672424316,
          -2.5668768882751465,
          2.639692544937134,
          -14.111126899719238,
          -12.870803833007812,
          1.3039815425872803,
          3.574145793914795,
          -0.8635907173156738,
          1.2395492792129517,
          5.005871295928955,
          5.264265060424805,
          2.2067010402679443,
          3.3991036415100098,
          -7.204432964324951,
          2.953040361404419,
          4.85305643081665,
          2.2207274436950684,
          -0.5125490427017212,
          4.515775680541992,
          0.09943480789661407,
          -6.150192737579346,
          -6.1465253829956055,
          3.206617593765259,
          -0.03985056281089783,
          0.10280289500951767,
          -10.216739654541016,
          5.2982707023620605,
          2.6158840656280518,
          -8.082159996032715,
          0.9856270551681519,
          2.8265724182128906,
          5.898298263549805,
          4.187087535858154,
          2.047268867492676,
          1.132584810256958,
          5.337801456451416,
          3.730344295501709,
          -7.245162487030029,
          -6.698334217071533,
          3.1570053100585938,
          2.379340171813965,
          5.097045421600342,
          -8.187711715698242,
          2.3071701526641846,
          2.105301856994629,
          -7.755195140838623,
          1.8915741443634033,
          2.600421667098999,
          -7.058513641357422,
          4.418935775756836,
          4.98331880569458,
          -7.715354919433594,
          0.7850408554077148,
          2.7577428817749023,
          -6.828737735748291,
          -2.4979255199432373,
          3.3397939205169678,
          -1.724281668663025,
          0.8074110150337219,
          3.945028066635132,
          -6.8627519607543945,
          -10.207759857177734,
          1.3518650531768799,
          2.3051931858062744,
          2.879364252090454,
          3.792306661605835,
          4.727867603302002,
          -6.335592746734619,
          2.783799648284912,
          -14.03818416595459,
          3.2963554859161377,
          1.8927823305130005,
          5.682655334472656,
          -12.884637832641602,
          1.529627799987793,
          4.6683244705200195,
          -12.935538291931152,
          -6.689692497253418,
          3.9274394512176514,
          0.5571422576904297,
          0.8818153142929077,
          0.30407238006591797,
          -12.91603946685791,
          2.0256807804107666,
          4.536440372467041,
          5.17081356048584,
          1.7818976640701294,
          -11.772998809814453,
          -2.6056206226348877,
          0.18474265933036804,
          1.917849063873291,
          4.188076496124268,
          -10.056304931640625,
          6.11970329284668,
          2.6952927112579346,
          -2.38141131401062,
          -12.733104705810547,
          0.815396249294281,
          -7.7143144607543945,
          1.5765987634658813,
          -10.924897193908691,
          0.057359401136636734,
          5.201307773590088,
          5.633934020996094,
          2.0563247203826904,
          0.8819667100906372,
          -2.1128861904144287,
          2.1129534244537354,
          5.093538761138916,
          2.473900079727173,
          3.7464704513549805,
          5.739804267883301,
          -9.83171272277832,
          2.3094823360443115,
          0.9101757407188416,
          2.994999885559082,
          3.4943718910217285,
          -10.400519371032715,
          2.789095163345337,
          2.9050710201263428,
          1.3807090520858765,
          -9.718128204345703,
          2.115840196609497,
          -6.8208112716674805,
          -2.626513719558716,
          2.8653459548950195,
          2.0299108028411865,
          2.3068771362304688,
          -12.87358283996582,
          3.8440699577331543,
          -12.865751266479492,
          4.974695205688477,
          3.268468141555786,
          3.0847973823547363
         ],
         "yaxis": "y"
        },
        {
         "customdata": [
          [
           "E:AP3B1 ADTB3A"
          ],
          [
           "E:BRD4 HUNK1"
          ],
          [
           "E:BRD2 KIAA9001 RING3"
          ],
          [
           "E:CWC27 SDCCAG10 UNQ438/PRO871"
          ],
          [
           "E:ZC3H18 NHN1"
          ],
          [
           "E:SLC44A2 CTL2 PSEC0210"
          ],
          [
           "M:PMPCB MPPB"
          ],
          [
           "M:YIF1A 54TM HYIF1P YIF1"
          ],
          [
           "M:ATP1B1 ATP1B"
          ],
          [
           "M:ACADM"
          ],
          [
           "M:ETFA"
          ],
          [
           "M:STOM BND7 EPB72"
          ],
          [
           "M:GGCX GC"
          ],
          [
           "M:ATP6V1A ATP6A1 ATP6V1A1 VPP2"
          ],
          [
           "M:PSMD8"
          ],
          [
           "M:REEP5 C5orf18 DP1 TB2"
          ],
          [
           "M:PMPCA INPP5E KIAA0123 MPPA"
          ],
          [
           "M:ANO6 TMEM16F"
          ],
          [
           "M:PITRM1 KIAA1104 MP1 PREP"
          ],
          [
           "M:SLC30A9 C4orf1 HUEL"
          ],
          [
           "M:FASTKD5 KIAA1792"
          ],
          [
           "M:SLC30A7 ZNT7 ZNTL2"
          ],
          [
           "M:TUBGCP3 GCP3"
          ],
          [
           "M:COQ8B ADCK4"
          ],
          [
           "M:SAAL1"
          ],
          [
           "M:REEP6 C19orf32 DP1L1"
          ],
          [
           "M:INTS4 MSTP093"
          ],
          [
           "M:SLC25A21 ODC"
          ],
          [
           "M:TUBGCP2 GCP2"
          ],
          [
           "M:TARS2 TARSL1"
          ],
          [
           "M:RTN4 KIAA0886 NOGO My043 SP1507"
          ],
          [
           "M:FAM8A1 AHCP"
          ],
          [
           "M:AASS"
          ],
          [
           "M:AKAP8L NAKAP NAKAP95 HRIHFB2018"
          ],
          [
           "M:AAR2 C20orf4 CGI-23 PRO0225"
          ],
          [
           "M:BZW2 HSPC028 MSTP017"
          ],
          [
           "N:RRP9 RNU3IP2 U355K"
          ],
          [
           "N:PABPC1 PAB1 PABP1 PABPC2"
          ],
          [
           "N:CSNK2A2 CK2A2"
          ],
          [
           "N:CSNK2B CK2N G5A"
          ],
          [
           "N:G3BP1 G3BP"
          ],
          [
           "N:PABPC4 APP1 PABP4"
          ],
          [
           "N:LARP1 KIAA0731 LARP"
          ],
          [
           "N:FAM98A"
          ],
          [
           "N:SNIP1"
          ],
          [
           "N:UPF1 KIAA0221 RENT1"
          ],
          [
           "N:MOV10 KIAA1631"
          ],
          [
           "N:DDX21"
          ],
          [
           "N:RBM28"
          ],
          [
           "N:G3BP2 KIAA0660"
          ],
          [
           "N:RPL36"
          ],
          [
           "Spike:GOLGA7 GCP16 HDCKB03P HSPC041"
          ],
          [
           "Spike:ZDHHC5 KIAA1748 ZNF375"
          ],
          [
           "nsp1:POLA1 POLA"
          ],
          [
           "nsp1:PRIM1"
          ],
          [
           "nsp1:PRIM2 PRIM2A"
          ],
          [
           "nsp1:POLA2"
          ],
          [
           "nsp1:COLGALT1 GLT25D1 PSEC0241"
          ],
          [
           "nsp1:PKP2"
          ],
          [
           "nsp10:AP2A2 ADTAB CLAPA2 HIP9 HYPJ KIAA0899"
          ],
          [
           "nsp10:GFER ALR HERV1 HPO"
          ],
          [
           "nsp10:ERGIC1 ERGIC32 KIAA1181 HT034"
          ],
          [
           "nsp10:AP2M1 CLAPM1 KIAA0109"
          ],
          [
           "nsp10:GRPEL1 GREPEL1"
          ],
          [
           "nsp11:TBCA"
          ],
          [
           "nsp12:SBNO1 MOP3"
          ],
          [
           "nsp12:BCKDK"
          ],
          [
           "nsp12:AKAP8 AKAP95"
          ],
          [
           "nsp12:MYCBP2 KIAA0916 PAM"
          ],
          [
           "nsp12:SLU7"
          ],
          [
           "nsp12:RIPK1 RIP RIP1"
          ],
          [
           "nsp12:UBAP2L KIAA0144 NICE4"
          ],
          [
           "nsp12:TYSND1"
          ],
          [
           "nsp12:PDZD11 AIPP1 PDZK11 PISP HSPC227 UNQ6486/PRO21335"
          ],
          [
           "nsp12:PRRC2B BAT2L BAT2L1 KIAA0515"
          ],
          [
           "nsp12:UBAP2 KIAA1491"
          ],
          [
           "nsp12:ZNF318 HRIHFB2436"
          ],
          [
           "nsp12:CRTC3 TORC3"
          ],
          [
           "nsp12:USP54 C10orf29"
          ],
          [
           "nsp12:ZC3H7A ZC3H7 ZC3HDC7 HSPC055"
          ],
          [
           "nsp12:LARP4B KIAA0217 LARP5"
          ],
          [
           "nsp12:RBM41"
          ],
          [
           "nsp12:TCF12 BHLHB20 HEB HTF4"
          ],
          [
           "nsp12:PPIL3"
          ],
          [
           "nsp12:PLEKHA5 KIAA1686 PEPP2"
          ],
          [
           "nsp13:TBKBP1 KIAA0775 SINTBAD"
          ],
          [
           "nsp13:CIT CRIK KIAA0949 STK21"
          ],
          [
           "nsp13:HSBP1 HSF1BP"
          ],
          [
           "nsp13:PCNT KIAA0402 PCNT2"
          ],
          [
           "nsp13:FGFR1OP FOP"
          ],
          [
           "nsp13:PRKAR2A PKR2 PRKAR2"
          ],
          [
           "nsp13:PRKACA PKACA"
          ],
          [
           "nsp13:PRKAR2B"
          ],
          [
           "nsp13:RDX"
          ],
          [
           "nsp13:CENPF"
          ],
          [
           "nsp13:TLE1"
          ],
          [
           "nsp13:TLE3 KIAA1547"
          ],
          [
           "nsp13:TLE5 AES GRG GRG5"
          ],
          [
           "nsp13:GOLGA3"
          ],
          [
           "nsp13:GOLGA2"
          ],
          [
           "nsp13:GOLGB1"
          ],
          [
           "nsp13:GRIPAP1 KIAA1167"
          ],
          [
           "nsp13:CEP350 CAP350 KIAA0480 GM133"
          ],
          [
           "nsp13:PDE4DIP CMYA2 KIAA0454 KIAA0477 MMGL"
          ],
          [
           "nsp13:CEP135 CEP4 KIAA0635"
          ],
          [
           "nsp13:CEP68 KIAA0582"
          ],
          [
           "nsp13:CNTRL CEP1 CEP110"
          ],
          [
           "nsp13:ERC1 ELKS KIAA1081 RAB6IP2"
          ],
          [
           "nsp13:GCC2 KIAA0336 RANBP2L4"
          ],
          [
           "nsp13:CLIP4 RSNL2"
          ],
          [
           "nsp13:NIN KIAA1565"
          ],
          [
           "nsp13:CEP112 CCDC46"
          ],
          [
           "nsp13:MIPOL1"
          ],
          [
           "nsp13:USP13 ISOT3"
          ],
          [
           "nsp13:GCC1"
          ],
          [
           "nsp13:JAKMIP1 GABABRBP JAMIP1 MARLIN1"
          ],
          [
           "nsp13:CDK5RAP2 CEP215 KIAA1633"
          ],
          [
           "nsp13:AKAP9 AKAP350 AKAP450 KIAA0803"
          ],
          [
           "nsp13:GORASP1 GOLPH5 GRASP65"
          ],
          [
           "nsp13:FYCO1 ZFYVE7"
          ],
          [
           "nsp13:C1orf50"
          ],
          [
           "nsp13:CEP250 CEP2 CNAP1"
          ],
          [
           "nsp13:TBK1 NAK"
          ],
          [
           "nsp13:HOOK1"
          ],
          [
           "nsp13:NINL KIAA0980 NLP"
          ],
          [
           "nsp14:GLA"
          ],
          [
           "nsp14:IMPDH2 IMPD2"
          ],
          [
           "nsp14:SIRT5 SIR2L5"
          ],
          [
           "nsp15:NUTF2 NTF2"
          ],
          [
           "nsp15:ARF6"
          ],
          [
           "nsp15:RNF41 FLRF NRDP1 SBBI03"
          ],
          [
           "nsp2:SLC27A2 ACSVL1 FACVL1 FATP2 VLACS"
          ],
          [
           "nsp2:EIF4E2 EIF4EL3"
          ],
          [
           "nsp2:POR CYPOR"
          ],
          [
           "nsp2:RAP1GDS1"
          ],
          [
           "nsp2:WASHC4 KIAA1033"
          ],
          [
           "nsp2:FKBP15 KIAA0674"
          ],
          [
           "nsp2:GIGYF2 KIAA0642 PERQ2 TNRC15"
          ],
          [
           "nsp4:IDE"
          ],
          [
           "nsp4:TIMM10 TIM10"
          ],
          [
           "nsp4:ALG11 GT8"
          ],
          [
           "nsp4:NUP210 KIAA0906 PSEC0245"
          ],
          [
           "nsp4:TIMM29 c19orf52"
          ],
          [
           "nsp4:DNAJC11"
          ],
          [
           "nsp4:TIMM10B FXC1 TIM9B TIMM9B"
          ],
          [
           "nsp4:TIMM9 TIM9 TIM9A TIMM9A"
          ],
          [
           "nsp5:HDAC2"
          ],
          [
           "nsp5_C145A:TRMT1"
          ],
          [
           "nsp6:ATP5MG ATP5L"
          ],
          [
           "nsp6:ATP6AP1 ATP6IP1 ATP6S1 VATPS1 XAP3"
          ],
          [
           "nsp6:SIGMAR1 OPRS1 SRBP AAG8"
          ],
          [
           "nsp6:ATP13A3 AFURS1"
          ],
          [
           "nsp7:AGPS AAG5"
          ],
          [
           "nsp7:CYB5B CYB5M OMB5"
          ],
          [
           "nsp7:ACSL3 ACS3 FACL3 LACS3"
          ],
          [
           "nsp7:CYB5R3 DIA1"
          ],
          [
           "nsp7:RALA RAL"
          ],
          [
           "nsp7:COMT"
          ],
          [
           "nsp7:RAB5C RABL"
          ],
          [
           "nsp7:RAB7A RAB7"
          ],
          [
           "nsp7:RAB8A MEL RAB8"
          ],
          [
           "nsp7:RAB2A RAB2"
          ],
          [
           "nsp7:RAB10"
          ],
          [
           "nsp7:RAB14"
          ],
          [
           "nsp7:RHOA ARH12 ARHA RHO12"
          ],
          [
           "nsp7:RAB1A RAB1"
          ],
          [
           "nsp7:GNB1"
          ],
          [
           "nsp7:GNG5 GNGT5"
          ],
          [
           "nsp7:LMAN2 C5orf8"
          ],
          [
           "nsp7:MOGS GCS1"
          ],
          [
           "nsp7:TOR1AIP1 LAP1"
          ],
          [
           "nsp7:MTARC1 MARC1 MOSC1"
          ],
          [
           "nsp7:QSOX2 QSCN6L1 SOXN"
          ],
          [
           "nsp7:HS2ST1 HS2ST KIAA0448"
          ],
          [
           "nsp7:NDUFAF2 NDUFA12L"
          ],
          [
           "nsp7:SCCPDH CGI-49"
          ],
          [
           "nsp7:SCARB1 CD36L1 CLA1"
          ],
          [
           "nsp7:NAT14 KLP1"
          ],
          [
           "nsp7:DCAKD"
          ],
          [
           "nsp7:FAM162A C3orf28 E2IG5 DC16 FWP001"
          ],
          [
           "nsp7:DNAJC19 TIM14 TIMM14"
          ],
          [
           "nsp7:PTGES2 C9orf15 PGES2"
          ],
          [
           "nsp7:RAB18"
          ],
          [
           "nsp8:MPHOSPH10 MPP10"
          ],
          [
           "nsp8:SRP72"
          ],
          [
           "nsp8:ATE1"
          ],
          [
           "nsp8:NSD2 KIAA1090 MMSET TRX5 WHSC1"
          ],
          [
           "nsp8:SRP19"
          ],
          [
           "nsp8:SRP54"
          ],
          [
           "nsp8:MRPS25 RPMS25"
          ],
          [
           "nsp8:MRPS5"
          ],
          [
           "nsp8:DDX10"
          ],
          [
           "nsp8:EXOSC2 RRP4"
          ],
          [
           "nsp8:LARP7 HDCMA18P"
          ],
          [
           "nsp8:MEPCE BCDIN3"
          ],
          [
           "nsp8:NGDN C14orf120"
          ],
          [
           "nsp8:MRPS27 KIAA0264"
          ],
          [
           "nsp8:EXOSC8 OIP2 RRP43"
          ],
          [
           "nsp8:NARS2"
          ],
          [
           "nsp8:NOL10"
          ],
          [
           "nsp8:CCDC86 CYCLON"
          ],
          [
           "nsp8:SEPSECS TRNP48"
          ],
          [
           "nsp8:EXOSC5 CML28 RRP46"
          ],
          [
           "nsp8:EXOSC3 RRP40 CGI-102"
          ],
          [
           "nsp8:AATF CHE1 DED HSPC277"
          ],
          [
           "nsp8:HECTD1 KIAA1131"
          ],
          [
           "nsp8:MRPS2 CGI-91"
          ],
          [
           "nsp9:GTF2F2 RAP30"
          ],
          [
           "nsp9:FBN1 FBN"
          ],
          [
           "nsp9:FBN2"
          ],
          [
           "nsp9:NUP214 CAIN CAN KIAA0023"
          ],
          [
           "nsp9:NUP62"
          ],
          [
           "nsp9:DCAF7 HAN11 WDR68"
          ],
          [
           "nsp9:EIF4H KIAA0038 WBSCR1 WSCR1"
          ],
          [
           "nsp9:NUP54"
          ],
          [
           "nsp9:MIB1 DIP1 KIAA1323 ZZANK2"
          ],
          [
           "nsp9:SPART KIAA0610 SPG20 TAHCCP1"
          ],
          [
           "nsp9:NEK9 KIAA1995 NEK8 NERCC"
          ],
          [
           "nsp9:ZNF503 NOLZ1"
          ],
          [
           "nsp9:NUP88"
          ],
          [
           "nsp9:NUP58 KIAA0410 NUPL1"
          ],
          [
           "nsp9:MAT2B TGR MSTP045 Nbla02999 UNQ2435/PRO4995"
          ],
          [
           "nsp9:FBLN5 DANCE UNQ184/PRO210"
          ],
          [
           "orf10:PPT1 CLN1 PPT"
          ],
          [
           "orf10:RBX1 RNF75 ROC1"
          ],
          [
           "orf10:CUL2"
          ],
          [
           "orf10:ELOC TCEB1"
          ],
          [
           "orf10:ELOB TCEB2"
          ],
          [
           "orf10:MAP7D1 KIAA1187 PARCC1 RPRC1 PP2464"
          ],
          [
           "orf10:THTPA"
          ],
          [
           "orf10:ZYG11B KIAA1730"
          ],
          [
           "orf10:TIMM8B DDP2 DDPL TIM8B"
          ],
          [
           "orf3a:HMOX1 HO HO1"
          ],
          [
           "orf3a:TRIM59 RNF104 TRIM57 TSBF1"
          ],
          [
           "orf3a:ARL6IP6 PFAAP1"
          ],
          [
           "orf3a:VPS39 KIAA0770 TLP VAM6"
          ],
          [
           "orf3a:CLCC1 KIAA0761 MCLC"
          ],
          [
           "orf3a:VPS11 RNF108 PP3476"
          ],
          [
           "orf3a:SUN2 FRIGG KIAA0668 RAB5IP UNC84B"
          ],
          [
           "orf3a:ALG5 HSPC149"
          ],
          [
           "orf3b:STOML2 SLP2 HSPC108"
          ],
          [
           "orf6:NUP98 ADAR2"
          ],
          [
           "orf6:RAE1 MRNP41"
          ],
          [
           "orf6:MTCH1 PSAP CGI-64 UNQ1871/PRO4314"
          ],
          [
           "orf7a:HEATR3"
          ],
          [
           "orf7a:MDN1 KIAA0301"
          ],
          [
           "orf8:PLOD2"
          ],
          [
           "orf8:TOR1A DQ2 DYT1 TA TORA"
          ],
          [
           "orf8:STC2"
          ],
          [
           "orf8:PLAT"
          ],
          [
           "orf8:ITGB1 FNRB MDF2 MSK12"
          ],
          [
           "orf8:CISD3"
          ],
          [
           "orf8:COL6A1"
          ],
          [
           "orf8:PVR PVS"
          ],
          [
           "orf8:DNMT1 AIM CXXC9 DNMT"
          ],
          [
           "orf8:LOX"
          ],
          [
           "orf8:PCSK6 PACE4"
          ],
          [
           "orf8:INHBE"
          ],
          [
           "orf8:NPC2 HE1"
          ],
          [
           "orf8:MFGE8"
          ],
          [
           "orf8:OS9"
          ],
          [
           "orf8:ADAM9 KIAA0021 MCMP MDC9 MLTNG"
          ],
          [
           "orf8:NPTX1"
          ],
          [
           "orf8:POGLUT2 EP58 KDELC1 UNQ1910/PRO4357"
          ],
          [
           "orf8:POGLUT3 KDELC2 UNQ1904/PRO4350"
          ],
          [
           "orf8:ERO1B ERO1LB"
          ],
          [
           "orf8:PLD3"
          ],
          [
           "orf8:FOXRED2 ERFAD"
          ],
          [
           "orf8:CHPF CSS2 UNQ651/PRO1281"
          ],
          [
           "orf8:PUSL1"
          ],
          [
           "orf8:EMC1 KIAA0090 PSEC0263"
          ],
          [
           "orf8:GGH"
          ],
          [
           "orf8:FKBP10 FKBP65 PSEC0056"
          ],
          [
           "orf8:ERLEC1 C2orf30 XTP3TPB UNQ1878/PRO4321"
          ],
          [
           "orf8:IL17RA IL17R"
          ],
          [
           "orf8:NGLY1 PNG1"
          ],
          [
           "orf8:HS6ST2 PSEC0092"
          ],
          [
           "orf8:SDF2"
          ],
          [
           "orf8:NEU1 NANH"
          ],
          [
           "orf8:GDF15 MIC1 PDF PLAB PTGFB"
          ],
          [
           "orf8:TM2D3 BLP2"
          ],
          [
           "orf8:ERP44 KIAA0573 TXNDC4 UNQ532/PRO1075"
          ],
          [
           "orf8:EDEM3 C1orf22"
          ],
          [
           "orf8:SIL1 UNQ545/PRO836"
          ],
          [
           "orf8:POFUT1 FUT12 KIAA0180"
          ],
          [
           "orf8:SMOC1"
          ],
          [
           "orf8:PLEKHF2 ZFYVE18"
          ],
          [
           "orf8:FBXL12 FBL12"
          ],
          [
           "orf8:UGGT2 UGCGL2 UGT2"
          ],
          [
           "orf8:CHPF2 CHSY3 CSGLCAT KIAA1402 UNQ299/PRO339"
          ],
          [
           "orf8:ADAMTS1 KIAA1346 METH1"
          ],
          [
           "orf8:HYOU1 GRP170 ORP150"
          ],
          [
           "orf8:FKBP7 FKBP23 UNQ670/PRO1304"
          ],
          [
           "orf9b:SLC9A3R1 NHERF NHERF1"
          ],
          [
           "orf9b:CHMP2A BC2 CHMP2"
          ],
          [
           "orf9b:CSDE1 D1S155E KIAA0885 NRU UNR"
          ],
          [
           "orf9b:TOMM70 KIAA0719 TOM70 TOMM70A"
          ],
          [
           "orf9b:MARK3 CTAK1 EMK2"
          ],
          [
           "orf9b:MARK2 EMK1"
          ],
          [
           "orf9b:DPH5 AD-018 CGI-30 HSPC143 NPD015"
          ],
          [
           "orf9b:DCTPP1 XTP3TPA CDA03"
          ],
          [
           "orf9b:MARK1 KIAA1477 MARK"
          ],
          [
           "orf9b:PTBP2 NPTB PTB PTBLP"
          ],
          [
           "orf9b:BAG5 KIAA0873"
          ],
          [
           "orf9c:UBXN8 D8S2298E REP8 UBXD6"
          ],
          [
           "orf9c:GPAA1 GAA1"
          ],
          [
           "orf9c:WFS1"
          ],
          [
           "orf9c:ABCC1 MRP MRP1"
          ],
          [
           "orf9c:F2RL1 GPR11 PAR2"
          ],
          [
           "orf9c:SCAP KIAA0199 PSEC0227"
          ],
          [
           "orf9c:DPY19L1 GA0500 KIAA0877"
          ],
          [
           "orf9c:TMEM97 MAC30 S2R"
          ],
          [
           "orf9c:SLC30A6 ZNT6"
          ],
          [
           "orf9c:TAPT1 CMVFR"
          ],
          [
           "orf9c:ERMP1 FXNA KIAA1815"
          ],
          [
           "orf9c:NLRX1 NOD26 NOD5 NOD9"
          ],
          [
           "orf9c:RETREG3 FAM134C"
          ],
          [
           "orf9c:PIGO UNQ632/PRO1249"
          ],
          [
           "orf9c:FAR2 MLSTD1"
          ],
          [
           "orf9c:PIGS UNQ1873/PRO4316"
          ],
          [
           "orf9c:ECSIT"
          ],
          [
           "orf9c:ALG8 HUSSY-02"
          ],
          [
           "orf9c:TMEM39B"
          ],
          [
           "orf9c:GHITM DERP2 MICS1 TMBIM5 My021 UNQ244/PRO281"
          ],
          [
           "orf9c:ACAD9"
          ],
          [
           "orf9c:NDFIP2 KIAA1165 N4WBP5A"
          ],
          [
           "orf9c:BCS1L BCS1"
          ],
          [
           "orf9c:NDUFAF1 CIA30 CGI-65"
          ],
          [
           "orf9c:TMED5 CGI-100 UNQ397/PRO733"
          ],
          [
           "orf9c:NDUFB9 LYRM3 UQOR22"
          ]
         ],
         "hovertemplate": "virus=covid<br>PCA1=%{x}<br>PCA2=%{y}<br>PPI=%{customdata[0]}<extra></extra>",
         "legendgroup": "covid",
         "marker": {
          "color": "#EF553B",
          "symbol": "circle"
         },
         "mode": "markers",
         "name": "covid",
         "showlegend": true,
         "type": "scattergl",
         "x": [
          -2.207822561264038,
          -1.7695484161376953,
          -2.0705127716064453,
          -1.8730190992355347,
          -1.8591598272323608,
          -1.8902724981307983,
          -2.174903154373169,
          -3.4703454971313477,
          -3.3753535747528076,
          -3.479627847671509,
          -3.4972524642944336,
          -3.383700370788574,
          -3.3625173568725586,
          -3.4035956859588623,
          -4.260318756103516,
          -3.483949661254883,
          -3.3498573303222656,
          -3.5588226318359375,
          -3.8845458030700684,
          -4.290018081665039,
          -4.07500696182251,
          -4.089205265045166,
          -3.3685126304626465,
          -4.103426456451416,
          -3.7100989818573,
          -3.5615925788879395,
          -3.3618721961975098,
          -4.367194652557373,
          -3.4821417331695557,
          -4.1215314865112305,
          -3.7318239212036133,
          -3.9221582412719727,
          -3.3604044914245605,
          -3.7412641048431396,
          -3.3672802448272705,
          -3.9286303520202637,
          -3.8641879558563232,
          8.36103343963623,
          8.644731521606445,
          9.053110122680664,
          8.525137901306152,
          8.579306602478027,
          8.386836051940918,
          8.656416893005371,
          8.352570533752441,
          8.441120147705078,
          8.683941841125488,
          8.667055130004883,
          9.007347106933594,
          8.376294136047363,
          8.714984893798828,
          8.184900283813477,
          2.071742534637451,
          2.0911738872528076,
          -6.501863479614258,
          -6.588103294372559,
          -6.503459453582764,
          -6.496989727020264,
          -6.438895225524902,
          -6.572172164916992,
          1.1003046035766602,
          1.1505210399627686,
          1.092118263244629,
          1.1026453971862793,
          1.1145172119140625,
          -7.475424289703369,
          6.221057891845703,
          6.99803352355957,
          6.762320041656494,
          6.12681245803833,
          7.110048770904541,
          6.348982810974121,
          7.150310516357422,
          7.1221537590026855,
          7.160342693328857,
          6.139969825744629,
          7.116928577423096,
          6.567748546600342,
          6.606540679931641,
          6.400684833526611,
          6.291520595550537,
          6.6936936378479,
          6.5020222663879395,
          7.0823564529418945,
          7.270261287689209,
          6.371473789215088,
          -0.3219747245311737,
          -1.3068867921829224,
          -1.6504241228103638,
          -1.1315476894378662,
          -0.7987540364265442,
          0.02808745577931404,
          -0.2010088562965393,
          0.09814402461051941,
          -0.011242059990763664,
          -1.0544100999832153,
          -0.4944142997264862,
          -0.48851948976516724,
          -0.763789713382721,
          -1.082544207572937,
          -1.4408460855484009,
          -1.0708494186401367,
          -0.7289813756942749,
          -1.0399489402770996,
          -1.28062903881073,
          -0.6958232522010803,
          -0.44313305616378784,
          -0.8697871565818787,
          -0.836656928062439,
          -0.8392553925514221,
          -0.5857574939727783,
          -1.1876575946807861,
          -0.8576606512069702,
          -0.40240201354026794,
          -0.5467652082443237,
          -1.3620429039001465,
          -0.6434184908866882,
          -1.2260286808013916,
          -1.0648853778839111,
          -0.6747081875801086,
          -1.276505947113037,
          -0.09828364104032516,
          -1.0698957443237305,
          -1.0523866415023804,
          -0.697340190410614,
          -0.8296283483505249,
          1.6445114612579346,
          1.641291856765747,
          1.6453462839126587,
          3.792947769165039,
          3.781707286834717,
          3.8113198280334473,
          2.1769001483917236,
          2.1269311904907227,
          2.190943717956543,
          2.173414468765259,
          2.2009050846099854,
          2.177204132080078,
          2.0616586208343506,
          0.1881106048822403,
          0.33313098549842834,
          -0.16757351160049438,
          -0.2229616343975067,
          0.2517693340778351,
          -0.17611899971961975,
          0.3047003149986267,
          0.29266005754470825,
          3.267956495285034,
          3.2419724464416504,
          -2.848815679550171,
          -2.9508440494537354,
          -2.884809732437134,
          -2.7311453819274902,
          -9.62146282196045,
          -9.037591934204102,
          -10.219111442565918,
          -9.818414688110352,
          -8.9688081741333,
          -9.193010330200195,
          -8.915489196777344,
          -9.38631534576416,
          -9.009800910949707,
          -9.151243209838867,
          -9.045841217041016,
          -8.69625473022461,
          -8.746564865112305,
          -8.937837600708008,
          -9.785706520080566,
          -8.782115936279297,
          -9.384187698364258,
          -9.42137622833252,
          -10.36689281463623,
          -9.561336517333984,
          -9.31527042388916,
          -10.25337028503418,
          -9.93636417388916,
          -9.70189380645752,
          -9.754331588745117,
          -9.0054931640625,
          -9.231887817382812,
          -8.981794357299805,
          -9.013794898986816,
          -9.063581466674805,
          -8.96119213104248,
          0.7007370591163635,
          0.9014115929603577,
          1.1997199058532715,
          1.3679927587509155,
          0.6403723359107971,
          1.0631139278411865,
          0.5915276408195496,
          0.8793511390686035,
          0.756182074546814,
          1.0932012796401978,
          0.6885479092597961,
          0.7674915194511414,
          0.7088095545768738,
          1.0319856405258179,
          0.8263614177703857,
          1.0113434791564941,
          1.6816047430038452,
          0.617367148399353,
          1.0781103372573853,
          0.7648312449455261,
          0.7664737701416016,
          0.749965250492096,
          1.1084357500076294,
          0.9762973785400391,
          6.409473896026611,
          6.121702194213867,
          6.14511251449585,
          6.262076377868652,
          6.241588592529297,
          6.344675540924072,
          6.420238971710205,
          6.311013698577881,
          6.483249664306641,
          6.3908281326293945,
          6.376485347747803,
          6.228244781494141,
          6.406702518463135,
          6.227494239807129,
          6.4407057762146,
          6.127517223358154,
          -3.2122902870178223,
          -3.2237064838409424,
          -3.1689414978027344,
          -3.2406601905822754,
          -3.2400150299072266,
          -3.153714656829834,
          -3.216046094894409,
          -3.1895413398742676,
          -3.243999719619751,
          -2.1160199642181396,
          -1.7833969593048096,
          -1.8363747596740723,
          -1.8880873918533325,
          -2.0503907203674316,
          -2.1543233394622803,
          -1.9128822088241577,
          -1.8530439138412476,
          -3.06364369392395,
          -3.553046226501465,
          -3.607759714126587,
          -3.66745662689209,
          -2.676119804382324,
          -2.60942006111145,
          -9.327337265014648,
          -9.768896102905273,
          -10.174897193908691,
          -9.708117485046387,
          -9.302762985229492,
          -9.961853981018066,
          -9.824917793273926,
          -9.46333122253418,
          -9.14035701751709,
          -8.974616050720215,
          -9.571232795715332,
          -9.468494415283203,
          -9.63791275024414,
          -9.355656623840332,
          -9.904146194458008,
          -9.50474739074707,
          -9.666804313659668,
          -9.270466804504395,
          -9.645832061767578,
          -9.507405281066895,
          -8.818490028381348,
          -9.626971244812012,
          -9.489493370056152,
          -9.638736724853516,
          -9.496590614318848,
          -9.753117561340332,
          -9.668325424194336,
          -8.68402099609375,
          -9.710441589355469,
          -9.4780912399292,
          -9.064340591430664,
          -9.581713676452637,
          -9.023334503173828,
          -9.737401962280273,
          -10.0747652053833,
          -9.89880084991455,
          -9.606331825256348,
          -9.748624801635742,
          -9.070487022399902,
          -10.05091381072998,
          -9.896925926208496,
          -10.098244667053223,
          -9.36961555480957,
          -9.690080642700195,
          -8.836819648742676,
          -9.37432861328125,
          -10.409895896911621,
          -3.2524445056915283,
          -3.24521541595459,
          -3.240907907485962,
          -3.250330686569214,
          -3.2388813495635986,
          -3.239468574523926,
          -3.250290870666504,
          -3.263162136077881,
          -3.2443442344665527,
          -3.252149820327759,
          -3.2421205043792725,
          -4.487215042114258,
          -4.265259742736816,
          -4.297778129577637,
          -4.202671527862549,
          -4.3161773681640625,
          -4.246232032775879,
          -4.309093475341797,
          -4.428818225860596,
          -4.349308013916016,
          -4.353579521179199,
          -4.194008827209473,
          -4.284002304077148,
          -4.336517810821533,
          -4.297608375549316,
          -4.55241060256958,
          -4.2195143699646,
          -4.496011734008789,
          -4.371832370758057,
          -4.37129545211792,
          -4.284852981567383,
          -4.373759746551514,
          -4.269183158874512,
          -4.25148868560791,
          -4.929930210113525,
          -4.678488254547119
         ],
         "xaxis": "x",
         "y": [
          -0.1826903074979782,
          -0.3734793961048126,
          -1.1286189556121826,
          -1.0065478086471558,
          -1.2010717391967773,
          -1.217147707939148,
          -1.0644292831420898,
          7.178120136260986,
          7.35218620300293,
          7.236238479614258,
          7.221957206726074,
          7.095514297485352,
          7.091695308685303,
          7.142969608306885,
          8.107433319091797,
          7.232116222381592,
          7.533314228057861,
          7.339454174041748,
          7.7039995193481445,
          8.130694389343262,
          7.887383460998535,
          7.904797554016113,
          7.135436534881592,
          7.919895648956299,
          7.460671901702881,
          7.301694393157959,
          7.1138176918029785,
          8.19558334350586,
          7.284361839294434,
          7.943367004394531,
          7.502779006958008,
          7.762906551361084,
          7.096511363983154,
          7.537701606750488,
          7.074891090393066,
          7.736590385437012,
          7.698509216308594,
          -6.9968414306640625,
          -7.066412448883057,
          -7.244380474090576,
          -7.281582832336426,
          -7.078349590301514,
          -7.002624988555908,
          -7.082327842712402,
          -7.0039520263671875,
          -7.055887222290039,
          -7.085022926330566,
          -7.063641548156738,
          -7.248234748840332,
          -7.019783973693848,
          -7.1214118003845215,
          -6.979897975921631,
          6.330222129821777,
          6.40953254699707,
          4.058218479156494,
          4.190133571624756,
          4.043715476989746,
          4.029914379119873,
          3.932929515838623,
          4.153668403625488,
          0.780069887638092,
          0.7319778800010681,
          0.7769119739532471,
          0.7742502093315125,
          0.7783492207527161,
          -0.991150975227356,
          12.894157409667969,
          11.687515258789062,
          12.69689655303955,
          12.909839630126953,
          12.037185668945312,
          12.800926208496094,
          11.446011543273926,
          11.302946090698242,
          11.32465934753418,
          12.93718147277832,
          11.492377281188965,
          12.529593467712402,
          12.344139099121094,
          12.732417106628418,
          12.854984283447266,
          12.217342376708984,
          13.010848999023438,
          11.663310050964355,
          11.948816299438477,
          12.845356941223145,
          13.985255241394043,
          15.797687530517578,
          14.505476951599121,
          15.999320030212402,
          14.65841293334961,
          14.436796188354492,
          14.153776168823242,
          14.408842086791992,
          15.677665710449219,
          16.125438690185547,
          13.97840404510498,
          13.954608917236328,
          13.54515266418457,
          15.831626892089844,
          16.053510665893555,
          16.14763641357422,
          15.854026794433594,
          15.449252128601074,
          15.978951454162598,
          15.747175216674805,
          14.0795259475708,
          15.870948791503906,
          15.972490310668945,
          16.058303833007812,
          14.179133415222168,
          16.308349609375,
          16.195772171020508,
          15.865893363952637,
          14.379663467407227,
          16.00536346435547,
          16.483182907104492,
          15.960726737976074,
          16.081119537353516,
          13.996406555175781,
          16.058574676513672,
          13.445747375488281,
          16.200273513793945,
          14.969831466674805,
          15.59243392944336,
          15.67703914642334,
          10.311575889587402,
          10.210405349731445,
          10.185331344604492,
          5.522746562957764,
          5.522181034088135,
          5.523397922515869,
          3.8741776943206787,
          3.8733534812927246,
          3.7969164848327637,
          3.7463085651397705,
          3.7951295375823975,
          3.841623544692993,
          4.199678897857666,
          3.6258816719055176,
          3.8599486351013184,
          3.1816093921661377,
          3.107569456100464,
          3.720203399658203,
          3.168855667114258,
          3.7841460704803467,
          3.8182497024536133,
          0.42363497614860535,
          0.35929933190345764,
          -0.5889772176742554,
          -0.12599700689315796,
          0.029164008796215057,
          0.09458336234092712,
          12.62417984008789,
          11.989481925964355,
          13.04487133026123,
          12.864508628845215,
          12.72159481048584,
          12.323023796081543,
          12.20255184173584,
          13.19310474395752,
          12.906801223754883,
          12.402308464050293,
          12.833937644958496,
          12.814974784851074,
          12.445249557495117,
          12.30814266204834,
          11.932265281677246,
          11.854110717773438,
          12.415395736694336,
          12.481644630432129,
          12.960722923278809,
          12.542632102966309,
          12.501096725463867,
          13.087684631347656,
          11.945051193237305,
          12.63847827911377,
          12.707289695739746,
          12.119638442993164,
          12.323729515075684,
          13.554596900939941,
          12.185829162597656,
          12.245767593383789,
          13.182682037353516,
          -3.0522196292877197,
          -3.472285747528076,
          -3.7585275173187256,
          -4.223143577575684,
          -2.978114604949951,
          -4.1048150062561035,
          -2.856868267059326,
          -3.4274163246154785,
          -3.2027246952056885,
          -4.279382228851318,
          -3.1031341552734375,
          -3.284494161605835,
          -3.095362663269043,
          -3.6856374740600586,
          -4.31341552734375,
          -3.891413450241089,
          -4.129426002502441,
          -3.3320472240448,
          -3.862095355987549,
          -3.4317493438720703,
          -3.387296438217163,
          -3.168628215789795,
          -3.8866002559661865,
          -3.581676959991455,
          -13.912994384765625,
          -14.694544792175293,
          -14.603771209716797,
          -13.94262981414795,
          -13.819230079650879,
          -14.239275932312012,
          -13.990187644958496,
          -13.964495658874512,
          -14.50482177734375,
          -14.17941665649414,
          -14.215341567993164,
          -13.644540786743164,
          -14.241913795471191,
          -13.817282676696777,
          -14.200180053710938,
          -14.631498336791992,
          -3.067399263381958,
          -3.2397968769073486,
          -3.026024580001831,
          -3.1382198333740234,
          -3.1350719928741455,
          -3.0278398990631104,
          -3.115621566772461,
          -3.0297179222106934,
          -3.2199389934539795,
          1.3053405284881592,
          1.2513283491134644,
          0.7400481700897217,
          1.1259241104125977,
          1.1902046203613281,
          1.274267315864563,
          1.068467140197754,
          1.1021193265914917,
          -0.8761964440345764,
          0.5182283520698547,
          0.6108386516571045,
          -0.9738550186157227,
          0.4415713846683502,
          0.6450331807136536,
          -17.895505905151367,
          -16.8916072845459,
          -17.313486099243164,
          -17.406982421875,
          -17.591156005859375,
          -16.096397399902344,
          -17.106143951416016,
          -16.775392532348633,
          -18.515399932861328,
          -17.010391235351562,
          -16.97153663635254,
          -16.9271183013916,
          -16.647869110107422,
          -16.678207397460938,
          -17.06279945373535,
          -17.10927391052246,
          -16.917583465576172,
          -18.09038734436035,
          -17.785133361816406,
          -18.19356918334961,
          -17.92291831970215,
          -17.196640014648438,
          -17.43690299987793,
          -16.84579086303711,
          -17.264347076416016,
          -16.817829132080078,
          -16.904401779174805,
          -17.739702224731445,
          -16.919631958007812,
          -17.612035751342773,
          -18.169509887695312,
          -16.348024368286133,
          -17.012046813964844,
          -17.071578979492188,
          -16.796497344970703,
          -17.266704559326172,
          -17.326473236083984,
          -17.538429260253906,
          -17.229759216308594,
          -18.091371536254883,
          -16.601318359375,
          -17.035856246948242,
          -17.955114364624023,
          -17.095781326293945,
          -17.670703887939453,
          -17.964282989501953,
          -17.87689208984375,
          3.6116461753845215,
          3.6246886253356934,
          3.591764450073242,
          3.609245538711548,
          3.587756872177124,
          3.5868799686431885,
          3.609734296798706,
          3.6236231327056885,
          3.5931715965270996,
          3.6040091514587402,
          3.599215507507324,
          -0.8902616500854492,
          -0.7270326614379883,
          -0.8468992710113525,
          0.05711641162633896,
          -0.8575179576873779,
          -0.4327247738838196,
          -0.24630789458751678,
          -1.222481369972229,
          -0.4568873643875122,
          -0.752426028251648,
          -0.08054304867982864,
          -0.42916226387023926,
          -0.4325616955757141,
          -0.9331789016723633,
          0.032425470650196075,
          -0.5384254455566406,
          -0.13295859098434448,
          -1.0445703268051147,
          -0.8872782588005066,
          -0.906653106212616,
          -0.19716298580169678,
          -0.9353698492050171,
          -0.23859983682632446,
          0.08434451371431351,
          -0.9075303077697754
         ],
         "yaxis": "y"
        },
        {
         "customdata": [
          [
           "nsp1-pp1a/pp1ab:PPIH CYP20 CYPH"
          ],
          [
           "nsp1-pp1a/pp1ab:PPIA CYPA"
          ],
          [
           "nsp1-pp1a/pp1ab:FKBP1A FKBP1 FKBP12"
          ],
          [
           "nsp1-pp1a/pp1ab:PPIG"
          ],
          [
           "nsp1-pp1a/pp1ab:RCAN3 DSCR1L2"
          ],
          [
           "nsp1-pp1a/pp1ab:LAS1L MSTP060"
          ],
          [
           "nsp2-pp1a/pp1ab:SERPING1 C1IN C1NH"
          ],
          [
           "nsp2-pp1a/pp1ab:SLC46A3 FKSG16"
          ],
          [
           "nsp2-pp1a/pp1ab:NPHP3 KIAA2000"
          ],
          [
           "nsp2-pp1a/pp1ab:DEDD2 FLAME3 PSEC0004"
          ],
          [
           "nsp3-pp1a/pp1ab:MKRN3 D15S9 RNF63 ZNF127"
          ],
          [
           "nsp3-pp1a/pp1ab:ZNF410 APA1"
          ],
          [
           "nsp3-pp1a/pp1ab:ABHD17A C19orf27 FAM108A1"
          ],
          [
           "nsp3-pp1a/pp1ab:MKRN2 RNF62 HSPC070"
          ],
          [
           "nsp5-pp1a/pp1ab (3CL-PRO):ATP6V1G1 ATP6G ATP6G1 ATP6J"
          ],
          [
           "nsp5-pp1a/pp1ab (3CL-PRO):XPA XPAC"
          ],
          [
           "nsp5-pp1a/pp1ab (3CL-PRO):FKBP1A FKBP1 FKBP12"
          ],
          [
           "nsp5-pp1a/pp1ab (3CL-PRO):N4BP2L2 CG005 PFAAP5"
          ],
          [
           "nsp5-pp1a/pp1ab (3CL-PRO):C20orf27"
          ],
          [
           "nsp6-pp1a/pp1ab (TM3):ISLR UNQ189/PRO215"
          ],
          [
           "nsp7-pp1a/pp1ab:MIF4GD SLIP1"
          ],
          [
           "nsp7-pp1a/pp1ab:DDAH2 DDAH G6A NG30"
          ],
          [
           "nsp7-pp1a/pp1ab:LCP1 PLS2"
          ],
          [
           "nsp7-pp1a/pp1ab:ARL4D ARF4L"
          ],
          [
           "nsp7-pp1a/pp1ab:YWHAE"
          ],
          [
           "nsp7-pp1a/pp1ab:NAE1 APPBP1 HPP1"
          ],
          [
           "nsp7-pp1a/pp1ab:PLEKHO1 CKIP1 OC120 HQ0024c"
          ],
          [
           "nsp7-pp1a/pp1ab:RNF128"
          ],
          [
           "nsp7-pp1a/pp1ab:BAP1 KIAA0272 hucep-6"
          ],
          [
           "nsp7-pp1a/pp1ab:NCOA5 KIAA1637"
          ],
          [
           "nsp8-pp1a/pp1ab:SERPING1 C1IN C1NH"
          ],
          [
           "nsp8-pp1a/pp1ab:EIF4B"
          ],
          [
           "nsp8-pp1a/pp1ab:TERF1 PIN2 TRBF1 TRF TRF1"
          ],
          [
           "nsp8-pp1a/pp1ab:NOMO3"
          ],
          [
           "nsp8-pp1a/pp1ab:H2AFY2 MACROH2A2"
          ],
          [
           "nsp8-pp1a/pp1ab:BZW2 HSPC028 MSTP017"
          ],
          [
           "nsp9-pp1a/pp1ab:ENO1 ENO1L1 MBPB1 MPB1"
          ],
          [
           "nsp9-pp1a/pp1ab:SNAP47 C1orf142 HEL170 SVAP1"
          ],
          [
           "nsp9-pp1a/pp1ab:FAHD1 C16orf36 YISKL"
          ],
          [
           "nsp9-pp1a/pp1ab:NPHP3 KIAA2000"
          ],
          [
           "nsp9-pp1a/pp1ab:RSRP1 C1orf63 HT033 NPD014"
          ],
          [
           "nsp9-pp1a/pp1ab:CHMP2B CGI-84"
          ],
          [
           "nsp10-pp1a/pp1ab:BTF3 NACB OK/SW-cl.8"
          ],
          [
           "nsp10-pp1a/pp1ab:PTGS2 COX2"
          ],
          [
           "nsp10-pp1a/pp1ab:ATF5 ATFX"
          ],
          [
           "nsp12-pp1ab (RdRp):NDUFA10"
          ],
          [
           "nsp12-pp1ab (RdRp):HOXC6 HOX3C"
          ],
          [
           "nsp12-pp1ab (RdRp):TPSB2 TPS2"
          ],
          [
           "nsp12-pp1ab (RdRp):POLR2B"
          ],
          [
           "nsp12-pp1ab (RdRp):MNAT1 CAP35 MAT1 RNF66"
          ],
          [
           "nsp12-pp1ab (RdRp):TPSAB1 TPS1 TPS2 TPSB1"
          ],
          [
           "nsp12-pp1ab (RdRp):SNAP47 C1orf142 HEL170 SVAP1"
          ],
          [
           "nsp12-pp1ab (RdRp):CCHCR1 C6orf18 HCR"
          ],
          [
           "nsp12-pp1ab (RdRp):TBCB CG22 CKAP1"
          ],
          [
           "nsp12-pp1ab (RdRp):PFDN5 MM1 PFD5"
          ],
          [
           "nsp12-pp1ab (RdRp):CHMP2B CGI-84"
          ],
          [
           "nsp13-pp1ab (ZD, NTPase/HEL):CHEK2 CDS1 CHK2 RAD53"
          ],
          [
           "nsp13-pp1ab (ZD, NTPase/HEL):SERPING1 C1IN C1NH"
          ],
          [
           "nsp13-pp1ab (ZD, NTPase/HEL):MARK3 CTAK1 EMK2"
          ],
          [
           "nsp13-pp1ab (ZD, NTPase/HEL):OCIAD2"
          ],
          [
           "nsp13-pp1ab (ZD, NTPase/HEL):MARK2 EMK1"
          ],
          [
           "nsp13-pp1ab (ZD, NTPase/HEL):RYBP DEDAF YEAF1"
          ],
          [
           "nsp13-pp1ab (ZD, NTPase/HEL):N4BP2L2 CG005 PFAAP5"
          ],
          [
           "nsp14-pp1ab (nuclease ExoN homolog):SERPING1 C1IN C1NH"
          ],
          [
           "nsp14-pp1ab (nuclease ExoN homolog):DCTN2 DCTN50"
          ],
          [
           "nsp15-pp1ab (endoRNAse):PPIA CYPA"
          ],
          [
           "nsp4-pp1a/pp1ab:NMB"
          ],
          [
           "nsp4-pp1a/pp1ab:LAS1L MSTP060"
          ],
          [
           "S:EZR VIL2"
          ],
          [
           "M 5:CENPE"
          ],
          [
           "M 5:nan"
          ],
          [
           "M 5:SNRPD3"
          ],
          [
           "M 5:EIF4A2"
          ],
          [
           "M 5:P2RX7"
          ],
          [
           "M 5:MED1"
          ],
          [
           "M 5:RGS4"
          ],
          [
           "rep 1a-1b:RUNX1 AML1 CBFA2"
          ],
          [
           "rep 1a-1b:Bcas2 Bcas2_predicted rCG_51877"
          ],
          [
           "rep 1a-1b:Actn2 rCG_30552"
          ],
          [
           "rep 1a-1b:Thap11 Thap11_predicted rCG_51358"
          ],
          [
           "rep 1a-1b:POLD1 POLD"
          ],
          [
           "rep 1a-1b:Dars2"
          ],
          [
           "rep 1a-1b:Smarcb1 LOC103694876 rCG_60662"
          ],
          [
           "rep 1a-1b:Ddx5 rCG_35034"
          ],
          [
           "rep 1a-1b:Ada"
          ],
          [
           "rep 1a-1b:DDX1"
          ],
          [
           "rep 1a-1b:MT-CO2 COII COX2 COXII MTCO2"
          ],
          [
           "rep 1a-1b:RPSA LAMBR LAMR1"
          ],
          [
           "rep 1a-1b:NCAM1 NCAM"
          ],
          [
           "rep 1a-1b:PTGS2 COX2"
          ],
          [
           "rep 1a-1b:VHL"
          ],
          [
           "rep 1a-1b:POLR2G RPB7"
          ],
          [
           "rep 1a-1b:GNB2"
          ],
          [
           "rep 1a-1b:INCA1 HSD45"
          ],
          [
           "rep 1a-1b:IRF3"
          ],
          [
           "rep 1a-1b:PITRM1 KIAA1104 MP1 PREP"
          ],
          [
           "rep 1a-1b:UBASH3B KIAA1959 STS1"
          ],
          [
           "rep 1a-1b:PRMT1 HMT2 HRMT1L2 IR1B4"
          ],
          [
           "rep 1a-1b:TARS2 TARSL1"
          ],
          [
           "rep 1a-1b:STAB1 FEEL1 KIAA0246"
          ],
          [
           "S 2:EIF3F EIF3S5"
          ],
          [
           "S 2:ACE2 UNQ868/PRO1885"
          ],
          [
           "N 9a:HNRNPA1 HNRPA1"
          ],
          [
           "N 9a:PKM OIP3 PK2 PK3 PKM2"
          ],
          [
           "N 9a:PPIA CYPA"
          ],
          [
           "N 9a:EEF1A1 EEF1A EF1A LENG7"
          ],
          [
           "M 5:IKBKB IKKB"
          ],
          [
           "3a:YWHAE"
          ],
          [
           "3a:CAV1 CAV"
          ],
          [
           "3a:DCTN2 DCTN50"
          ],
          [
           "3a:PFDN5 MM1 PFD5"
          ],
          [
           "3b:ALB GIG20 GIG42 PRO0903 PRO1708 PRO2044 PRO2619 PRO2675 UNQ696/PRO1341"
          ],
          [
           "3b:SERPING1 C1IN C1NH"
          ],
          [
           "3b:DCTN2 DCTN50"
          ],
          [
           "6:SNAPIN BLOC1S7 SNAP25BP SNAPAP"
          ],
          [
           "6:DNAJB1 DNAJ1 HDJ1 HSPF1"
          ],
          [
           "6:KPNA2 RCH1 SRP1"
          ],
          [
           "6:PKD1"
          ],
          [
           "6:TIAM1"
          ],
          [
           "6:NMI"
          ],
          [
           "6:DCTN2 DCTN50"
          ],
          [
           "6:FRY C13orf14"
          ],
          [
           "6:RNF123 KPC1 FP1477"
          ],
          [
           "6:BRF1 BRF GTF3B TAF3B2 TAF3C"
          ],
          [
           "6:UBQLN1 DA41 PLIC1"
          ],
          [
           "7a:SGTA SGT SGT1"
          ],
          [
           "7a:BCL2"
          ],
          [
           "7a:NUDT2 APAH1"
          ],
          [
           "7a:BCL2L1 BCL2L BCLX"
          ],
          [
           "7a:MCL1 BCL2L3"
          ],
          [
           "7a:BCL2A1 BCL2L5 BFL1 GRS HBPA1"
          ],
          [
           "7a:BCL2L2 BCLW KIAA0271"
          ],
          [
           "7a:VKORC1 VKOR MSTP134 MSTP576 UNQ308/PRO351"
          ],
          [
           "7a:SMOC1"
          ],
          [
           "9b:RPS17 RPS17L"
          ],
          [
           "9b:PSMA2 HC3 PSC3"
          ],
          [
           "9b:MARK3 CTAK1 EMK2"
          ],
          [
           "9b:RPS20"
          ],
          [
           "E sM 4:SDCBP MDA9 SYCL"
          ],
          [
           "E sM 4:BCL2L1 BCL2L BCLX"
          ],
          [
           "8a:BAG6 BAT3 G3"
          ],
          [
           "7b:SERPING1 C1IN C1NH"
          ],
          [
           "7b:CAMLG CAML"
          ]
         ],
         "hovertemplate": "virus=other corona<br>PCA1=%{x}<br>PCA2=%{y}<br>PPI=%{customdata[0]}<extra></extra>",
         "legendgroup": "other corona",
         "marker": {
          "color": "#00cc96",
          "symbol": "circle"
         },
         "mode": "markers",
         "name": "other corona",
         "showlegend": true,
         "type": "scattergl",
         "x": [
          -6.386102676391602,
          -0.19293224811553955,
          -6.333754062652588,
          -6.3280205726623535,
          -6.3824992179870605,
          -6.3769025802612305,
          2.661287546157837,
          2.666522264480591,
          2.45774245262146,
          2.6091737747192383,
          4.066384315490723,
          3.5096893310546875,
          3.722846746444702,
          3.6649951934814453,
          3.338608980178833,
          3.305067777633667,
          3.3067519664764404,
          3.3299386501312256,
          3.3110761642456055,
          -2.8299334049224854,
          -9.614927291870117,
          -9.224857330322266,
          -10.015449523925781,
          -9.061423301696777,
          -9.933025360107422,
          -9.9917631149292,
          -10.639325141906738,
          -9.887922286987305,
          -9.888495445251465,
          -9.792564392089844,
          1.3298439979553223,
          0.8172141909599304,
          0.9683854579925537,
          1.0590611696243286,
          0.920926034450531,
          1.0073227882385254,
          6.432611465454102,
          6.5054521560668945,
          6.304677486419678,
          6.466815948486328,
          6.196816921234131,
          6.271098613739014,
          1.1067893505096436,
          1.0905803442001343,
          1.0971770286560059,
          6.766702651977539,
          7.1770830154418945,
          7.089655876159668,
          6.311776161193848,
          6.567728519439697,
          7.09016752243042,
          6.409312725067139,
          6.42715311050415,
          7.243155002593994,
          6.973774433135986,
          7.456803798675537,
          -0.5392318367958069,
          -0.37604543566703796,
          -0.6967164278030396,
          -0.0944364070892334,
          -0.669570803642273,
          -0.07138046622276306,
          -0.3771365284919739,
          1.5302324295043945,
          2.024918556213379,
          -0.012578308582305908,
          0.22300367057323456,
          0.31467124819755554,
          0.5938255190849304,
          -0.1892949640750885,
          -0.20556306838989258,
          0.24285709857940674,
          -0.2770173251628876,
          -0.19781196117401123,
          -0.01335182785987854,
          -0.11938986927270889,
          -0.07724888622760773,
          -0.014042507857084274,
          -0.2782982587814331,
          0.23660220205783844,
          -0.1886555403470993,
          -0.26592040061950684,
          -0.1462171971797943,
          4.009139060974121,
          3.750009536743164,
          3.888526439666748,
          4.708617210388184,
          4.380589008331299,
          4.156111717224121,
          4.025245666503906,
          4.314327716827393,
          4.696876049041748,
          4.664740085601807,
          4.729949951171875,
          4.032491207122803,
          4.045953750610352,
          4.066930770874023,
          3.491957664489746,
          4.130531311035156,
          4.109317779541016,
          4.6265130043029785,
          4.108859539031982,
          4.784226417541504,
          3.8256664276123047,
          0.19341163337230682,
          4.32643461227417,
          4.019179821014404,
          3.2141222953796387,
          4.248252868652344,
          2.5966365337371826,
          5.347797393798828,
          3.9957025051116943,
          3.526387929916382,
          2.5965373516082764,
          4.749527454376221,
          3.6651203632354736,
          4.060612678527832,
          4.169705390930176,
          3.9014742374420166,
          4.92301082611084,
          2.596585750579834,
          4.033654689788818,
          3.948479413986206,
          3.682744264602661,
          4.760348796844482,
          4.564940452575684,
          4.569969654083252,
          4.659177780151367,
          4.520078182220459,
          2.6529428958892822,
          2.7178118228912354,
          8.254999160766602,
          8.247930526733398,
          9.138043403625488,
          8.24936294555664,
          8.404998779296875,
          9.080561637878418,
          -3.082601308822632,
          -1.7088979482650757,
          -1.5009180307388306,
          -1.785464882850647,
          -1.5950757265090942,
          -2.207822561264038
         ],
         "xaxis": "x",
         "y": [
          3.859523296356201,
          9.507525444030762,
          3.755516767501831,
          3.754517078399658,
          3.833543300628662,
          3.842792510986328,
          4.823811054229736,
          4.882331371307373,
          4.1714324951171875,
          4.765980243682861,
          8.830678939819336,
          9.281925201416016,
          8.882347106933594,
          8.724082946777344,
          0.45743030309677124,
          0.45037612318992615,
          0.5001477003097534,
          0.5094391107559204,
          0.45500311255455017,
          -0.601590633392334,
          12.501654624938965,
          12.424479484558105,
          12.879602432250977,
          12.232039451599121,
          13.70662784576416,
          12.941315650939941,
          12.886164665222168,
          12.560523986816406,
          12.861454010009766,
          12.523015022277832,
          -3.5512969493865967,
          -3.1534066200256348,
          -3.3294317722320557,
          -3.7623660564422607,
          -3.687908411026001,
          -3.789919853210449,
          -14.169671058654785,
          -14.310797691345215,
          -13.926931381225586,
          -14.354278564453125,
          -13.516462326049805,
          -13.666974067687988,
          0.771487295627594,
          0.7851607203483582,
          0.7768315672874451,
          12.384474754333496,
          11.435980796813965,
          11.352970123291016,
          12.81443977355957,
          13.362582206726074,
          11.349695205688477,
          12.844407081604004,
          13.026460647583008,
          11.941590309143066,
          11.18659496307373,
          11.628488540649414,
          14.327997207641602,
          13.717941284179688,
          14.398797988891602,
          13.459074020385742,
          14.377958297729492,
          13.290993690490723,
          15.229864120483398,
          10.019377708435059,
          11.152603149414062,
          9.569186210632324,
          3.657578706741333,
          3.6943745613098145,
          15.939209938049316,
          6.671557903289795,
          6.487472057342529,
          5.918643474578857,
          6.633213996887207,
          6.509844779968262,
          6.287123203277588,
          6.396548271179199,
          6.345266342163086,
          6.39212703704834,
          6.821174621582031,
          5.937020301818848,
          6.465887069702148,
          6.62307071685791,
          6.486754894256592,
          11.150521278381348,
          10.049736022949219,
          10.509255409240723,
          8.876730918884277,
          9.900391578674316,
          11.517069816589355,
          10.171878814697266,
          9.139062881469727,
          8.95660400390625,
          10.69186019897461,
          9.85961627960205,
          10.349067687988281,
          11.219950675964355,
          10.074298858642578,
          10.362560272216797,
          10.01594352722168,
          10.161172866821289,
          9.109238624572754,
          10.996603012084961,
          9.075726509094238,
          10.083066940307617,
          9.653632164001465,
          9.422348976135254,
          11.324162483215332,
          11.005634307861328,
          9.148244857788086,
          11.348287582397461,
          9.444942474365234,
          9.720699310302734,
          9.887003898620605,
          11.348642349243164,
          9.036931037902832,
          9.95865249633789,
          10.457090377807617,
          10.120339393615723,
          11.431253433227539,
          10.04116153717041,
          11.34833812713623,
          10.734650611877441,
          10.525674819946289,
          10.808182716369629,
          10.462939262390137,
          9.559708595275879,
          9.122573852539062,
          8.938563346862793,
          9.446471214294434,
          7.051896572113037,
          7.224379539489746,
          -6.916292667388916,
          -6.79296875,
          -6.9847941398620605,
          -6.991569519042969,
          -6.943509101867676,
          -7.029872894287109,
          6.579584121704102,
          0.986843466758728,
          1.1166328191757202,
          1.0232155323028564,
          1.243891954421997,
          -0.1826903074979782
         ],
         "yaxis": "y"
        }
       ],
       "layout": {
        "legend": {
         "title": {
          "text": "virus"
         },
         "tracegroupgap": 0
        },
        "margin": {
         "t": 60
        },
        "template": {
         "data": {
          "bar": [
           {
            "error_x": {
             "color": "#2a3f5f"
            },
            "error_y": {
             "color": "#2a3f5f"
            },
            "marker": {
             "line": {
              "color": "#E5ECF6",
              "width": 0.5
             }
            },
            "type": "bar"
           }
          ],
          "barpolar": [
           {
            "marker": {
             "line": {
              "color": "#E5ECF6",
              "width": 0.5
             }
            },
            "type": "barpolar"
           }
          ],
          "carpet": [
           {
            "aaxis": {
             "endlinecolor": "#2a3f5f",
             "gridcolor": "white",
             "linecolor": "white",
             "minorgridcolor": "white",
             "startlinecolor": "#2a3f5f"
            },
            "baxis": {
             "endlinecolor": "#2a3f5f",
             "gridcolor": "white",
             "linecolor": "white",
             "minorgridcolor": "white",
             "startlinecolor": "#2a3f5f"
            },
            "type": "carpet"
           }
          ],
          "choropleth": [
           {
            "colorbar": {
             "outlinewidth": 0,
             "ticks": ""
            },
            "type": "choropleth"
           }
          ],
          "contour": [
           {
            "colorbar": {
             "outlinewidth": 0,
             "ticks": ""
            },
            "colorscale": [
             [
              0,
              "#0d0887"
             ],
             [
              0.1111111111111111,
              "#46039f"
             ],
             [
              0.2222222222222222,
              "#7201a8"
             ],
             [
              0.3333333333333333,
              "#9c179e"
             ],
             [
              0.4444444444444444,
              "#bd3786"
             ],
             [
              0.5555555555555556,
              "#d8576b"
             ],
             [
              0.6666666666666666,
              "#ed7953"
             ],
             [
              0.7777777777777778,
              "#fb9f3a"
             ],
             [
              0.8888888888888888,
              "#fdca26"
             ],
             [
              1,
              "#f0f921"
             ]
            ],
            "type": "contour"
           }
          ],
          "contourcarpet": [
           {
            "colorbar": {
             "outlinewidth": 0,
             "ticks": ""
            },
            "type": "contourcarpet"
           }
          ],
          "heatmap": [
           {
            "colorbar": {
             "outlinewidth": 0,
             "ticks": ""
            },
            "colorscale": [
             [
              0,
              "#0d0887"
             ],
             [
              0.1111111111111111,
              "#46039f"
             ],
             [
              0.2222222222222222,
              "#7201a8"
             ],
             [
              0.3333333333333333,
              "#9c179e"
             ],
             [
              0.4444444444444444,
              "#bd3786"
             ],
             [
              0.5555555555555556,
              "#d8576b"
             ],
             [
              0.6666666666666666,
              "#ed7953"
             ],
             [
              0.7777777777777778,
              "#fb9f3a"
             ],
             [
              0.8888888888888888,
              "#fdca26"
             ],
             [
              1,
              "#f0f921"
             ]
            ],
            "type": "heatmap"
           }
          ],
          "heatmapgl": [
           {
            "colorbar": {
             "outlinewidth": 0,
             "ticks": ""
            },
            "colorscale": [
             [
              0,
              "#0d0887"
             ],
             [
              0.1111111111111111,
              "#46039f"
             ],
             [
              0.2222222222222222,
              "#7201a8"
             ],
             [
              0.3333333333333333,
              "#9c179e"
             ],
             [
              0.4444444444444444,
              "#bd3786"
             ],
             [
              0.5555555555555556,
              "#d8576b"
             ],
             [
              0.6666666666666666,
              "#ed7953"
             ],
             [
              0.7777777777777778,
              "#fb9f3a"
             ],
             [
              0.8888888888888888,
              "#fdca26"
             ],
             [
              1,
              "#f0f921"
             ]
            ],
            "type": "heatmapgl"
           }
          ],
          "histogram": [
           {
            "marker": {
             "colorbar": {
              "outlinewidth": 0,
              "ticks": ""
             }
            },
            "type": "histogram"
           }
          ],
          "histogram2d": [
           {
            "colorbar": {
             "outlinewidth": 0,
             "ticks": ""
            },
            "colorscale": [
             [
              0,
              "#0d0887"
             ],
             [
              0.1111111111111111,
              "#46039f"
             ],
             [
              0.2222222222222222,
              "#7201a8"
             ],
             [
              0.3333333333333333,
              "#9c179e"
             ],
             [
              0.4444444444444444,
              "#bd3786"
             ],
             [
              0.5555555555555556,
              "#d8576b"
             ],
             [
              0.6666666666666666,
              "#ed7953"
             ],
             [
              0.7777777777777778,
              "#fb9f3a"
             ],
             [
              0.8888888888888888,
              "#fdca26"
             ],
             [
              1,
              "#f0f921"
             ]
            ],
            "type": "histogram2d"
           }
          ],
          "histogram2dcontour": [
           {
            "colorbar": {
             "outlinewidth": 0,
             "ticks": ""
            },
            "colorscale": [
             [
              0,
              "#0d0887"
             ],
             [
              0.1111111111111111,
              "#46039f"
             ],
             [
              0.2222222222222222,
              "#7201a8"
             ],
             [
              0.3333333333333333,
              "#9c179e"
             ],
             [
              0.4444444444444444,
              "#bd3786"
             ],
             [
              0.5555555555555556,
              "#d8576b"
             ],
             [
              0.6666666666666666,
              "#ed7953"
             ],
             [
              0.7777777777777778,
              "#fb9f3a"
             ],
             [
              0.8888888888888888,
              "#fdca26"
             ],
             [
              1,
              "#f0f921"
             ]
            ],
            "type": "histogram2dcontour"
           }
          ],
          "mesh3d": [
           {
            "colorbar": {
             "outlinewidth": 0,
             "ticks": ""
            },
            "type": "mesh3d"
           }
          ],
          "parcoords": [
           {
            "line": {
             "colorbar": {
              "outlinewidth": 0,
              "ticks": ""
             }
            },
            "type": "parcoords"
           }
          ],
          "pie": [
           {
            "automargin": true,
            "type": "pie"
           }
          ],
          "scatter": [
           {
            "marker": {
             "colorbar": {
              "outlinewidth": 0,
              "ticks": ""
             }
            },
            "type": "scatter"
           }
          ],
          "scatter3d": [
           {
            "line": {
             "colorbar": {
              "outlinewidth": 0,
              "ticks": ""
             }
            },
            "marker": {
             "colorbar": {
              "outlinewidth": 0,
              "ticks": ""
             }
            },
            "type": "scatter3d"
           }
          ],
          "scattercarpet": [
           {
            "marker": {
             "colorbar": {
              "outlinewidth": 0,
              "ticks": ""
             }
            },
            "type": "scattercarpet"
           }
          ],
          "scattergeo": [
           {
            "marker": {
             "colorbar": {
              "outlinewidth": 0,
              "ticks": ""
             }
            },
            "type": "scattergeo"
           }
          ],
          "scattergl": [
           {
            "marker": {
             "colorbar": {
              "outlinewidth": 0,
              "ticks": ""
             }
            },
            "type": "scattergl"
           }
          ],
          "scattermapbox": [
           {
            "marker": {
             "colorbar": {
              "outlinewidth": 0,
              "ticks": ""
             }
            },
            "type": "scattermapbox"
           }
          ],
          "scatterpolar": [
           {
            "marker": {
             "colorbar": {
              "outlinewidth": 0,
              "ticks": ""
             }
            },
            "type": "scatterpolar"
           }
          ],
          "scatterpolargl": [
           {
            "marker": {
             "colorbar": {
              "outlinewidth": 0,
              "ticks": ""
             }
            },
            "type": "scatterpolargl"
           }
          ],
          "scatterternary": [
           {
            "marker": {
             "colorbar": {
              "outlinewidth": 0,
              "ticks": ""
             }
            },
            "type": "scatterternary"
           }
          ],
          "surface": [
           {
            "colorbar": {
             "outlinewidth": 0,
             "ticks": ""
            },
            "colorscale": [
             [
              0,
              "#0d0887"
             ],
             [
              0.1111111111111111,
              "#46039f"
             ],
             [
              0.2222222222222222,
              "#7201a8"
             ],
             [
              0.3333333333333333,
              "#9c179e"
             ],
             [
              0.4444444444444444,
              "#bd3786"
             ],
             [
              0.5555555555555556,
              "#d8576b"
             ],
             [
              0.6666666666666666,
              "#ed7953"
             ],
             [
              0.7777777777777778,
              "#fb9f3a"
             ],
             [
              0.8888888888888888,
              "#fdca26"
             ],
             [
              1,
              "#f0f921"
             ]
            ],
            "type": "surface"
           }
          ],
          "table": [
           {
            "cells": {
             "fill": {
              "color": "#EBF0F8"
             },
             "line": {
              "color": "white"
             }
            },
            "header": {
             "fill": {
              "color": "#C8D4E3"
             },
             "line": {
              "color": "white"
             }
            },
            "type": "table"
           }
          ]
         },
         "layout": {
          "annotationdefaults": {
           "arrowcolor": "#2a3f5f",
           "arrowhead": 0,
           "arrowwidth": 1
          },
          "coloraxis": {
           "colorbar": {
            "outlinewidth": 0,
            "ticks": ""
           }
          },
          "colorscale": {
           "diverging": [
            [
             0,
             "#8e0152"
            ],
            [
             0.1,
             "#c51b7d"
            ],
            [
             0.2,
             "#de77ae"
            ],
            [
             0.3,
             "#f1b6da"
            ],
            [
             0.4,
             "#fde0ef"
            ],
            [
             0.5,
             "#f7f7f7"
            ],
            [
             0.6,
             "#e6f5d0"
            ],
            [
             0.7,
             "#b8e186"
            ],
            [
             0.8,
             "#7fbc41"
            ],
            [
             0.9,
             "#4d9221"
            ],
            [
             1,
             "#276419"
            ]
           ],
           "sequential": [
            [
             0,
             "#0d0887"
            ],
            [
             0.1111111111111111,
             "#46039f"
            ],
            [
             0.2222222222222222,
             "#7201a8"
            ],
            [
             0.3333333333333333,
             "#9c179e"
            ],
            [
             0.4444444444444444,
             "#bd3786"
            ],
            [
             0.5555555555555556,
             "#d8576b"
            ],
            [
             0.6666666666666666,
             "#ed7953"
            ],
            [
             0.7777777777777778,
             "#fb9f3a"
            ],
            [
             0.8888888888888888,
             "#fdca26"
            ],
            [
             1,
             "#f0f921"
            ]
           ],
           "sequentialminus": [
            [
             0,
             "#0d0887"
            ],
            [
             0.1111111111111111,
             "#46039f"
            ],
            [
             0.2222222222222222,
             "#7201a8"
            ],
            [
             0.3333333333333333,
             "#9c179e"
            ],
            [
             0.4444444444444444,
             "#bd3786"
            ],
            [
             0.5555555555555556,
             "#d8576b"
            ],
            [
             0.6666666666666666,
             "#ed7953"
            ],
            [
             0.7777777777777778,
             "#fb9f3a"
            ],
            [
             0.8888888888888888,
             "#fdca26"
            ],
            [
             1,
             "#f0f921"
            ]
           ]
          },
          "colorway": [
           "#636efa",
           "#EF553B",
           "#00cc96",
           "#ab63fa",
           "#FFA15A",
           "#19d3f3",
           "#FF6692",
           "#B6E880",
           "#FF97FF",
           "#FECB52"
          ],
          "font": {
           "color": "#2a3f5f"
          },
          "geo": {
           "bgcolor": "white",
           "lakecolor": "white",
           "landcolor": "#E5ECF6",
           "showlakes": true,
           "showland": true,
           "subunitcolor": "white"
          },
          "hoverlabel": {
           "align": "left"
          },
          "hovermode": "closest",
          "mapbox": {
           "style": "light"
          },
          "paper_bgcolor": "white",
          "plot_bgcolor": "#E5ECF6",
          "polar": {
           "angularaxis": {
            "gridcolor": "white",
            "linecolor": "white",
            "ticks": ""
           },
           "bgcolor": "#E5ECF6",
           "radialaxis": {
            "gridcolor": "white",
            "linecolor": "white",
            "ticks": ""
           }
          },
          "scene": {
           "xaxis": {
            "backgroundcolor": "#E5ECF6",
            "gridcolor": "white",
            "gridwidth": 2,
            "linecolor": "white",
            "showbackground": true,
            "ticks": "",
            "zerolinecolor": "white"
           },
           "yaxis": {
            "backgroundcolor": "#E5ECF6",
            "gridcolor": "white",
            "gridwidth": 2,
            "linecolor": "white",
            "showbackground": true,
            "ticks": "",
            "zerolinecolor": "white"
           },
           "zaxis": {
            "backgroundcolor": "#E5ECF6",
            "gridcolor": "white",
            "gridwidth": 2,
            "linecolor": "white",
            "showbackground": true,
            "ticks": "",
            "zerolinecolor": "white"
           }
          },
          "shapedefaults": {
           "line": {
            "color": "#2a3f5f"
           }
          },
          "ternary": {
           "aaxis": {
            "gridcolor": "white",
            "linecolor": "white",
            "ticks": ""
           },
           "baxis": {
            "gridcolor": "white",
            "linecolor": "white",
            "ticks": ""
           },
           "bgcolor": "#E5ECF6",
           "caxis": {
            "gridcolor": "white",
            "linecolor": "white",
            "ticks": ""
           }
          },
          "title": {
           "x": 0.05
          },
          "xaxis": {
           "automargin": true,
           "gridcolor": "white",
           "linecolor": "white",
           "ticks": "",
           "title": {
            "standoff": 15
           },
           "zerolinecolor": "white",
           "zerolinewidth": 2
          },
          "yaxis": {
           "automargin": true,
           "gridcolor": "white",
           "linecolor": "white",
           "ticks": "",
           "title": {
            "standoff": 15
           },
           "zerolinecolor": "white",
           "zerolinewidth": 2
          }
         }
        },
        "xaxis": {
         "anchor": "y",
         "domain": [
          0,
          1
         ],
         "title": {
          "text": "PCA1"
         }
        },
        "yaxis": {
         "anchor": "x",
         "domain": [
          0,
          1
         ],
         "title": {
          "text": "PCA2"
         }
        }
       }
      },
      "text/html": [
       "<div>\n",
       "        \n",
       "        \n",
       "            <div id=\"305a8a2d-7003-4fed-bc8c-4db58f135e9f\" class=\"plotly-graph-div\" style=\"height:525px; width:100%;\"></div>\n",
       "            <script type=\"text/javascript\">\n",
       "                require([\"plotly\"], function(Plotly) {\n",
       "                    window.PLOTLYENV=window.PLOTLYENV || {};\n",
       "                    \n",
       "                if (document.getElementById(\"305a8a2d-7003-4fed-bc8c-4db58f135e9f\")) {\n",
       "                    Plotly.newPlot(\n",
       "                        '305a8a2d-7003-4fed-bc8c-4db58f135e9f',\n",
       "                        [{\"customdata\": [[\"vpr:AGPS AAG5\"], [\"vpr:NDUFS8\"], [\"env:CLIC1 G6 NCC27\"], [\"gag:AP3D1 PRO0039\"], [\"vpu:KCNK3 TASK TASK1\"], [\"env:ADAM10 KUZ MADM\"], [\"nef:ACOT8 ACTEIII PTE1\"], [\"vpu:SCAMP3 C1orf3 PROPIN1\"], [\"vpr:GEMIN2 SIP1\"], [\"vpr:HAT1 KAT1\"], [\"env:CLGN\"], [\"vpu:XPO1 CRM1\"], [\"tat:HTATSF1\"], [\"vpu:SGTA SGT SGT1\"], [\"env:CALU\"], [\"vpr:CCNT1\"], [\"tat:CCNT1\"], [\"tat:CCNT2\"], [\"vif:DNAJA2 CPR3 HIRIP4\"], [\"vpr:ANKRD17 GTAR KIAA0697\"], [\"vpr:TULP3 TUBL3\"], [\"gag:BANF1 BAF BCRG1\"], [\"vif:ERAL1 HERA\"], [\"vpr:TOM1L1 SRCASM\"], [\"env:CRTAP CASP\"], [\"vpr:CDC123 C10orf7 D123\"], [\"vpu:ATP5PD ATP5H My032\"], [\"env:CPD\"], [\"vpu:RTN3 ASYIP NSPL2\"], [\"vpu:SGPL1 KIAA1252\"], [\"env:ACSL3 ACS3 FACL3 LACS3\"], [\"vpu:ACSL3 ACS3 FACL3 LACS3\"], [\"nef:AP2A1 ADTAA CLAPA1\"], [\"vif:AIFM1 AIF PDCD8\"], [\"env:ABHD16A BAT5 G5 NG26 PP199\"], [\"env:CLPTM1\"], [\"env:CD4\"], [\"nef:CD4\"], [\"vpu:CD4\"], [\"env:APOH B2G1\"], [\"gag:APOH B2G1\"], [\"vpr:NR3C1 GRL\"], [\"env:CD3D T3D\"], [\"env:TMEM131L KIAA0922\"], [\"env:PSMD11\"], [\"env:PGRMC1 HPR6.6 PGRMC\"], [\"env:NEMP1 KIAA0286 TMEM194 TMEM194A\"], [\"env:TOR1A DQ2 DYT1 TA TORA\"], [\"env:TM9SF1\"], [\"env:TAPBP NGS17 TAPA\"], [\"env:GPAA1 GAA1\"], [\"env:ITM2A UNQ603/PRO1189\"], [\"env:EXTL3 EXTL1L EXTR1 KIAA0519\"], [\"env:LY75 CD205 CLEC13B\"], [\"env:PLOD3\"], [\"env:PRAF2 JM4\"], [\"env:SLIT1 KIAA0813 MEGF4 SLIL1\"], [\"env:SEC22B SEC22L1\"], [\"env:ATP6AP2 ATP6IP2 CAPER ELDF10 HT028 MSTP009 PSEC0072\"], [\"env:FLOT1\"], [\"env:SUN1 KIAA0810 UNC84A\"], [\"env:CYB5R3 DIA1\"], [\"env:PGK1 PGKA MIG10 OK/SW-cl.110\"], [\"env:LDLR\"], [\"env:TRBV12-3 TCRBV12S3 TCRBV8S1\"], [\"env:TRBC1\"], [\"env:HLA-B HLAB\"], [\"env:TFRC\"], [\"env:TRGV3 TCRGV3\"], [\"env:HLA-A HLAA\"], [\"env:RPN1\"], [\"env:RPN2\"], [\"env:ITGB2 CD18 MFI7\"], [\"env:ITGB1 FNRB MDF2 MSK12\"], [\"env:P4HB ERBA2L PDI PDIA1 PO4DB\"], [\"env:RHOC ARH9 ARHC\"], [\"env:PTPRC CD45\"], [\"env:UBB\"], [\"env:HLA-C HLAC\"], [\"env:IGF2R MPRI\"], [\"env:IMPDH2 IMPD2\"], [\"env:RNH1 PRI RNH\"], [\"env:PDIA4 ERP70 ERP72\"], [\"env:P4HA1 P4HA\"], [\"env:HLA-E HLA-6.2 HLAE\"], [\"env:PRKCSH G19P1\"], [\"env:HSP90B1 GRP94 TRA1\"], [\"env:RAC2\"], [\"env:IGLL1 IGL1\"], [\"env:POR CYPOR\"], [\"env:PSMC3 TBP1\"], [\"env:LMNB1 LMN2 LMNB\"], [\"env:ITGAL CD11A\"], [\"env:VDAC1 VDAC\"], [\"env:ITGA6\"], [\"env:PSMA1 HC2 NU PROS30 PSC2\"], [\"env:PSMB6 LMPY Y\"], [\"env:ERP29 C12orf8 ERP28\"], [\"env:PDIA3 ERP57 ERP60 GRP58\"], [\"env:IL2RG\"], [\"env:ICAM3\"], [\"env:PHB\"], [\"env:FDFT1\"], [\"env:DDOST KIAA0115 OST48 OK/SW-cl.45\"], [\"env:SSR1 TRAPA PSEC0262\"], [\"env:KIR3DL1 CD158E NKAT3 NKB1\"], [\"env:KIR3DL2 CD158K NKAT4\"], [\"env:VDAC2\"], [\"env:NOTCH1 TAN1\"], [\"env:HSPA13 STCH\"], [\"env:LMAN1 ERGIC53 F5F8D\"], [\"env:THBS3 TSP3\"], [\"env:TMED10 TMP21\"], [\"env:EMD EDMD STA\"], [\"env:CCT8 C21orf112 CCTQ KIAA0002\"], [\"env:RAB5C RABL\"], [\"env:RAB7A RAB7\"], [\"env:SSR4 TRAPD\"], [\"env:VCP\"], [\"env:RAB10\"], [\"env:RAB14\"], [\"env:SEC61A1 SEC61A\"], [\"env:RAB11A RAB11\"], [\"env:NUCB2 NEFA\"], [\"env:VLDLR\"], [\"env:PLOD1 LLH PLOD\"], [\"env:TAP2 ABCB3 PSF2 RING11 Y1\"], [\"env:LMAN2 C5orf8\"], [\"env:PDIA2 PDIP\"], [\"env:PSMD2 TRAP2\"], [\"env:OS9\"], [\"env:TUSC3 N33\"], [\"env:STIM1 GOK\"], [\"env:MOGS GCS1\"], [\"env:RCN2 ERC55\"], [\"env:MESD KIAA0081 MESDC2 MESDM UNQ1911/PRO4369\"], [\"env:GANAB G2AN KIAA0088\"], [\"env:PDIA6 ERP5 P5 TXNDC7\"], [\"env:PON2\"], [\"env:RCN1 RCN\"], [\"env:P3H1 GROS1 LEPRE1 PSEC0109\"], [\"env:nan\"], [\"env:MIA3 KIAA0268 TANGO UNQ6077/PRO20088\"], [\"env:TOR1AIP1 LAP1\"], [\"env:ERAP2 LRAP\"], [\"env:LPCAT3 MBOAT5 OACT5\"], [\"env:TXNDC11 EFP1\"], [\"env:IKBIP IKIP\"], [\"env:PLD3\"], [\"env:ITPRIP DANGER KIAA1754\"], [\"env:EMC1 KIAA0090 PSEC0263\"], [\"env:COLGALT1 GLT25D1 PSEC0241\"], [\"env:SUMF2 PSEC0171 UNQ1968/PRO4500\"], [\"env:TTC13 PSEC0076\"], [\"env:TXNDC5 TLP46 UNQ364/PRO700\"], [\"env:TOR1AIP2 IFRG15 LULL1\"], [\"env:RDH11 ARSDR1 PSDR1 SDR7C1 CGI-82\"], [\"env:STT3B SIMP\"], [\"env:HM13 H13 IMP1 PSL3 SPP MSTP086\"], [\"env:NUP210 KIAA0906 PSEC0245\"], [\"env:NUP133\"], [\"env:HSPH1 HSP105 HSP110 KIAA0201\"], [\"env:PIGK GPI8\"], [\"env:GLG1 CFR1 ESL1 MG160\"], [\"env:EXT2\"], [\"env:PIGT CGI-06 PSEC0163 UNQ716/PRO1379\"], [\"env:ERGIC1 ERGIC32 KIAA1181 HT034\"], [\"env:TTC17\"], [\"env:PBXIP1 HPIP\"], [\"env:ERLEC1 C2orf30 XTP3TPB UNQ1878/PRO4321\"], [\"env:SEH1L SEC13L SEH1\"], [\"env:C16orf58\"], [\"env:ERO1A ERO1L UNQ434/PRO865\"], [\"env:NGLY1 PNG1\"], [\"env:TMX3 KIAA1830 TXNDC10\"], [\"env:HHIP HIP UNQ5825/PRO19644\"], [\"env:ERGIC2 ERV41 PTX1 CDA14\"], [\"env:GPX7 GPX6 UNQ469/PRO828\"], [\"env:PSMD1\"], [\"env:SDF2\"], [\"env:NEU1 NANH\"], [\"env:SORT1\"], [\"env:RNF5 G16 NG2 RMA1\"], [\"env:ERP44 KIAA0573 TXNDC4 UNQ532/PRO1075\"], [\"env:ESYT1 FAM62A KIAA0747 MBC2\"], [\"env:TMEM43 UNQ2564/PRO6244\"], [\"env:LMF2 TMEM112B TMEM153\"], [\"env:RAB5IF C20orf24 RCAF1 PNAS-11\"], [\"env:TMEM109\"], [\"env:TAPBPL\"], [\"env:FUT8\"], [\"env:OSBPL8 KIAA1451 ORP8 OSBP10\"], [\"env:MAGT1 IAG2 PSEC0084 UNQ628/PRO1244\"], [\"env:SIL1 UNQ545/PRO836\"], [\"env:TMX4 KIAA1162 TXNDC13 PSEC0095 UNQ475/PRO938\"], [\"env:TMX1 TMX TXNDC TXNDC1 PSEC0085 UNQ235/PRO268\"], [\"env:ACBD3 GCP60 GOCAP1 GOLPH1\"], [\"env:TOR3A ADIR\"], [\"env:SDF2L1 UNQ1941/PRO4424\"], [\"env:SAR1A SAR1 SARA SARA1\"], [\"env:SACM1L KIAA0851\"], [\"env:TMEM38B C9orf87\"], [\"env:QPCTL\"], [\"env:UGGT1 GT UGCGL1 UGGT UGT1 UGTR\"], [\"env:ERAP1 APPILS ARTS1 KIAA0525 UNQ584/PRO1154\"], [\"env:SEL1L TSA305 UNQ128/PRO1063\"], [\"env:SUN2 FRIGG KIAA0668 RAB5IP UNC84B\"], [\"env:PSMD13\"], [\"env:RUVBL2 INO80J TIP48 TIP49B CGI-46\"], [\"env:RUVBL1 INO80H NMP238 TIP49 TIP49A\"], [\"env:ERGIC3 C20orf47 ERV46 SDBCAG84 CGI-54 PRO0989\"], [\"env:ITM2B BRI BRI2\"], [\"env:HYOU1 GRP170 ORP150\"], [\"env:SRPRB PSEC0230\"], [\"env:PRSS21 ESP1 TEST1 UNQ266/PRO303\"], [\"gag:SGTA SGT SGT1\"], [\"gag:NMT2\"], [\"gag:KIF4A KIF4\"], [\"gag:STAU1 STAU\"], [\"gag:PRKCA PKCA PRKACA\"], [\"gag:PPIB CYPB\"], [\"gag:PPIC CYPC\"], [\"gag:KARS1 KARS KIAA0070\"], [\"gag:RBM17 SPF45\"], [\"gag:TSG101\"], [\"gag:SEPSECS TRNP48\"], [\"gag:OLA1 GTPBP9 PRO2455 PTD004\"], [\"gag:THRAP3 BCLAF2 TRAP150\"], [\"gag:IVNS1ABP ARA3 FLARA3 KIAA0850 KLHL39 NS1 NS1BP HSPC068\"], [\"nef:RAF1 RAF\"], [\"nef:HCK\"], [\"nef:GNAO1\"], [\"nef:SRC SRC1\"], [\"nef:MTHFD2 NMDMC\"], [\"nef:VAV1 VAV\"], [\"nef:MAPK3 ERK1 PRKM3\"], [\"nef:PIK3R1 GRB1\"], [\"nef:PSMB4 PROS26\"], [\"nef:NMT1 NMT\"], [\"nef:SDHA SDH2 SDHF\"], [\"nef:VAV2\"], [\"nef:PRKCQ PRKCT\"], [\"nef:PAK1\"], [\"nef:PAK2\"], [\"nef:TNIP1 KIAA0113 NAF1\"], [\"nef:PACS1 KIAA1175\"], [\"nef:MAP3K5 ASK1 MAPKKK5 MEKK5\"], [\"nef:MTCH1 PSAP CGI-64 UNQ1871/PRO4314\"], [\"nef:ATP6V1H CGI-11\"], [\"tat:TCERG1 CA150 TAF2S\"], [\"tat:PSMA7 HSPC\"], [\"tat:TP73 P73\"], [\"tat:PPM1G PPM1C\"], [\"tat:AHCYL1 DCAL IRBIT XPVKONA\"], [\"tat:RNGTT CAP1A\"], [\"tat:NPM3\"], [\"tat:ZBTB7A FBI1 LRF ZBTB7 ZNF857A\"], [\"tat:MMP1 CLG\"], [\"tat:TUBB4A TUBB4 TUBB5\"], [\"tat:NPM1 NPM\"], [\"tat:ITGAV MSK8 VNRA VTNR\"], [\"tat:THBS1 TSP TSP1\"], [\"tat:SP1 TSFP1\"], [\"tat:PARP1 ADPRT PPOL\"], [\"tat:THRA EAR7 ERBA1 NR1A1 THRA1 THRA2\"], [\"tat:PCNA\"], [\"tat:GTF2F2 RAP30\"], [\"tat:PSMC3 TBP1\"], [\"tat:ITGB5\"], [\"tat:TBP GTF2D1 TF2D TFIID\"], [\"tat:PSMB1 PSC5\"], [\"tat:TAF1 BA2R CCG1 CCGS TAF2A\"], [\"tat:POLR2A POLR2\"], [\"tat:PSMA2 HC3 PSC3\"], [\"tat:PSMA4 HC9 PSC9\"], [\"tat:PSMB8 LMP7 PSMB5i RING10 Y2\"], [\"tat:PSMB6 LMPY Y\"], [\"tat:PSMB5 LMPX MB1 X\"], [\"tat:GTF2E1 TF2E1\"], [\"tat:GTF2E2 TF2E2\"], [\"tat:GTF2H1 BTF2\"], [\"tat:GTF2F1 RAP74\"], [\"tat:KDR FLK1 VEGFR2\"], [\"tat:PSMC2 MSS1\"], [\"tat:PSMB10 LMP10 MECL1\"], [\"tat:STAT1\"], [\"tat:PSMC4 MIP224 TBP7\"], [\"tat:PSMB2\"], [\"tat:SMARCA2 BAF190B BRM SNF2A SNF2L2\"], [\"tat:USP11 UHX1\"], [\"tat:SUB1 PC4 RPO2TC1\"], [\"tat:PSMC5 SUG1\"], [\"tat:RPL24\"], [\"tat:SMAD3 MADH3\"], [\"tat:GTF2B TF2B TFIIB\"], [\"tat:PURA PUR1\"], [\"tat:NOTCH2\"], [\"tat:LRP1 A2MR APR\"], [\"tat:RBL2 RB2\"], [\"tat:TRIM32 HT2A\"], [\"tat:NFATC2 NFAT1 NFATP\"], [\"tat:SMAD4 DPC4 MADH4\"], [\"tat:GTF2H3\"], [\"tat:NCOA2 BHLHE75 SRC2 TIF2\"], [\"tat:NCOA1 BHLHE74 SRC1\"], [\"tat:LARP7 HDCMA18P\"], [\"tat:MEPCE BCDIN3\"], [\"tat:ZNF579\"], [\"tat:KAT2A GCN5 GCN5L2\"], [\"tat:TNPO1 KPNB2 MIP1 TRN\"], [\"tat:KAT5 HTATIP TIP60\"], [\"tat:SIRT1 SIR2L1\"], [\"tat:AHCYL2 KIAA0828\"], [\"tat:ZFP91 ZNF757 FKSG11\"], [\"tat:PSMB7 Z\"], [\"tat:NAP1L4 NAP2\"], [\"tat:UBE2O KIAA1734\"], [\"tat:TCF7L2 TCF4\"], [\"tat:SRRM2 KIAA0324 SRL300 SRM300 HSPC075\"], [\"tat:NCOA3 AIB1 BHLHE42 RAC3 TRAM1\"], [\"rev:XPO1 CRM1\"], [\"rev:KIF21B KIAA0449\"], [\"rev:LMNA LMN1\"], [\"rev:NPM1 NPM\"], [\"rev:NUP214 CAIN CAN KIAA0023\"], [\"rev:TMED10 TMP21\"], [\"rev:KPNA2 RCH1 SRP1\"], [\"rev:NUP98 ADAR2\"], [\"rev:RPS27A UBA80 UBCEP1\"], [\"rev:MRPS9 RPMS9\"], [\"rev:SSBP1 SSBP\"], [\"rev:KHDRBS1 SAM68\"], [\"rev:IK RED RER\"], [\"rev:KIF22 KID KNSL4\"], [\"rev:KPNB1 NTF97\"], [\"rev:SMU1\"], [\"rev:TMED4 ERS25\"], [\"rev:SPATS2 SCR59 SPATA10 Nbla00526\"], [\"rev:MITD1\"], [\"rev:TNPO1 KPNB2 MIP1 TRN\"], [\"rev:TMED9 GP25L2\"], [\"rev:MRS2 HPT MRS2L\"], [\"rev:MRPS28 MRPS35 HSPC007\"], [\"rev:MRPL42 MRPL31 MRPS32 RPML31 HSPC204 PTD007\"], [\"vif:HSPB1 HSP27 HSP28\"], [\"env:APP A4 AD1\"], [\"nef:FYN\"], [\"tat:CDK1 CDC2 CDC28A CDKN1 P34CDC2\"], [\"vpu:ATP5F1B ATP5B ATPMB ATPSB\"], [\"env:CTSD CPSD\"], [\"gag:ANXA2 ANX2 ANX2L4 CAL1H LPC2D\"], [\"env:CAPN1 CANPL1 PIG30\"], [\"env:CD3E T3E\"], [\"vif:HSP90AA1 HSP90A HSPC1 HSPCA\"], [\"vpr:SP1 TSFP1\"], [\"tat:FURIN FUR PACE PCSK3\"], [\"vif:HSPA1A HSP72 HSPA1 HSX70\"], [\"tat:GLI2 THP\"], [\"tat:NR2F1 EAR3 ERBAL3 TFCOUP1\"], [\"vif:HSPD1 HSP60\"], [\"env:HSPA5 GRP78\"], [\"tat:HSPA5 GRP78\"], [\"tat:HSPA8 HSC70 HSP73 HSPA10\"], [\"vif:HSPA8 HSC70 HSP73 HSPA10\"], [\"tat:EGR2 KROX20\"], [\"tat:CDK4\"], [\"vpr:SLC25A4 ANT1\"], [\"vpr:UNG DGU UNG1 UNG15\"], [\"env:COX4I1 COX4\"], [\"vpu:ICAM2\"], [\"nef:GATA1 ERYF1 GF1\"], [\"env:ATP2A2 ATP2B\"], [\"vpr:TMEM11 C17orf35 PM1\"], [\"tat:CEBPB TCF5 PP9092\"], [\"tat:EGR1 KROX24 ZNF225\"], [\"vpu:ATP5PF ATP5A ATP5J ATPM\"], [\"gag:EIF2AK2 PKR PRKR\"], [\"tat:EIF2AK2 PKR PRKR\"], [\"rev:CSNK2A2 CK2A2\"], [\"vpu:ATP2B1 PMCA1\"], [\"vpr:TBP GTF2D1 TF2D TFIID\"], [\"tat:CCNA2 CCN1 CCNA\"], [\"nef:CD247 CD3Z T3Z TCRZ\"], [\"vpr:COMT\"], [\"vpr:CCNO\"], [\"nef:GATA3\"], [\"vpu:ATP5PB ATP5F1\"], [\"nef:DNAJB1 DNAJ1 HDJ1 HSPF1\"], [\"vpu:MSN\"], [\"vpr:YWHAQ\"], [\"env:CALR CRTC\"], [\"env:CANX\"], [\"vpr:ABCD3 PMP70 PXMP1\"], [\"tat:GRN\"], [\"rev:MPG AAG ANPG MID1\"], [\"vpu:ATP5F1D ATP5D\"], [\"tat:CCND3\"], [\"vpr:CDC25C\"], [\"vif:DNAJA1 DNAJ2 HDJ2 HSJ2 HSPF4\"], [\"tat:HNRNPH3 HNRPH3\"], [\"nef:CD80 CD28LG CD28LG1 LAB7\"], [\"vpr:USP6 HRP1 TRE2\"], [\"tat:FBN2\"], [\"env:COPB2\"], [\"tat:DDIT3 CHOP CHOP10 GADD153\"], [\"vif:AHR BHLHE76\"], [\"vif:HADHA HADH\"], [\"vpu:HADHA HADH\"], [\"nef:CD86 CD28LG2\"], [\"vpu:NCAPD3 CAPD3 KIAA0056\"], [\"vpu:LRPPRC LRP130\"], [\"nef:CDKN2A CDKN2 MTS1\"], [\"vpr:MATR3 KIAA0723\"], [\"vpu:RANBP1\"], [\"vif:BAG6 BAT3 G3\"], [\"vpu:ATP5PO ATP5O ATPO\"], [\"vif:FASN FAS\"], [\"env:TUFM\"], [\"vpu:RANBP2 NUP358\"], [\"tat:CDK7 CAK CAK1 CDKN7 MO15 STK1\"], [\"tat:CDK9 CDC2L4 TAK\"], [\"vpr:STAT5B\"], [\"tat:AFF1 AF4 FEL MLLT2 PBM1\"], [\"vpr:KPNA2 RCH1 SRP1\"], [\"vpr:KPNA1 RCH2\"], [\"rev:AGFG1 HRB RAB RIP\"], [\"nef:COPB1 COPB MSTP026\"], [\"env:CTSC CPPI\"], [\"env:ATP1B3\"], [\"vpr:RAD23A\"], [\"vpr:RAD23B\"], [\"vpu:HADHB MSTP029\"], [\"env:CTSW\"], [\"vpr:CTBP2\"], [\"vpr:GEMIN4\"], [\"tat:CXCR4\"], [\"vpr:COPS2 CSN2 TRIP15\"], [\"gag:ABCE1 RLI RNASEL1 RNASELI RNS4I OK/SW-cl.40\"], [\"vif:ABCE1 RLI RNASEL1 RNASELI RNS4I OK/SW-cl.40\"], [\"vpr:PSME3\"], [\"vpr:POLR2G RPB7\"], [\"nef:AP2B1 ADTB2 CLAPB1\"], [\"vpu:SKP1 EMC19 OCP2 SKP1A TCEB1L\"], [\"rev:CSNK2B CK2N G5A\"], [\"rev:CSNK2A1 CK2A1\"], [\"vif:PFAS KIAA0361\"], [\"vif:NRDC NRD1\"], [\"vif:TFRC\"], [\"vif:TCP1 CCT1 CCTA\"], [\"vif:GART PGFT PRGS\"], [\"vif:POLR2A POLR2\"], [\"vif:CAD\"], [\"vif:POLR2B\"], [\"vif:CCT6A CCT6 CCTZ\"], [\"vif:MAP1B\"], [\"vif:CCT5 CCTE KIAA0098\"], [\"vif:CCT3 CCTG TRIC5\"], [\"vif:CCT8 C21orf112 CCTQ KIAA0002\"], [\"vif:CCT4 CCTD SRB\"], [\"vif:KIF11 EG5 KNSL1 TRIP5\"], [\"vif:CCT2 99D8.1 CCTB\"], [\"vif:SLFN5\"], [\"vif:NACA HSD48\"], [\"vif:CBFB\"], [\"vif:KIF26B\"], [\"vif:KIAA1217 SKT\"], [\"vif:MTR\"], [\"vif:CCT7 CCTH NIP7-1\"], [\"vif:WDR6\"], [\"vif:IARS2\"], [\"vpu:CNTNAP1 CASPR NRXN4\"], [\"tat:CCNA1\"], [\"vpu:PRKDC HYRC HYRC1\"], [\"env:ADAM17 CSVP TACE\"], [\"nef:ARF1\"], [\"vpr:GTF2B TF2B TFIIB\"], [\"vif:IL9R\"], [\"tat:MLLT1 ENL LTG19 YEATS1\"], [\"vpr:YWHAH YWHA1\"], [\"tat:EGR3 PILOT\"], [\"tat:C1QBP GC1QBP HABP1 SF2P32\"], [\"rev:C1QBP GC1QBP HABP1 SF2P32\"], [\"env:CKAP4\"], [\"gag:DHX9 DDX9 LKP NDH2\"], [\"vpr:EP300 P300\"], [\"tat:EP300 P300\"], [\"nef:AP1B1 ADTB1 BAM22 CLAPB2\"], [\"env:ASPH BAH\"], [\"vpr:GPS1 COPS1 CSN1\"], [\"env:CHAF1B CAF1A CAF1P60 MPHOSPH7 MPP7\"], [\"env:DNAJC3 P58IPK PRKRI\"], [\"vpr:DYNC1I2 DNCI2 DNCIC2\"], [\"vpr:SF3B2 SAP145\"], [\"vpr:CUL1\"], [\"vpu:CUL1\"], [\"vif:CUL2\"], [\"vpr:CUL4A\"], [\"vpr:MOGS GCS1\"], [\"vpr:DYNC1H1 DHC1 DNCH1 DNCL DNECL DYHC KIAA0325\"], [\"env:DSC3 CDHF3 DSC4\"], [\"vpr:KARS1 KARS KIAA0070\"], [\"vpu:PTGES3 P23 TEBP\"], [\"vif:ELOC TCEB1\"], [\"vif:ELOB TCEB2\"], [\"env:DHCR24 KIAA0018\"], [\"env:CHI3L2\"], [\"vpu:NEDD8\"], [\"tat:E2F4\"], [\"vpr:PDCD2 RP8 ZMYND7\"], [\"vpr:DDB1 XAP1\"], [\"vif:DDB1 XAP1\"], [\"vpu:PPP2R5E\"], [\"vpr:RBBP7 RBAP46\"], [\"vpr:SMN1 SMN SMNT SMN2 SMNC\"], [\"vpr:DPY19L1 GA0500 KIAA0877\"], [\"env:HSD17B12 SDR12C1\"], [\"vpu:HSD17B12 SDR12C1\"], [\"vpr:SMUG1\"], [\"vpr:CEP170 FAM68A KAB KIAA0470\"], [\"vif:CEP170 FAM68A KAB KIAA0470\"], [\"rev:GPATCH4 GPATC4\"], [\"vpr:ACBD5 KIAA1996\"], [\"vpu:ATAD3B KIAA1273 TOB3\"], [\"vpr:DCAF8 H326 WDR42A\"], [\"vif:CDKAL1\"], [\"vpu:RNF213 ALO17 C17orf27 KIAA1554 KIAA1618 MYSTR\"], [\"env:ATL3\"], [\"vif:CARMIL2 LRRC16C RLTPR\"], [\"vpu:SLC27A4 ACSVL4 FATP4\"], [\"vpu:EDC4 HEDLS\"], [\"vif:MTHFD1L FTHFSDC1\"], [\"vpr:DPY19L3\"], [\"vpr:COPS6 CSN6 HVIP\"], [\"vif:HUWE1 KIAA0312 KIAA1578 UREB1 HSPC272\"], [\"vpu:PIP4P1 C14orf9 TMEM55B\"], [\"vpu:CEP57 KIAA0092 TSP57\"], [\"vif:HPS6\"], [\"gag:APOBEC3F\"], [\"vpr:ANKHD1 KIAA1085 MASK VBARP PP2500\"], [\"env:DNAJC10 ERDJ5 UNQ495/PRO1012\"], [\"vpu:TMEM192\"], [\"vpr:ANKRD13A ANKRD13\"], [\"vif:CCAR2 DBC1 KIAA1967\"], [\"tat:FAM98A\"], [\"vpu:DAGLB\"], [\"env:CNNM3 ACDP3\"], [\"vpu:TBC1D15\"], [\"vpr:DCAF11 WDR23 GL014 PRO2389\"], [\"vpr:GEMIN6\"], [\"rev:DDX1\"], [\"vpr:CREBBP CBP\"], [\"tat:CREBBP CBP\"], [\"vpr:COPS5 CSN5 JAB1\"], [\"env:ATP2A3\"], [\"vpr:RAB24\"], [\"nef:ERGIC1 ERGIC32 KIAA1181 HT034\"], [\"vpu:TBRG4 CPR2 FASTKD4 KIAA0948\"], [\"vpr:CCDC47 GK001 MSTP041 PSEC0077\"], [\"nef:EXOC4 KIAA1699 SEC8 SEC8L1\"], [\"rev:CHCHD1 C10orf34 MRPS37\"], [\"env:CTHRC1 UNQ762/PRO1550\"], [\"vpu:GIMAP5 IAN4L1 IAN5 IMAP3\"], [\"vpu:CERS2 LASS2 TMSG1\"], [\"env:CLPTM1L CRR9\"], [\"tat:PRMT6 HRMT1L6\"], [\"vpu:IPO9 IMP9 KIAA1192 RANBP9 HSPC273\"], [\"vpr:NEDD4L KIAA0439 NEDL3\"], [\"vpr:COPS8 CSN8\"], [\"vpu:CHP1 CHP\"], [\"tat:CDC6 CDC18L\"], [\"gag:PRMT1 HMT2 HRMT1L2 IR1B4\"], [\"env:CLSTN3 CS3 KIAA0726\"], [\"env:SDF4 CAB45 PSEC0034\"], [\"vpr:COPS4 CSN4\"], [\"tat:HTATIP2 CC3 TIP30\"], [\"vpr:DDA1 C19orf58 PCIA1\"], [\"env:CHID1 GL008 PSEC0104 SB139\"], [\"env:AP1M1 CLTNM\"], [\"nef:AP1M1 CLTNM\"], [\"env:EDEM3 C1orf22\"], [\"vif:AMBRA1 KIAA1736\"], [\"vpu:XPO4 KIAA1721\"], [\"tat:BCL11B CTIP2 RIT1\"], [\"vpu:SLIRP C14orf156 DC23 DC50 PD04872\"], [\"vpr:GOLPH3 GPP34\"], [\"vpr:GEMIN7\"], [\"vpu:XPO5 KIAA1291 RANBP21\"], [\"vpu:PREB SEC12\"], [\"env:APMAP C20orf3 UNQ1869/PRO4305\"], [\"vpu:RTN4 KIAA0886 NOGO My043 SP1507\"], [\"vpr:ABCB10\"], [\"vpu:ATAD3A\"], [\"env:CLN6\"], [\"vpr:TMEM160\"], [\"tat:DCAF16 C4orf30\"], [\"env:CHPF2 CHSY3 CSGLCAT KIAA1402 UNQ299/PRO339\"], [\"vpu:ATXN10 SCA10\"], [\"env:DHCR7 D7SR\"], [\"env:DNAJB11 EDJ ERJ3 HDJ9 PSEC0121 UNQ537/PRO1080\"], [\"tat:AFF4 AF5Q31 MCEF HSPC092\"], [\"env:EGFL7 MEGF7 UNQ187/PRO1449\"], [\"vpr:DDX20 DP103 GEMIN3\"], [\"vpu:CYB5R1 NQO3A2 UNQ3049/PRO9865\"], [\"tat:FBXO3 FBX3\"], [\"vpu:FBXW11 BTRCP2 FBW1B FBXW1B KIAA0696\"], [\"vif:IKZF3 ZNFN1A3\"], [\"env:ANGPTL2 ARP2 UNQ170/PRO196\"], [\"vpr:COPS3 CSN3\"], [\"vpr:SMC3 BAM BMH CSPG6 SMC3L1\"], [\"vpu:BTRC BTRCP FBW1A FBXW1A\"], [\"nef:AP3M1\"], [\"vpr:DCAF1 KIAA0800 RIP VPRBP\"], [\"tat:CTDP1 FCP1\"], [\"vpr:MTCH2 MIMP HSPC032\"], [\"vpu:ARFGEF2 ARFGEP2 BIG2\"], [\"vpu:ARFGEF1 ARFGEP1 BIG1\"], [\"vpr:DYNC1LI1 DNCLI1\"], [\"gag:DDX49\"]], \"hovertemplate\": \"virus=hiv<br>PCA1=%{x}<br>PCA2=%{y}<br>PPI=%{customdata[0]}<extra></extra>\", \"legendgroup\": \"hiv\", \"marker\": {\"color\": \"#636efa\", \"symbol\": \"circle\"}, \"mode\": \"markers\", \"name\": \"hiv\", \"showlegend\": true, \"type\": \"scattergl\", \"x\": [-4.678488254547119, -5.097402572631836, -17.21784019470215, -18.849889755249023, 14.605053901672363, 5.543182849884033, -10.073381423950195, 13.097994804382324, 14.10258674621582, -9.983826637268066, -18.026060104370117, -17.890504837036133, 11.11054801940918, -9.944112777709961, 0.030610710382461548, -10.70224380493164, 11.430657386779785, -17.327829360961914, -1.2478954792022705, -0.6653686761856079, -15.508380889892578, -17.054636001586914, -17.645050048828125, 5.294283390045166, -16.407148361206055, -16.729990005493164, 14.090690612792969, -17.8236083984375, -9.270844459533691, 14.053568840026855, -10.20340633392334, -10.12548542022705, 13.503947257995605, -9.925216674804688, 13.619173049926758, -16.00754165649414, 11.620513916015625, 11.491463661193848, 10.025909423828125, 13.120980262756348, -9.72327995300293, 9.097352027893066, 5.472610950469971, -17.358774185180664, 9.756175994873047, 12.462614059448242, 13.444859504699707, 6.983264446258545, 8.846700668334961, 8.818320274353027, 8.505608558654785, 10.21151065826416, 9.38293170928955, 9.703424453735352, 12.626996040344238, 14.38340950012207, 9.251022338867188, 8.361831665039062, 14.463075637817383, 11.445517539978027, 11.054521560668945, 9.358965873718262, 11.662725448608398, 9.64120864868164, 9.748034477233887, 15.418973922729492, 7.602788925170898, 9.646249771118164, 11.358176231384277, 13.501440048217773, 9.576263427734375, 11.589240074157715, 9.455679893493652, 11.466765403747559, 13.137459754943848, 13.106985092163086, 12.66651439666748, 7.948409557342529, 14.109460830688477, 7.681097507476807, 11.844937324523926, 14.43529987335205, 11.553301811218262, 12.896923065185547, 7.411796569824219, 14.385870933532715, 11.750093460083008, 7.155275344848633, 7.100006580352783, 10.717369079589844, 9.293863296508789, 14.286430358886719, 14.242610931396484, 7.621729850769043, 11.214941024780273, 13.23443603515625, 12.83790397644043, 11.159321784973145, 8.184314727783203, 9.352296829223633, 14.504232406616211, 8.583341598510742, 11.224366188049316, 10.33864974975586, 11.756368637084961, 9.546548843383789, 7.3237504959106445, 8.456011772155762, 8.54171371459961, 13.201422691345215, 12.610824584960938, 11.903136253356934, 12.715531349182129, 13.371528625488281, 8.445825576782227, 7.779633045196533, 11.63227653503418, 8.965540885925293, 10.63658332824707, 9.174623489379883, 14.590860366821289, 8.579145431518555, 8.306612014770508, 9.229532241821289, 10.976408004760742, 10.974106788635254, 15.6880464553833, 13.296415328979492, 11.204051971435547, 9.290441513061523, 10.198359489440918, 11.584745407104492, 7.173778533935547, 8.714068412780762, 14.63802433013916, 10.38016414642334, 11.457792282104492, 7.733980655670166, 12.51513385772705, 9.874314308166504, 12.037940979003906, 11.36784839630127, 14.185458183288574, 8.738726615905762, 14.674724578857422, 15.76554012298584, 12.341096878051758, 9.602069854736328, 12.466127395629883, 13.584356307983398, 13.416428565979004, 10.939692497253418, 11.586304664611816, 9.832289695739746, 11.829147338867188, 12.360750198364258, 11.778825759887695, 14.39822769165039, 8.234164237976074, 11.177946090698242, 8.724715232849121, 13.418566703796387, 13.257570266723633, 15.25576400756836, 10.902928352355957, 15.12935733795166, 12.293200492858887, 10.999820709228516, 8.160719871520996, 14.040294647216797, 15.445545196533203, 13.044394493103027, 13.301628112792969, 10.978704452514648, 11.884773254394531, 11.771256446838379, 11.81682014465332, 13.073908805847168, 10.223078727722168, 8.545632362365723, 11.795282363891602, 7.008707046508789, 11.52185344696045, 14.074345588684082, 8.269979476928711, 10.356467247009277, 12.114190101623535, 10.770910263061523, 10.665159225463867, 8.04399585723877, 9.171308517456055, 11.0400972366333, 15.024483680725098, 12.516578674316406, 10.210695266723633, 12.529950141906738, 7.033471584320068, 10.735090255737305, 7.036540985107422, 8.168712615966797, 6.944910526275635, 8.658368110656738, 12.730122566223145, 9.279399871826172, 8.301382064819336, 14.345402717590332, 12.408363342285156, 13.544218063354492, 13.840646743774414, 13.189924240112305, 12.742074012756348, 13.008964538574219, 12.478286743164062, 11.574407577514648, 14.887041091918945, 9.997892379760742, 8.697229385375977, 5.376606464385986, 5.51010799407959, 5.547279357910156, 5.451798915863037, 5.511174201965332, 5.332199573516846, 5.356423854827881, 5.440101146697998, 5.356382369995117, 5.559782981872559, 5.44596004486084, 5.410155773162842, 5.27145528793335, 5.454208850860596, 13.63617992401123, 13.96442985534668, 13.142851829528809, 13.725460052490234, 12.765942573547363, 13.54198932647705, 13.792030334472656, 13.867145538330078, 12.850754737854004, 14.33357048034668, 13.163719177246094, 14.065848350524902, 14.166162490844727, 13.311637878417969, 13.55497932434082, 13.779732704162598, 12.99898624420166, 14.053096771240234, 12.792996406555176, 13.654054641723633, -0.4685608446598053, 0.4027565121650696, -0.983265221118927, 0.09704437851905823, -0.7815797328948975, -0.78114253282547, 0.31163281202316284, 0.37568020820617676, -2.435250997543335, -0.785334587097168, 0.25138747692108154, -1.625998854637146, -1.2140527963638306, -0.640714704990387, -1.587302327156067, -1.9647927284240723, -0.21236447989940643, 1.6474329233169556, -2.899266481399536, -1.8252214193344116, 0.2840183675289154, 0.8886281251907349, -1.7288202047348022, -0.04115127772092819, 0.7504802346229553, -0.20499634742736816, 0.9845332503318787, 0.7836347222328186, 0.8248301148414612, -0.08113088458776474, -0.9807450175285339, -1.274533748626709, -0.8549946546554565, -1.8212690353393555, -3.25882625579834, 0.4323490560054779, -2.7073776721954346, -3.0442888736724854, -1.0097161531448364, -1.7991063594818115, -1.7527610063552856, -0.2389334887266159, -3.18743896484375, 1.1470401287078857, -1.6854515075683594, 0.7633031606674194, 0.38102734088897705, -1.0239522457122803, -1.2153966426849365, -1.7585701942443848, -1.0307612419128418, -1.5502376556396484, -1.0646090507507324, -1.9584569931030273, -2.570364475250244, -2.597618579864502, -0.32955989241600037, 0.17524302005767822, 0.20743030309677124, -1.8106739521026611, -0.7951478958129883, -2.0849738121032715, -0.13637080788612366, -0.3203873336315155, -0.6157997846603394, 0.7143563628196716, -0.060328807681798935, -1.2637979984283447, -1.1007598638534546, -0.2943602204322815, -1.0656490325927734, -7.990847587585449, -8.788175582885742, -8.366665840148926, -7.233728408813477, -7.935461521148682, -7.556992530822754, -8.25446891784668, -8.154626846313477, -7.338092803955078, -8.678074836730957, -7.492467880249023, -7.468046188354492, -7.362514495849609, -8.360264778137207, -8.321181297302246, -8.79029369354248, -7.973897933959961, -8.260908126831055, -7.994604110717773, -7.667781352996826, -7.9997687339782715, -7.792464256286621, -7.91611385345459, -7.806920051574707, -15.620468139648438, 14.857590675354004, 13.505967140197754, -2.232778787612915, -10.22832202911377, 10.871549606323242, 5.428023338317871, 15.016084671020508, 10.64307689666748, -17.217607498168945, -16.315401077270508, -0.841903567314148, -16.173492431640625, -0.909288227558136, -0.6543888449668884, -15.950799942016602, 10.03290843963623, 0.12351761013269424, 0.09766530990600586, -16.135990142822266, -0.26501598954200745, -0.10092520713806152, -17.17135238647461, -16.255783081054688, 10.388557434082031, -10.292815208435059, 12.83591365814209, 13.553544044494629, -16.18018341064453, 0.03918569162487984, -0.2873072624206543, -9.999908447265625, 5.461798667907715, -2.818653106689453, -8.6211576461792, -10.096135139465332, -17.219345092773438, -1.5712836980819702, 12.668270111083984, -16.992191314697266, -16.697128295898438, 12.8199462890625, -10.004415512084961, 13.525422096252441, -11.052250862121582, -19.35938262939453, 7.161471366882324, 7.005467891693115, -17.267620086669922, 0.6850526332855225, -8.394327163696289, -10.271210670471191, -0.6606769561767578, -17.845619201660156, -15.703811645507812, 0.7899482846260071, 13.189369201660156, -17.494558334350586, -0.926969587802887, 14.762346267700195, 0.08180007338523865, -17.33320426940918, -16.03004264831543, -10.321538925170898, 13.16230583190918, -10.140663146972656, -10.03265380859375, 12.637672424316406, -17.506616592407227, -9.461133003234863, -16.34992027282715, -10.796102523803711, -16.512418746948242, 11.3468599319458, -10.086835861206055, -1.9051984548568726, -2.536072254180908, -17.347349166870117, -1.624137043952942, -16.85136604309082, -17.696443557739258, -7.850754737854004, 13.776087760925293, 11.659497261047363, 9.573043823242188, -16.74301528930664, -17.0794677734375, -10.340694427490234, 11.317778587341309, -16.91244125366211, -17.287979125976562, -0.2856094241142273, -18.42136001586914, 5.483303546905518, -16.455785751342773, -17.866636276245117, -17.174325942993164, 13.758548736572266, -9.411139488220215, -7.875292778015137, -8.388449668884277, -16.086557388305664, -16.82186508178711, -16.880687713623047, -16.247217178344727, -16.097248077392578, -16.011642456054688, -16.401012420654297, -17.104690551757812, -15.990028381347656, -17.295055389404297, -16.05301284790039, -16.865388870239258, -16.123130798339844, -16.5256404876709, -17.635967254638672, -16.075895309448242, -16.598276138305664, -17.135196685791016, -14.975157737731934, -17.169750213623047, -17.649431228637695, -16.518056869506836, -16.03510093688965, -16.25947380065918, -16.93552017211914, -10.000123977661133, -2.093933343887329, -10.070782661437988, 14.701316833496094, 13.296777725219727, -18.66680335998535, -16.557292938232422, -1.4968796968460083, -19.353639602661133, -2.1611852645874023, -3.1391825675964355, -8.520097732543945, 9.178767204284668, 5.43497371673584, -16.374221801757812, -2.5937371253967285, 13.850037574768066, 14.971221923828125, -17.98217010498047, 13.2072172164917, 15.420811653137207, -17.560504913330078, -17.50944709777832, -17.76025390625, -10.1718168258667, -17.54249382019043, -17.69998550415039, -16.870159149169922, -17.490970611572266, 12.812132835388184, -17.925138473510742, -9.434646606445312, -15.983219146728516, -15.991711616516113, 9.13632869720459, 10.432685852050781, -10.002602577209473, -0.31223633885383606, -17.428573608398438, -17.25346565246582, -17.20173454284668, -9.690653800964355, -18.243282318115234, -17.2669620513916, -16.894508361816406, 10.638055801391602, -10.443378448486328, -16.75771713256836, -17.804811477661133, -17.346343994140625, -7.297675132751465, -18.324953079223633, -9.385205268859863, -17.75301742553711, -17.06651496887207, -10.1110200881958, 9.705713272094727, -16.483963012695312, -10.0822114944458, -10.13563346862793, -16.0966796875, -17.100208282470703, -17.17798614501953, -17.271867752075195, -10.071992874145508, -10.799488067626953, -16.089019775390625, 5.853309154510498, -16.868825912475586, 13.572635650634766, -9.727621078491211, -17.942466735839844, -16.26521873474121, 0.9525071978569031, -10.172870635986328, 9.519886016845703, -10.141345024108887, -18.004629135131836, -18.60848617553711, -8.384722709655762, -16.471006393432617, -2.515720844268799, -16.824562072753906, 11.001628875732422, -18.125234603881836, 13.012338638305664, -10.008159637451172, -18.075193405151367, 13.917865753173828, -7.258340358734131, 8.882150650024414, -9.833937644958496, -9.839534759521484, 11.126255989074707, -0.3064335882663727, -9.955897331237793, -17.654769897460938, -16.48484230041504, -11.347136497497559, -2.3561127185821533, 5.478353977203369, 12.440092086791992, 15.242152214050293, -17.55514144897461, 0.9066444039344788, -17.922916412353516, 12.220047950744629, 12.200568199157715, 14.097942352294922, 12.30020523071289, -17.389163970947266, -9.978252410888672, -0.3982214033603668, -10.644840240478516, -17.66910743713379, -16.31818389892578, -10.04661750793457, -9.993206024169922, 12.240368843078613, -10.030844688415527, -16.896495819091797, -9.32852840423584, 8.068931579589844, -17.13866424560547, -1.1963640451431274, 10.367417335510254, -9.795953750610352, 8.894213676452637, 10.667769432067871, -1.319805383682251, 12.671480178833008, -17.300582885742188, -10.037640571594238, -0.14551036059856415, -10.988061904907227, -17.322153091430664, 13.895875930786133, -16.77376365661621, -17.751079559326172, -11.035195350646973, 13.240518569946289, -17.64903450012207, -1.0124675035476685, -16.765151977539062, -10.074958801269531, -10.095279693603516], \"xaxis\": \"x\", \"y\": [-0.9075303077697754, -0.9266115427017212, 4.270388603210449, 4.102482795715332, 2.890737295150757, -3.268986940383911, 0.5785399079322815, -2.4643990993499756, -12.242547988891602, 0.849481999874115, 5.0404863357543945, 4.139336585998535, 5.940533638000488, 1.6637359857559204, -9.195531845092773, 1.0561753511428833, 6.392435550689697, 4.064352989196777, -11.319332122802734, -10.21666145324707, -8.138352394104004, 4.015078067779541, 3.4662024974823, -1.8154820203781128, -7.326661586761475, 2.6179192066192627, 0.9511353373527527, 5.017228603363037, 0.6949438452720642, -0.8423672914505005, 2.1587319374084473, 2.14911150932312, -1.2295693159103394, 2.864903450012207, -12.821392059326172, -6.767012119293213, 0.22076420485973358, 0.12126161903142929, 3.8817126750946045, -12.853578567504883, 1.2364424467086792, 0.22213560342788696, -2.377224922180176, 3.8032519817352295, 5.323593616485596, -0.8723889589309692, 1.1469897031784058, 3.636582851409912, 3.2100563049316406, 3.3314192295074463, 3.398688793182373, 1.9143146276474, 2.6010448932647705, 3.7389228343963623, -0.8922690153121948, -2.21110200881958, 3.3926079273223877, 2.515749216079712, -2.495967388153076, -0.6581034064292908, 2.4865405559539795, 1.3710596561431885, 0.9916844964027405, -0.8970910906791687, 1.7128033638000488, -1.8556487560272217, 4.321748733520508, 5.210416793823242, 4.376206874847412, -0.6516746282577515, -1.0927315950393677, 4.518091678619385, 3.252978563308716, 0.7273280024528503, 0.4864514172077179, 0.3760378062725067, 4.175097942352295, 4.885050296783447, -1.8986544609069824, 4.703962802886963, 4.63890266418457, -1.4726642370224, 1.80821692943573, 2.7582430839538574, 3.2750041484832764, 0.19117970764636993, 4.585847854614258, 3.5690062046051025, 3.3749098777770996, 1.4278699159622192, 4.524233818054199, 0.014273668639361858, 1.9644097089767456, 0.6163206100463867, 0.9678027629852295, 4.15022611618042, 0.26241379976272583, 3.00821590423584, 2.236287832260132, 3.421375036239624, 1.9795094728469849, 3.5630130767822266, 1.9771838188171387, 2.3968281745910645, 0.5099083185195923, 2.671971082687378, 3.5085020065307617, 3.4930002689361572, 3.472292423248291, 4.130519390106201, 1.4068455696105957, -0.3804011940956116, 0.6337338089942932, 1.2714968919754028, 4.035872459411621, 3.9227776527404785, 2.262302875518799, 1.561751365661621, -1.9876092672348022, 4.371366024017334, 1.5045924186706543, 5.69563102722168, 0.34091851115226746, 2.9535255432128906, 2.737804651260376, 6.337050914764404, -1.5474637746810913, -1.3260749578475952, 0.031317733228206635, 4.338968753814697, 2.6881797313690186, 1.9835150241851807, 3.341562509536743, 3.356555461883545, -2.278078556060791, 2.103268623352051, 6.268590927124023, 3.885463237762451, -0.002384807914495468, 2.141986846923828, -0.819684624671936, 6.368197441101074, -0.252651184797287, 2.139816999435425, 0.865204930305481, -0.24445295333862305, -0.9839547276496887, 0.7367839813232422, -0.715831995010376, 2.675307512283325, -1.677099347114563, -1.0190714597702026, 0.3297065496444702, 3.487061023712158, 3.1831111907958984, -0.3889407813549042, 3.041826009750366, -0.15759062767028809, 3.5633785724639893, 0.24822038412094116, 3.6124203205108643, -0.7551567554473877, -1.063612699508667, -0.278644323348999, -0.9816878437995911, -1.3888736963272095, -0.1592218428850174, -0.29729053378105164, 1.237733244895935, -2.170839548110962, 0.8146994113922119, -0.08172550052404404, 3.555051803588867, 0.984860360622406, -1.8582944869995117, -1.1150256395339966, 2.0453338623046875, -1.4385069608688354, -0.7620682120323181, 1.6616955995559692, 1.9998729228973389, 1.8442957401275635, 1.6850056648254395, -1.148234486579895, 2.7849643230438232, 3.71391224861145, 0.7698019742965698, -0.21307380497455597, 0.47993969917297363, 2.7330541610717773, 2.6292970180511475, 0.6338468790054321, -0.9682815074920654, -1.5788846015930176, 0.7177842259407043, 1.8666582107543945, 3.386242389678955, 3.5931355953216553, 3.1606733798980713, 3.5775864124298096, 1.6701959371566772, 4.553787708282471, -1.432755947113037, 3.4887948036193848, 3.574876546859741, -1.309339165687561, -0.927727460861206, 0.31276965141296387, -0.15128137171268463, -2.5669326782226562, 1.3250988721847534, 2.2162907123565674, 0.6042532324790955, 3.1984453201293945, 0.9526461958885193, 1.770970106124878, 3.302063226699829, -2.3032312393188477, -3.0396311283111572, -3.3435044288635254, -2.507258653640747, -3.021000862121582, -2.039273738861084, -2.1204147338867188, -2.4941015243530273, -2.3865909576416016, -2.7042641639709473, -2.672111988067627, -2.4536967277526855, -2.3039803504943848, -2.503848075866699, -13.124249458312988, -12.852986335754395, -12.84848690032959, -12.7482328414917, -12.788439750671387, -12.923074722290039, -12.816892623901367, -12.978862762451172, -12.80015754699707, -12.91931438446045, -12.779522895812988, -12.975787162780762, -13.07218074798584, -12.955792427062988, -12.986480712890625, -13.331083297729492, -12.860333442687988, -12.876111030578613, -12.814781188964844, -12.512324333190918, -10.0821533203125, -13.083721160888672, -11.801919937133789, -9.449006080627441, -13.389787673950195, -10.328060150146484, -9.63151741027832, -9.984260559082031, -12.893062591552734, -12.67175006866455, -9.369771003723145, -12.516324043273926, -14.40407943725586, -11.767783164978027, -13.784628868103027, -13.32220458984375, -12.530594825744629, -10.309304237365723, -12.320840835571289, -12.9448823928833, -9.591794967651367, -11.940467834472656, -11.718340873718262, -9.685948371887207, -11.334370613098145, -13.15297794342041, -11.620697021484375, -10.836490631103516, -11.303503036499023, -10.792119979858398, -9.455402374267578, -11.489364624023438, -8.948034286499023, -12.85432243347168, -12.235740661621094, -11.605320930480957, -13.297175407409668, -12.092291831970215, -10.534615516662598, -11.606901168823242, -12.83852767944336, -9.1956787109375, -12.224359512329102, -9.307196617126465, -11.812143325805664, -12.2228422164917, -9.81872272491455, -14.295637130737305, -14.370814323425293, -12.003517150878906, -13.227578163146973, -12.361069679260254, -12.815120697021484, -10.941027641296387, -14.048029899597168, -14.077632904052734, -9.420655250549316, -10.670295715332031, -10.653133392333984, -12.34535026550293, -10.419670104980469, -11.48259162902832, -10.473031044006348, -12.428120613098145, -9.94446849822998, -11.431546211242676, -9.008322715759277, -12.989505767822266, -10.856430053710938, -9.463068962097168, -11.544248580932617, -6.522974014282227, -6.04621696472168, -6.2276763916015625, -6.721109390258789, -6.225933074951172, -6.615756988525391, -6.311356544494629, -6.310626029968262, -6.719466686248779, -6.002147674560547, -6.648728370666504, -6.641968250274658, -6.688065528869629, -6.267446041107178, -6.35478401184082, -6.029314994812012, -6.432882785797119, -6.283164024353027, -6.830991744995117, -6.637531280517578, -6.393146514892578, -6.598906517028809, -6.084800720214844, -7.211669445037842, -7.006765365600586, 1.23598313331604, -12.809791564941406, -11.348665237426758, 1.164501428604126, 1.5520963668823242, -3.0578153133392334, -0.6678851246833801, 4.6448073387146, -6.989847660064697, 4.34957218170166, -12.820891380310059, -7.1837687492370605, -12.120945930480957, -11.65062427520752, -6.895445823669434, 1.3378046751022339, -11.939545631408691, -11.591355323791504, -6.929185390472412, -11.132889747619629, -11.430914878845215, 5.664243698120117, 4.523131847381592, 4.706077575683594, 1.7241662740707397, -12.911480903625488, -0.39030417799949646, 5.0868821144104, -10.614441871643066, -10.130119323730469, 0.1562676578760147, -3.075949192047119, -10.975916862487793, -6.362040996551514, 1.5473403930664062, 5.974035263061523, -12.193549156188965, -12.875277519226074, 5.359025955200195, 4.591032028198242, -12.922466278076172, 0.6011465191841125, -13.273859977722168, 2.599724769592285, 3.3514609336853027, 3.6071503162384033, 3.4670796394348145, 3.9673469066619873, -10.389216423034668, -6.502170085906982, 0.6414708495140076, -11.885588645935059, 3.717163562774658, -7.139740467071533, -10.265729904174805, -13.2918119430542, 3.3231351375579834, -14.351729393005371, -1.0072060823440552, -9.164328575134277, -7.219259738922119, -7.195786952972412, 1.2334156036376953, -13.287948608398438, 1.9424326419830322, 1.5190446376800537, -12.77064323425293, 2.344125986099243, 0.1306948959827423, -7.100966453552246, 0.8010984659194946, -7.633690357208252, 2.4451329708099365, 3.0962862968444824, -11.111336708068848, -11.615987777709961, 3.2180941104888916, -10.9065523147583, 3.5758235454559326, 3.4336166381835938, -6.230356693267822, -12.946362495422363, 1.0158013105392456, -0.18872392177581787, 3.4618782997131348, 5.300517559051514, 1.3274619579315186, -1.6369515657424927, 4.938673496246338, 3.547344207763672, -10.165604591369629, 2.816713333129883, -2.818635940551758, -8.24632740020752, 5.107306003570557, 5.7628631591796875, -12.877989768981934, 0.30673378705978394, -6.802104949951172, -6.381885051727295, -7.051180362701416, -7.084364414215088, -7.990838050842285, -7.946925163269043, -7.180445194244385, -6.222022533416748, -7.498162746429443, -7.7703399658203125, -7.473012447357178, -7.229437351226807, -7.75883674621582, -8.25893783569336, -7.345468997955322, -8.495361328125, -7.6935601234436035, -7.494680404663086, -7.057113170623779, -6.156331539154053, -7.320976257324219, -7.721408843994141, -7.807810306549072, -7.746280193328857, -7.629551410675049, -7.345261573791504, -7.693305015563965, 2.7132179737091064, -12.76728630065918, 2.840688467025757, -1.6333422660827637, -12.296221733093262, 4.996859550476074, -6.887549877166748, -10.175955772399902, 3.341484546661377, -12.339581489562988, -11.694091796875, -6.759832859039307, 1.8030762672424316, -2.5668768882751465, 2.639692544937134, -14.111126899719238, -12.870803833007812, 1.3039815425872803, 3.574145793914795, -0.8635907173156738, 1.2395492792129517, 5.005871295928955, 5.264265060424805, 2.2067010402679443, 3.3991036415100098, -7.204432964324951, 2.953040361404419, 4.85305643081665, 2.2207274436950684, -0.5125490427017212, 4.515775680541992, 0.09943480789661407, -6.150192737579346, -6.1465253829956055, 3.206617593765259, -0.03985056281089783, 0.10280289500951767, -10.216739654541016, 5.2982707023620605, 2.6158840656280518, -8.082159996032715, 0.9856270551681519, 2.8265724182128906, 5.898298263549805, 4.187087535858154, 2.047268867492676, 1.132584810256958, 5.337801456451416, 3.730344295501709, -7.245162487030029, -6.698334217071533, 3.1570053100585938, 2.379340171813965, 5.097045421600342, -8.187711715698242, 2.3071701526641846, 2.105301856994629, -7.755195140838623, 1.8915741443634033, 2.600421667098999, -7.058513641357422, 4.418935775756836, 4.98331880569458, -7.715354919433594, 0.7850408554077148, 2.7577428817749023, -6.828737735748291, -2.4979255199432373, 3.3397939205169678, -1.724281668663025, 0.8074110150337219, 3.945028066635132, -6.8627519607543945, -10.207759857177734, 1.3518650531768799, 2.3051931858062744, 2.879364252090454, 3.792306661605835, 4.727867603302002, -6.335592746734619, 2.783799648284912, -14.03818416595459, 3.2963554859161377, 1.8927823305130005, 5.682655334472656, -12.884637832641602, 1.529627799987793, 4.6683244705200195, -12.935538291931152, -6.689692497253418, 3.9274394512176514, 0.5571422576904297, 0.8818153142929077, 0.30407238006591797, -12.91603946685791, 2.0256807804107666, 4.536440372467041, 5.17081356048584, 1.7818976640701294, -11.772998809814453, -2.6056206226348877, 0.18474265933036804, 1.917849063873291, 4.188076496124268, -10.056304931640625, 6.11970329284668, 2.6952927112579346, -2.38141131401062, -12.733104705810547, 0.815396249294281, -7.7143144607543945, 1.5765987634658813, -10.924897193908691, 0.057359401136636734, 5.201307773590088, 5.633934020996094, 2.0563247203826904, 0.8819667100906372, -2.1128861904144287, 2.1129534244537354, 5.093538761138916, 2.473900079727173, 3.7464704513549805, 5.739804267883301, -9.83171272277832, 2.3094823360443115, 0.9101757407188416, 2.994999885559082, 3.4943718910217285, -10.400519371032715, 2.789095163345337, 2.9050710201263428, 1.3807090520858765, -9.718128204345703, 2.115840196609497, -6.8208112716674805, -2.626513719558716, 2.8653459548950195, 2.0299108028411865, 2.3068771362304688, -12.87358283996582, 3.8440699577331543, -12.865751266479492, 4.974695205688477, 3.268468141555786, 3.0847973823547363], \"yaxis\": \"y\"}, {\"customdata\": [[\"E:AP3B1 ADTB3A\"], [\"E:BRD4 HUNK1\"], [\"E:BRD2 KIAA9001 RING3\"], [\"E:CWC27 SDCCAG10 UNQ438/PRO871\"], [\"E:ZC3H18 NHN1\"], [\"E:SLC44A2 CTL2 PSEC0210\"], [\"M:PMPCB MPPB\"], [\"M:YIF1A 54TM HYIF1P YIF1\"], [\"M:ATP1B1 ATP1B\"], [\"M:ACADM\"], [\"M:ETFA\"], [\"M:STOM BND7 EPB72\"], [\"M:GGCX GC\"], [\"M:ATP6V1A ATP6A1 ATP6V1A1 VPP2\"], [\"M:PSMD8\"], [\"M:REEP5 C5orf18 DP1 TB2\"], [\"M:PMPCA INPP5E KIAA0123 MPPA\"], [\"M:ANO6 TMEM16F\"], [\"M:PITRM1 KIAA1104 MP1 PREP\"], [\"M:SLC30A9 C4orf1 HUEL\"], [\"M:FASTKD5 KIAA1792\"], [\"M:SLC30A7 ZNT7 ZNTL2\"], [\"M:TUBGCP3 GCP3\"], [\"M:COQ8B ADCK4\"], [\"M:SAAL1\"], [\"M:REEP6 C19orf32 DP1L1\"], [\"M:INTS4 MSTP093\"], [\"M:SLC25A21 ODC\"], [\"M:TUBGCP2 GCP2\"], [\"M:TARS2 TARSL1\"], [\"M:RTN4 KIAA0886 NOGO My043 SP1507\"], [\"M:FAM8A1 AHCP\"], [\"M:AASS\"], [\"M:AKAP8L NAKAP NAKAP95 HRIHFB2018\"], [\"M:AAR2 C20orf4 CGI-23 PRO0225\"], [\"M:BZW2 HSPC028 MSTP017\"], [\"N:RRP9 RNU3IP2 U355K\"], [\"N:PABPC1 PAB1 PABP1 PABPC2\"], [\"N:CSNK2A2 CK2A2\"], [\"N:CSNK2B CK2N G5A\"], [\"N:G3BP1 G3BP\"], [\"N:PABPC4 APP1 PABP4\"], [\"N:LARP1 KIAA0731 LARP\"], [\"N:FAM98A\"], [\"N:SNIP1\"], [\"N:UPF1 KIAA0221 RENT1\"], [\"N:MOV10 KIAA1631\"], [\"N:DDX21\"], [\"N:RBM28\"], [\"N:G3BP2 KIAA0660\"], [\"N:RPL36\"], [\"Spike:GOLGA7 GCP16 HDCKB03P HSPC041\"], [\"Spike:ZDHHC5 KIAA1748 ZNF375\"], [\"nsp1:POLA1 POLA\"], [\"nsp1:PRIM1\"], [\"nsp1:PRIM2 PRIM2A\"], [\"nsp1:POLA2\"], [\"nsp1:COLGALT1 GLT25D1 PSEC0241\"], [\"nsp1:PKP2\"], [\"nsp10:AP2A2 ADTAB CLAPA2 HIP9 HYPJ KIAA0899\"], [\"nsp10:GFER ALR HERV1 HPO\"], [\"nsp10:ERGIC1 ERGIC32 KIAA1181 HT034\"], [\"nsp10:AP2M1 CLAPM1 KIAA0109\"], [\"nsp10:GRPEL1 GREPEL1\"], [\"nsp11:TBCA\"], [\"nsp12:SBNO1 MOP3\"], [\"nsp12:BCKDK\"], [\"nsp12:AKAP8 AKAP95\"], [\"nsp12:MYCBP2 KIAA0916 PAM\"], [\"nsp12:SLU7\"], [\"nsp12:RIPK1 RIP RIP1\"], [\"nsp12:UBAP2L KIAA0144 NICE4\"], [\"nsp12:TYSND1\"], [\"nsp12:PDZD11 AIPP1 PDZK11 PISP HSPC227 UNQ6486/PRO21335\"], [\"nsp12:PRRC2B BAT2L BAT2L1 KIAA0515\"], [\"nsp12:UBAP2 KIAA1491\"], [\"nsp12:ZNF318 HRIHFB2436\"], [\"nsp12:CRTC3 TORC3\"], [\"nsp12:USP54 C10orf29\"], [\"nsp12:ZC3H7A ZC3H7 ZC3HDC7 HSPC055\"], [\"nsp12:LARP4B KIAA0217 LARP5\"], [\"nsp12:RBM41\"], [\"nsp12:TCF12 BHLHB20 HEB HTF4\"], [\"nsp12:PPIL3\"], [\"nsp12:PLEKHA5 KIAA1686 PEPP2\"], [\"nsp13:TBKBP1 KIAA0775 SINTBAD\"], [\"nsp13:CIT CRIK KIAA0949 STK21\"], [\"nsp13:HSBP1 HSF1BP\"], [\"nsp13:PCNT KIAA0402 PCNT2\"], [\"nsp13:FGFR1OP FOP\"], [\"nsp13:PRKAR2A PKR2 PRKAR2\"], [\"nsp13:PRKACA PKACA\"], [\"nsp13:PRKAR2B\"], [\"nsp13:RDX\"], [\"nsp13:CENPF\"], [\"nsp13:TLE1\"], [\"nsp13:TLE3 KIAA1547\"], [\"nsp13:TLE5 AES GRG GRG5\"], [\"nsp13:GOLGA3\"], [\"nsp13:GOLGA2\"], [\"nsp13:GOLGB1\"], [\"nsp13:GRIPAP1 KIAA1167\"], [\"nsp13:CEP350 CAP350 KIAA0480 GM133\"], [\"nsp13:PDE4DIP CMYA2 KIAA0454 KIAA0477 MMGL\"], [\"nsp13:CEP135 CEP4 KIAA0635\"], [\"nsp13:CEP68 KIAA0582\"], [\"nsp13:CNTRL CEP1 CEP110\"], [\"nsp13:ERC1 ELKS KIAA1081 RAB6IP2\"], [\"nsp13:GCC2 KIAA0336 RANBP2L4\"], [\"nsp13:CLIP4 RSNL2\"], [\"nsp13:NIN KIAA1565\"], [\"nsp13:CEP112 CCDC46\"], [\"nsp13:MIPOL1\"], [\"nsp13:USP13 ISOT3\"], [\"nsp13:GCC1\"], [\"nsp13:JAKMIP1 GABABRBP JAMIP1 MARLIN1\"], [\"nsp13:CDK5RAP2 CEP215 KIAA1633\"], [\"nsp13:AKAP9 AKAP350 AKAP450 KIAA0803\"], [\"nsp13:GORASP1 GOLPH5 GRASP65\"], [\"nsp13:FYCO1 ZFYVE7\"], [\"nsp13:C1orf50\"], [\"nsp13:CEP250 CEP2 CNAP1\"], [\"nsp13:TBK1 NAK\"], [\"nsp13:HOOK1\"], [\"nsp13:NINL KIAA0980 NLP\"], [\"nsp14:GLA\"], [\"nsp14:IMPDH2 IMPD2\"], [\"nsp14:SIRT5 SIR2L5\"], [\"nsp15:NUTF2 NTF2\"], [\"nsp15:ARF6\"], [\"nsp15:RNF41 FLRF NRDP1 SBBI03\"], [\"nsp2:SLC27A2 ACSVL1 FACVL1 FATP2 VLACS\"], [\"nsp2:EIF4E2 EIF4EL3\"], [\"nsp2:POR CYPOR\"], [\"nsp2:RAP1GDS1\"], [\"nsp2:WASHC4 KIAA1033\"], [\"nsp2:FKBP15 KIAA0674\"], [\"nsp2:GIGYF2 KIAA0642 PERQ2 TNRC15\"], [\"nsp4:IDE\"], [\"nsp4:TIMM10 TIM10\"], [\"nsp4:ALG11 GT8\"], [\"nsp4:NUP210 KIAA0906 PSEC0245\"], [\"nsp4:TIMM29 c19orf52\"], [\"nsp4:DNAJC11\"], [\"nsp4:TIMM10B FXC1 TIM9B TIMM9B\"], [\"nsp4:TIMM9 TIM9 TIM9A TIMM9A\"], [\"nsp5:HDAC2\"], [\"nsp5_C145A:TRMT1\"], [\"nsp6:ATP5MG ATP5L\"], [\"nsp6:ATP6AP1 ATP6IP1 ATP6S1 VATPS1 XAP3\"], [\"nsp6:SIGMAR1 OPRS1 SRBP AAG8\"], [\"nsp6:ATP13A3 AFURS1\"], [\"nsp7:AGPS AAG5\"], [\"nsp7:CYB5B CYB5M OMB5\"], [\"nsp7:ACSL3 ACS3 FACL3 LACS3\"], [\"nsp7:CYB5R3 DIA1\"], [\"nsp7:RALA RAL\"], [\"nsp7:COMT\"], [\"nsp7:RAB5C RABL\"], [\"nsp7:RAB7A RAB7\"], [\"nsp7:RAB8A MEL RAB8\"], [\"nsp7:RAB2A RAB2\"], [\"nsp7:RAB10\"], [\"nsp7:RAB14\"], [\"nsp7:RHOA ARH12 ARHA RHO12\"], [\"nsp7:RAB1A RAB1\"], [\"nsp7:GNB1\"], [\"nsp7:GNG5 GNGT5\"], [\"nsp7:LMAN2 C5orf8\"], [\"nsp7:MOGS GCS1\"], [\"nsp7:TOR1AIP1 LAP1\"], [\"nsp7:MTARC1 MARC1 MOSC1\"], [\"nsp7:QSOX2 QSCN6L1 SOXN\"], [\"nsp7:HS2ST1 HS2ST KIAA0448\"], [\"nsp7:NDUFAF2 NDUFA12L\"], [\"nsp7:SCCPDH CGI-49\"], [\"nsp7:SCARB1 CD36L1 CLA1\"], [\"nsp7:NAT14 KLP1\"], [\"nsp7:DCAKD\"], [\"nsp7:FAM162A C3orf28 E2IG5 DC16 FWP001\"], [\"nsp7:DNAJC19 TIM14 TIMM14\"], [\"nsp7:PTGES2 C9orf15 PGES2\"], [\"nsp7:RAB18\"], [\"nsp8:MPHOSPH10 MPP10\"], [\"nsp8:SRP72\"], [\"nsp8:ATE1\"], [\"nsp8:NSD2 KIAA1090 MMSET TRX5 WHSC1\"], [\"nsp8:SRP19\"], [\"nsp8:SRP54\"], [\"nsp8:MRPS25 RPMS25\"], [\"nsp8:MRPS5\"], [\"nsp8:DDX10\"], [\"nsp8:EXOSC2 RRP4\"], [\"nsp8:LARP7 HDCMA18P\"], [\"nsp8:MEPCE BCDIN3\"], [\"nsp8:NGDN C14orf120\"], [\"nsp8:MRPS27 KIAA0264\"], [\"nsp8:EXOSC8 OIP2 RRP43\"], [\"nsp8:NARS2\"], [\"nsp8:NOL10\"], [\"nsp8:CCDC86 CYCLON\"], [\"nsp8:SEPSECS TRNP48\"], [\"nsp8:EXOSC5 CML28 RRP46\"], [\"nsp8:EXOSC3 RRP40 CGI-102\"], [\"nsp8:AATF CHE1 DED HSPC277\"], [\"nsp8:HECTD1 KIAA1131\"], [\"nsp8:MRPS2 CGI-91\"], [\"nsp9:GTF2F2 RAP30\"], [\"nsp9:FBN1 FBN\"], [\"nsp9:FBN2\"], [\"nsp9:NUP214 CAIN CAN KIAA0023\"], [\"nsp9:NUP62\"], [\"nsp9:DCAF7 HAN11 WDR68\"], [\"nsp9:EIF4H KIAA0038 WBSCR1 WSCR1\"], [\"nsp9:NUP54\"], [\"nsp9:MIB1 DIP1 KIAA1323 ZZANK2\"], [\"nsp9:SPART KIAA0610 SPG20 TAHCCP1\"], [\"nsp9:NEK9 KIAA1995 NEK8 NERCC\"], [\"nsp9:ZNF503 NOLZ1\"], [\"nsp9:NUP88\"], [\"nsp9:NUP58 KIAA0410 NUPL1\"], [\"nsp9:MAT2B TGR MSTP045 Nbla02999 UNQ2435/PRO4995\"], [\"nsp9:FBLN5 DANCE UNQ184/PRO210\"], [\"orf10:PPT1 CLN1 PPT\"], [\"orf10:RBX1 RNF75 ROC1\"], [\"orf10:CUL2\"], [\"orf10:ELOC TCEB1\"], [\"orf10:ELOB TCEB2\"], [\"orf10:MAP7D1 KIAA1187 PARCC1 RPRC1 PP2464\"], [\"orf10:THTPA\"], [\"orf10:ZYG11B KIAA1730\"], [\"orf10:TIMM8B DDP2 DDPL TIM8B\"], [\"orf3a:HMOX1 HO HO1\"], [\"orf3a:TRIM59 RNF104 TRIM57 TSBF1\"], [\"orf3a:ARL6IP6 PFAAP1\"], [\"orf3a:VPS39 KIAA0770 TLP VAM6\"], [\"orf3a:CLCC1 KIAA0761 MCLC\"], [\"orf3a:VPS11 RNF108 PP3476\"], [\"orf3a:SUN2 FRIGG KIAA0668 RAB5IP UNC84B\"], [\"orf3a:ALG5 HSPC149\"], [\"orf3b:STOML2 SLP2 HSPC108\"], [\"orf6:NUP98 ADAR2\"], [\"orf6:RAE1 MRNP41\"], [\"orf6:MTCH1 PSAP CGI-64 UNQ1871/PRO4314\"], [\"orf7a:HEATR3\"], [\"orf7a:MDN1 KIAA0301\"], [\"orf8:PLOD2\"], [\"orf8:TOR1A DQ2 DYT1 TA TORA\"], [\"orf8:STC2\"], [\"orf8:PLAT\"], [\"orf8:ITGB1 FNRB MDF2 MSK12\"], [\"orf8:CISD3\"], [\"orf8:COL6A1\"], [\"orf8:PVR PVS\"], [\"orf8:DNMT1 AIM CXXC9 DNMT\"], [\"orf8:LOX\"], [\"orf8:PCSK6 PACE4\"], [\"orf8:INHBE\"], [\"orf8:NPC2 HE1\"], [\"orf8:MFGE8\"], [\"orf8:OS9\"], [\"orf8:ADAM9 KIAA0021 MCMP MDC9 MLTNG\"], [\"orf8:NPTX1\"], [\"orf8:POGLUT2 EP58 KDELC1 UNQ1910/PRO4357\"], [\"orf8:POGLUT3 KDELC2 UNQ1904/PRO4350\"], [\"orf8:ERO1B ERO1LB\"], [\"orf8:PLD3\"], [\"orf8:FOXRED2 ERFAD\"], [\"orf8:CHPF CSS2 UNQ651/PRO1281\"], [\"orf8:PUSL1\"], [\"orf8:EMC1 KIAA0090 PSEC0263\"], [\"orf8:GGH\"], [\"orf8:FKBP10 FKBP65 PSEC0056\"], [\"orf8:ERLEC1 C2orf30 XTP3TPB UNQ1878/PRO4321\"], [\"orf8:IL17RA IL17R\"], [\"orf8:NGLY1 PNG1\"], [\"orf8:HS6ST2 PSEC0092\"], [\"orf8:SDF2\"], [\"orf8:NEU1 NANH\"], [\"orf8:GDF15 MIC1 PDF PLAB PTGFB\"], [\"orf8:TM2D3 BLP2\"], [\"orf8:ERP44 KIAA0573 TXNDC4 UNQ532/PRO1075\"], [\"orf8:EDEM3 C1orf22\"], [\"orf8:SIL1 UNQ545/PRO836\"], [\"orf8:POFUT1 FUT12 KIAA0180\"], [\"orf8:SMOC1\"], [\"orf8:PLEKHF2 ZFYVE18\"], [\"orf8:FBXL12 FBL12\"], [\"orf8:UGGT2 UGCGL2 UGT2\"], [\"orf8:CHPF2 CHSY3 CSGLCAT KIAA1402 UNQ299/PRO339\"], [\"orf8:ADAMTS1 KIAA1346 METH1\"], [\"orf8:HYOU1 GRP170 ORP150\"], [\"orf8:FKBP7 FKBP23 UNQ670/PRO1304\"], [\"orf9b:SLC9A3R1 NHERF NHERF1\"], [\"orf9b:CHMP2A BC2 CHMP2\"], [\"orf9b:CSDE1 D1S155E KIAA0885 NRU UNR\"], [\"orf9b:TOMM70 KIAA0719 TOM70 TOMM70A\"], [\"orf9b:MARK3 CTAK1 EMK2\"], [\"orf9b:MARK2 EMK1\"], [\"orf9b:DPH5 AD-018 CGI-30 HSPC143 NPD015\"], [\"orf9b:DCTPP1 XTP3TPA CDA03\"], [\"orf9b:MARK1 KIAA1477 MARK\"], [\"orf9b:PTBP2 NPTB PTB PTBLP\"], [\"orf9b:BAG5 KIAA0873\"], [\"orf9c:UBXN8 D8S2298E REP8 UBXD6\"], [\"orf9c:GPAA1 GAA1\"], [\"orf9c:WFS1\"], [\"orf9c:ABCC1 MRP MRP1\"], [\"orf9c:F2RL1 GPR11 PAR2\"], [\"orf9c:SCAP KIAA0199 PSEC0227\"], [\"orf9c:DPY19L1 GA0500 KIAA0877\"], [\"orf9c:TMEM97 MAC30 S2R\"], [\"orf9c:SLC30A6 ZNT6\"], [\"orf9c:TAPT1 CMVFR\"], [\"orf9c:ERMP1 FXNA KIAA1815\"], [\"orf9c:NLRX1 NOD26 NOD5 NOD9\"], [\"orf9c:RETREG3 FAM134C\"], [\"orf9c:PIGO UNQ632/PRO1249\"], [\"orf9c:FAR2 MLSTD1\"], [\"orf9c:PIGS UNQ1873/PRO4316\"], [\"orf9c:ECSIT\"], [\"orf9c:ALG8 HUSSY-02\"], [\"orf9c:TMEM39B\"], [\"orf9c:GHITM DERP2 MICS1 TMBIM5 My021 UNQ244/PRO281\"], [\"orf9c:ACAD9\"], [\"orf9c:NDFIP2 KIAA1165 N4WBP5A\"], [\"orf9c:BCS1L BCS1\"], [\"orf9c:NDUFAF1 CIA30 CGI-65\"], [\"orf9c:TMED5 CGI-100 UNQ397/PRO733\"], [\"orf9c:NDUFB9 LYRM3 UQOR22\"]], \"hovertemplate\": \"virus=covid<br>PCA1=%{x}<br>PCA2=%{y}<br>PPI=%{customdata[0]}<extra></extra>\", \"legendgroup\": \"covid\", \"marker\": {\"color\": \"#EF553B\", \"symbol\": \"circle\"}, \"mode\": \"markers\", \"name\": \"covid\", \"showlegend\": true, \"type\": \"scattergl\", \"x\": [-2.207822561264038, -1.7695484161376953, -2.0705127716064453, -1.8730190992355347, -1.8591598272323608, -1.8902724981307983, -2.174903154373169, -3.4703454971313477, -3.3753535747528076, -3.479627847671509, -3.4972524642944336, -3.383700370788574, -3.3625173568725586, -3.4035956859588623, -4.260318756103516, -3.483949661254883, -3.3498573303222656, -3.5588226318359375, -3.8845458030700684, -4.290018081665039, -4.07500696182251, -4.089205265045166, -3.3685126304626465, -4.103426456451416, -3.7100989818573, -3.5615925788879395, -3.3618721961975098, -4.367194652557373, -3.4821417331695557, -4.1215314865112305, -3.7318239212036133, -3.9221582412719727, -3.3604044914245605, -3.7412641048431396, -3.3672802448272705, -3.9286303520202637, -3.8641879558563232, 8.36103343963623, 8.644731521606445, 9.053110122680664, 8.525137901306152, 8.579306602478027, 8.386836051940918, 8.656416893005371, 8.352570533752441, 8.441120147705078, 8.683941841125488, 8.667055130004883, 9.007347106933594, 8.376294136047363, 8.714984893798828, 8.184900283813477, 2.071742534637451, 2.0911738872528076, -6.501863479614258, -6.588103294372559, -6.503459453582764, -6.496989727020264, -6.438895225524902, -6.572172164916992, 1.1003046035766602, 1.1505210399627686, 1.092118263244629, 1.1026453971862793, 1.1145172119140625, -7.475424289703369, 6.221057891845703, 6.99803352355957, 6.762320041656494, 6.12681245803833, 7.110048770904541, 6.348982810974121, 7.150310516357422, 7.1221537590026855, 7.160342693328857, 6.139969825744629, 7.116928577423096, 6.567748546600342, 6.606540679931641, 6.400684833526611, 6.291520595550537, 6.6936936378479, 6.5020222663879395, 7.0823564529418945, 7.270261287689209, 6.371473789215088, -0.3219747245311737, -1.3068867921829224, -1.6504241228103638, -1.1315476894378662, -0.7987540364265442, 0.02808745577931404, -0.2010088562965393, 0.09814402461051941, -0.011242059990763664, -1.0544100999832153, -0.4944142997264862, -0.48851948976516724, -0.763789713382721, -1.082544207572937, -1.4408460855484009, -1.0708494186401367, -0.7289813756942749, -1.0399489402770996, -1.28062903881073, -0.6958232522010803, -0.44313305616378784, -0.8697871565818787, -0.836656928062439, -0.8392553925514221, -0.5857574939727783, -1.1876575946807861, -0.8576606512069702, -0.40240201354026794, -0.5467652082443237, -1.3620429039001465, -0.6434184908866882, -1.2260286808013916, -1.0648853778839111, -0.6747081875801086, -1.276505947113037, -0.09828364104032516, -1.0698957443237305, -1.0523866415023804, -0.697340190410614, -0.8296283483505249, 1.6445114612579346, 1.641291856765747, 1.6453462839126587, 3.792947769165039, 3.781707286834717, 3.8113198280334473, 2.1769001483917236, 2.1269311904907227, 2.190943717956543, 2.173414468765259, 2.2009050846099854, 2.177204132080078, 2.0616586208343506, 0.1881106048822403, 0.33313098549842834, -0.16757351160049438, -0.2229616343975067, 0.2517693340778351, -0.17611899971961975, 0.3047003149986267, 0.29266005754470825, 3.267956495285034, 3.2419724464416504, -2.848815679550171, -2.9508440494537354, -2.884809732437134, -2.7311453819274902, -9.62146282196045, -9.037591934204102, -10.219111442565918, -9.818414688110352, -8.9688081741333, -9.193010330200195, -8.915489196777344, -9.38631534576416, -9.009800910949707, -9.151243209838867, -9.045841217041016, -8.69625473022461, -8.746564865112305, -8.937837600708008, -9.785706520080566, -8.782115936279297, -9.384187698364258, -9.42137622833252, -10.36689281463623, -9.561336517333984, -9.31527042388916, -10.25337028503418, -9.93636417388916, -9.70189380645752, -9.754331588745117, -9.0054931640625, -9.231887817382812, -8.981794357299805, -9.013794898986816, -9.063581466674805, -8.96119213104248, 0.7007370591163635, 0.9014115929603577, 1.1997199058532715, 1.3679927587509155, 0.6403723359107971, 1.0631139278411865, 0.5915276408195496, 0.8793511390686035, 0.756182074546814, 1.0932012796401978, 0.6885479092597961, 0.7674915194511414, 0.7088095545768738, 1.0319856405258179, 0.8263614177703857, 1.0113434791564941, 1.6816047430038452, 0.617367148399353, 1.0781103372573853, 0.7648312449455261, 0.7664737701416016, 0.749965250492096, 1.1084357500076294, 0.9762973785400391, 6.409473896026611, 6.121702194213867, 6.14511251449585, 6.262076377868652, 6.241588592529297, 6.344675540924072, 6.420238971710205, 6.311013698577881, 6.483249664306641, 6.3908281326293945, 6.376485347747803, 6.228244781494141, 6.406702518463135, 6.227494239807129, 6.4407057762146, 6.127517223358154, -3.2122902870178223, -3.2237064838409424, -3.1689414978027344, -3.2406601905822754, -3.2400150299072266, -3.153714656829834, -3.216046094894409, -3.1895413398742676, -3.243999719619751, -2.1160199642181396, -1.7833969593048096, -1.8363747596740723, -1.8880873918533325, -2.0503907203674316, -2.1543233394622803, -1.9128822088241577, -1.8530439138412476, -3.06364369392395, -3.553046226501465, -3.607759714126587, -3.66745662689209, -2.676119804382324, -2.60942006111145, -9.327337265014648, -9.768896102905273, -10.174897193908691, -9.708117485046387, -9.302762985229492, -9.961853981018066, -9.824917793273926, -9.46333122253418, -9.14035701751709, -8.974616050720215, -9.571232795715332, -9.468494415283203, -9.63791275024414, -9.355656623840332, -9.904146194458008, -9.50474739074707, -9.666804313659668, -9.270466804504395, -9.645832061767578, -9.507405281066895, -8.818490028381348, -9.626971244812012, -9.489493370056152, -9.638736724853516, -9.496590614318848, -9.753117561340332, -9.668325424194336, -8.68402099609375, -9.710441589355469, -9.4780912399292, -9.064340591430664, -9.581713676452637, -9.023334503173828, -9.737401962280273, -10.0747652053833, -9.89880084991455, -9.606331825256348, -9.748624801635742, -9.070487022399902, -10.05091381072998, -9.896925926208496, -10.098244667053223, -9.36961555480957, -9.690080642700195, -8.836819648742676, -9.37432861328125, -10.409895896911621, -3.2524445056915283, -3.24521541595459, -3.240907907485962, -3.250330686569214, -3.2388813495635986, -3.239468574523926, -3.250290870666504, -3.263162136077881, -3.2443442344665527, -3.252149820327759, -3.2421205043792725, -4.487215042114258, -4.265259742736816, -4.297778129577637, -4.202671527862549, -4.3161773681640625, -4.246232032775879, -4.309093475341797, -4.428818225860596, -4.349308013916016, -4.353579521179199, -4.194008827209473, -4.284002304077148, -4.336517810821533, -4.297608375549316, -4.55241060256958, -4.2195143699646, -4.496011734008789, -4.371832370758057, -4.37129545211792, -4.284852981567383, -4.373759746551514, -4.269183158874512, -4.25148868560791, -4.929930210113525, -4.678488254547119], \"xaxis\": \"x\", \"y\": [-0.1826903074979782, -0.3734793961048126, -1.1286189556121826, -1.0065478086471558, -1.2010717391967773, -1.217147707939148, -1.0644292831420898, 7.178120136260986, 7.35218620300293, 7.236238479614258, 7.221957206726074, 7.095514297485352, 7.091695308685303, 7.142969608306885, 8.107433319091797, 7.232116222381592, 7.533314228057861, 7.339454174041748, 7.7039995193481445, 8.130694389343262, 7.887383460998535, 7.904797554016113, 7.135436534881592, 7.919895648956299, 7.460671901702881, 7.301694393157959, 7.1138176918029785, 8.19558334350586, 7.284361839294434, 7.943367004394531, 7.502779006958008, 7.762906551361084, 7.096511363983154, 7.537701606750488, 7.074891090393066, 7.736590385437012, 7.698509216308594, -6.9968414306640625, -7.066412448883057, -7.244380474090576, -7.281582832336426, -7.078349590301514, -7.002624988555908, -7.082327842712402, -7.0039520263671875, -7.055887222290039, -7.085022926330566, -7.063641548156738, -7.248234748840332, -7.019783973693848, -7.1214118003845215, -6.979897975921631, 6.330222129821777, 6.40953254699707, 4.058218479156494, 4.190133571624756, 4.043715476989746, 4.029914379119873, 3.932929515838623, 4.153668403625488, 0.780069887638092, 0.7319778800010681, 0.7769119739532471, 0.7742502093315125, 0.7783492207527161, -0.991150975227356, 12.894157409667969, 11.687515258789062, 12.69689655303955, 12.909839630126953, 12.037185668945312, 12.800926208496094, 11.446011543273926, 11.302946090698242, 11.32465934753418, 12.93718147277832, 11.492377281188965, 12.529593467712402, 12.344139099121094, 12.732417106628418, 12.854984283447266, 12.217342376708984, 13.010848999023438, 11.663310050964355, 11.948816299438477, 12.845356941223145, 13.985255241394043, 15.797687530517578, 14.505476951599121, 15.999320030212402, 14.65841293334961, 14.436796188354492, 14.153776168823242, 14.408842086791992, 15.677665710449219, 16.125438690185547, 13.97840404510498, 13.954608917236328, 13.54515266418457, 15.831626892089844, 16.053510665893555, 16.14763641357422, 15.854026794433594, 15.449252128601074, 15.978951454162598, 15.747175216674805, 14.0795259475708, 15.870948791503906, 15.972490310668945, 16.058303833007812, 14.179133415222168, 16.308349609375, 16.195772171020508, 15.865893363952637, 14.379663467407227, 16.00536346435547, 16.483182907104492, 15.960726737976074, 16.081119537353516, 13.996406555175781, 16.058574676513672, 13.445747375488281, 16.200273513793945, 14.969831466674805, 15.59243392944336, 15.67703914642334, 10.311575889587402, 10.210405349731445, 10.185331344604492, 5.522746562957764, 5.522181034088135, 5.523397922515869, 3.8741776943206787, 3.8733534812927246, 3.7969164848327637, 3.7463085651397705, 3.7951295375823975, 3.841623544692993, 4.199678897857666, 3.6258816719055176, 3.8599486351013184, 3.1816093921661377, 3.107569456100464, 3.720203399658203, 3.168855667114258, 3.7841460704803467, 3.8182497024536133, 0.42363497614860535, 0.35929933190345764, -0.5889772176742554, -0.12599700689315796, 0.029164008796215057, 0.09458336234092712, 12.62417984008789, 11.989481925964355, 13.04487133026123, 12.864508628845215, 12.72159481048584, 12.323023796081543, 12.20255184173584, 13.19310474395752, 12.906801223754883, 12.402308464050293, 12.833937644958496, 12.814974784851074, 12.445249557495117, 12.30814266204834, 11.932265281677246, 11.854110717773438, 12.415395736694336, 12.481644630432129, 12.960722923278809, 12.542632102966309, 12.501096725463867, 13.087684631347656, 11.945051193237305, 12.63847827911377, 12.707289695739746, 12.119638442993164, 12.323729515075684, 13.554596900939941, 12.185829162597656, 12.245767593383789, 13.182682037353516, -3.0522196292877197, -3.472285747528076, -3.7585275173187256, -4.223143577575684, -2.978114604949951, -4.1048150062561035, -2.856868267059326, -3.4274163246154785, -3.2027246952056885, -4.279382228851318, -3.1031341552734375, -3.284494161605835, -3.095362663269043, -3.6856374740600586, -4.31341552734375, -3.891413450241089, -4.129426002502441, -3.3320472240448, -3.862095355987549, -3.4317493438720703, -3.387296438217163, -3.168628215789795, -3.8866002559661865, -3.581676959991455, -13.912994384765625, -14.694544792175293, -14.603771209716797, -13.94262981414795, -13.819230079650879, -14.239275932312012, -13.990187644958496, -13.964495658874512, -14.50482177734375, -14.17941665649414, -14.215341567993164, -13.644540786743164, -14.241913795471191, -13.817282676696777, -14.200180053710938, -14.631498336791992, -3.067399263381958, -3.2397968769073486, -3.026024580001831, -3.1382198333740234, -3.1350719928741455, -3.0278398990631104, -3.115621566772461, -3.0297179222106934, -3.2199389934539795, 1.3053405284881592, 1.2513283491134644, 0.7400481700897217, 1.1259241104125977, 1.1902046203613281, 1.274267315864563, 1.068467140197754, 1.1021193265914917, -0.8761964440345764, 0.5182283520698547, 0.6108386516571045, -0.9738550186157227, 0.4415713846683502, 0.6450331807136536, -17.895505905151367, -16.8916072845459, -17.313486099243164, -17.406982421875, -17.591156005859375, -16.096397399902344, -17.106143951416016, -16.775392532348633, -18.515399932861328, -17.010391235351562, -16.97153663635254, -16.9271183013916, -16.647869110107422, -16.678207397460938, -17.06279945373535, -17.10927391052246, -16.917583465576172, -18.09038734436035, -17.785133361816406, -18.19356918334961, -17.92291831970215, -17.196640014648438, -17.43690299987793, -16.84579086303711, -17.264347076416016, -16.817829132080078, -16.904401779174805, -17.739702224731445, -16.919631958007812, -17.612035751342773, -18.169509887695312, -16.348024368286133, -17.012046813964844, -17.071578979492188, -16.796497344970703, -17.266704559326172, -17.326473236083984, -17.538429260253906, -17.229759216308594, -18.091371536254883, -16.601318359375, -17.035856246948242, -17.955114364624023, -17.095781326293945, -17.670703887939453, -17.964282989501953, -17.87689208984375, 3.6116461753845215, 3.6246886253356934, 3.591764450073242, 3.609245538711548, 3.587756872177124, 3.5868799686431885, 3.609734296798706, 3.6236231327056885, 3.5931715965270996, 3.6040091514587402, 3.599215507507324, -0.8902616500854492, -0.7270326614379883, -0.8468992710113525, 0.05711641162633896, -0.8575179576873779, -0.4327247738838196, -0.24630789458751678, -1.222481369972229, -0.4568873643875122, -0.752426028251648, -0.08054304867982864, -0.42916226387023926, -0.4325616955757141, -0.9331789016723633, 0.032425470650196075, -0.5384254455566406, -0.13295859098434448, -1.0445703268051147, -0.8872782588005066, -0.906653106212616, -0.19716298580169678, -0.9353698492050171, -0.23859983682632446, 0.08434451371431351, -0.9075303077697754], \"yaxis\": \"y\"}, {\"customdata\": [[\"nsp1-pp1a/pp1ab:PPIH CYP20 CYPH\"], [\"nsp1-pp1a/pp1ab:PPIA CYPA\"], [\"nsp1-pp1a/pp1ab:FKBP1A FKBP1 FKBP12\"], [\"nsp1-pp1a/pp1ab:PPIG\"], [\"nsp1-pp1a/pp1ab:RCAN3 DSCR1L2\"], [\"nsp1-pp1a/pp1ab:LAS1L MSTP060\"], [\"nsp2-pp1a/pp1ab:SERPING1 C1IN C1NH\"], [\"nsp2-pp1a/pp1ab:SLC46A3 FKSG16\"], [\"nsp2-pp1a/pp1ab:NPHP3 KIAA2000\"], [\"nsp2-pp1a/pp1ab:DEDD2 FLAME3 PSEC0004\"], [\"nsp3-pp1a/pp1ab:MKRN3 D15S9 RNF63 ZNF127\"], [\"nsp3-pp1a/pp1ab:ZNF410 APA1\"], [\"nsp3-pp1a/pp1ab:ABHD17A C19orf27 FAM108A1\"], [\"nsp3-pp1a/pp1ab:MKRN2 RNF62 HSPC070\"], [\"nsp5-pp1a/pp1ab (3CL-PRO):ATP6V1G1 ATP6G ATP6G1 ATP6J\"], [\"nsp5-pp1a/pp1ab (3CL-PRO):XPA XPAC\"], [\"nsp5-pp1a/pp1ab (3CL-PRO):FKBP1A FKBP1 FKBP12\"], [\"nsp5-pp1a/pp1ab (3CL-PRO):N4BP2L2 CG005 PFAAP5\"], [\"nsp5-pp1a/pp1ab (3CL-PRO):C20orf27\"], [\"nsp6-pp1a/pp1ab (TM3):ISLR UNQ189/PRO215\"], [\"nsp7-pp1a/pp1ab:MIF4GD SLIP1\"], [\"nsp7-pp1a/pp1ab:DDAH2 DDAH G6A NG30\"], [\"nsp7-pp1a/pp1ab:LCP1 PLS2\"], [\"nsp7-pp1a/pp1ab:ARL4D ARF4L\"], [\"nsp7-pp1a/pp1ab:YWHAE\"], [\"nsp7-pp1a/pp1ab:NAE1 APPBP1 HPP1\"], [\"nsp7-pp1a/pp1ab:PLEKHO1 CKIP1 OC120 HQ0024c\"], [\"nsp7-pp1a/pp1ab:RNF128\"], [\"nsp7-pp1a/pp1ab:BAP1 KIAA0272 hucep-6\"], [\"nsp7-pp1a/pp1ab:NCOA5 KIAA1637\"], [\"nsp8-pp1a/pp1ab:SERPING1 C1IN C1NH\"], [\"nsp8-pp1a/pp1ab:EIF4B\"], [\"nsp8-pp1a/pp1ab:TERF1 PIN2 TRBF1 TRF TRF1\"], [\"nsp8-pp1a/pp1ab:NOMO3\"], [\"nsp8-pp1a/pp1ab:H2AFY2 MACROH2A2\"], [\"nsp8-pp1a/pp1ab:BZW2 HSPC028 MSTP017\"], [\"nsp9-pp1a/pp1ab:ENO1 ENO1L1 MBPB1 MPB1\"], [\"nsp9-pp1a/pp1ab:SNAP47 C1orf142 HEL170 SVAP1\"], [\"nsp9-pp1a/pp1ab:FAHD1 C16orf36 YISKL\"], [\"nsp9-pp1a/pp1ab:NPHP3 KIAA2000\"], [\"nsp9-pp1a/pp1ab:RSRP1 C1orf63 HT033 NPD014\"], [\"nsp9-pp1a/pp1ab:CHMP2B CGI-84\"], [\"nsp10-pp1a/pp1ab:BTF3 NACB OK/SW-cl.8\"], [\"nsp10-pp1a/pp1ab:PTGS2 COX2\"], [\"nsp10-pp1a/pp1ab:ATF5 ATFX\"], [\"nsp12-pp1ab (RdRp):NDUFA10\"], [\"nsp12-pp1ab (RdRp):HOXC6 HOX3C\"], [\"nsp12-pp1ab (RdRp):TPSB2 TPS2\"], [\"nsp12-pp1ab (RdRp):POLR2B\"], [\"nsp12-pp1ab (RdRp):MNAT1 CAP35 MAT1 RNF66\"], [\"nsp12-pp1ab (RdRp):TPSAB1 TPS1 TPS2 TPSB1\"], [\"nsp12-pp1ab (RdRp):SNAP47 C1orf142 HEL170 SVAP1\"], [\"nsp12-pp1ab (RdRp):CCHCR1 C6orf18 HCR\"], [\"nsp12-pp1ab (RdRp):TBCB CG22 CKAP1\"], [\"nsp12-pp1ab (RdRp):PFDN5 MM1 PFD5\"], [\"nsp12-pp1ab (RdRp):CHMP2B CGI-84\"], [\"nsp13-pp1ab (ZD, NTPase/HEL):CHEK2 CDS1 CHK2 RAD53\"], [\"nsp13-pp1ab (ZD, NTPase/HEL):SERPING1 C1IN C1NH\"], [\"nsp13-pp1ab (ZD, NTPase/HEL):MARK3 CTAK1 EMK2\"], [\"nsp13-pp1ab (ZD, NTPase/HEL):OCIAD2\"], [\"nsp13-pp1ab (ZD, NTPase/HEL):MARK2 EMK1\"], [\"nsp13-pp1ab (ZD, NTPase/HEL):RYBP DEDAF YEAF1\"], [\"nsp13-pp1ab (ZD, NTPase/HEL):N4BP2L2 CG005 PFAAP5\"], [\"nsp14-pp1ab (nuclease ExoN homolog):SERPING1 C1IN C1NH\"], [\"nsp14-pp1ab (nuclease ExoN homolog):DCTN2 DCTN50\"], [\"nsp15-pp1ab (endoRNAse):PPIA CYPA\"], [\"nsp4-pp1a/pp1ab:NMB\"], [\"nsp4-pp1a/pp1ab:LAS1L MSTP060\"], [\"S:EZR VIL2\"], [\"M 5:CENPE\"], [\"M 5:nan\"], [\"M 5:SNRPD3\"], [\"M 5:EIF4A2\"], [\"M 5:P2RX7\"], [\"M 5:MED1\"], [\"M 5:RGS4\"], [\"rep 1a-1b:RUNX1 AML1 CBFA2\"], [\"rep 1a-1b:Bcas2 Bcas2_predicted rCG_51877\"], [\"rep 1a-1b:Actn2 rCG_30552\"], [\"rep 1a-1b:Thap11 Thap11_predicted rCG_51358\"], [\"rep 1a-1b:POLD1 POLD\"], [\"rep 1a-1b:Dars2\"], [\"rep 1a-1b:Smarcb1 LOC103694876 rCG_60662\"], [\"rep 1a-1b:Ddx5 rCG_35034\"], [\"rep 1a-1b:Ada\"], [\"rep 1a-1b:DDX1\"], [\"rep 1a-1b:MT-CO2 COII COX2 COXII MTCO2\"], [\"rep 1a-1b:RPSA LAMBR LAMR1\"], [\"rep 1a-1b:NCAM1 NCAM\"], [\"rep 1a-1b:PTGS2 COX2\"], [\"rep 1a-1b:VHL\"], [\"rep 1a-1b:POLR2G RPB7\"], [\"rep 1a-1b:GNB2\"], [\"rep 1a-1b:INCA1 HSD45\"], [\"rep 1a-1b:IRF3\"], [\"rep 1a-1b:PITRM1 KIAA1104 MP1 PREP\"], [\"rep 1a-1b:UBASH3B KIAA1959 STS1\"], [\"rep 1a-1b:PRMT1 HMT2 HRMT1L2 IR1B4\"], [\"rep 1a-1b:TARS2 TARSL1\"], [\"rep 1a-1b:STAB1 FEEL1 KIAA0246\"], [\"S 2:EIF3F EIF3S5\"], [\"S 2:ACE2 UNQ868/PRO1885\"], [\"N 9a:HNRNPA1 HNRPA1\"], [\"N 9a:PKM OIP3 PK2 PK3 PKM2\"], [\"N 9a:PPIA CYPA\"], [\"N 9a:EEF1A1 EEF1A EF1A LENG7\"], [\"M 5:IKBKB IKKB\"], [\"3a:YWHAE\"], [\"3a:CAV1 CAV\"], [\"3a:DCTN2 DCTN50\"], [\"3a:PFDN5 MM1 PFD5\"], [\"3b:ALB GIG20 GIG42 PRO0903 PRO1708 PRO2044 PRO2619 PRO2675 UNQ696/PRO1341\"], [\"3b:SERPING1 C1IN C1NH\"], [\"3b:DCTN2 DCTN50\"], [\"6:SNAPIN BLOC1S7 SNAP25BP SNAPAP\"], [\"6:DNAJB1 DNAJ1 HDJ1 HSPF1\"], [\"6:KPNA2 RCH1 SRP1\"], [\"6:PKD1\"], [\"6:TIAM1\"], [\"6:NMI\"], [\"6:DCTN2 DCTN50\"], [\"6:FRY C13orf14\"], [\"6:RNF123 KPC1 FP1477\"], [\"6:BRF1 BRF GTF3B TAF3B2 TAF3C\"], [\"6:UBQLN1 DA41 PLIC1\"], [\"7a:SGTA SGT SGT1\"], [\"7a:BCL2\"], [\"7a:NUDT2 APAH1\"], [\"7a:BCL2L1 BCL2L BCLX\"], [\"7a:MCL1 BCL2L3\"], [\"7a:BCL2A1 BCL2L5 BFL1 GRS HBPA1\"], [\"7a:BCL2L2 BCLW KIAA0271\"], [\"7a:VKORC1 VKOR MSTP134 MSTP576 UNQ308/PRO351\"], [\"7a:SMOC1\"], [\"9b:RPS17 RPS17L\"], [\"9b:PSMA2 HC3 PSC3\"], [\"9b:MARK3 CTAK1 EMK2\"], [\"9b:RPS20\"], [\"E sM 4:SDCBP MDA9 SYCL\"], [\"E sM 4:BCL2L1 BCL2L BCLX\"], [\"8a:BAG6 BAT3 G3\"], [\"7b:SERPING1 C1IN C1NH\"], [\"7b:CAMLG CAML\"]], \"hovertemplate\": \"virus=other corona<br>PCA1=%{x}<br>PCA2=%{y}<br>PPI=%{customdata[0]}<extra></extra>\", \"legendgroup\": \"other corona\", \"marker\": {\"color\": \"#00cc96\", \"symbol\": \"circle\"}, \"mode\": \"markers\", \"name\": \"other corona\", \"showlegend\": true, \"type\": \"scattergl\", \"x\": [-6.386102676391602, -0.19293224811553955, -6.333754062652588, -6.3280205726623535, -6.3824992179870605, -6.3769025802612305, 2.661287546157837, 2.666522264480591, 2.45774245262146, 2.6091737747192383, 4.066384315490723, 3.5096893310546875, 3.722846746444702, 3.6649951934814453, 3.338608980178833, 3.305067777633667, 3.3067519664764404, 3.3299386501312256, 3.3110761642456055, -2.8299334049224854, -9.614927291870117, -9.224857330322266, -10.015449523925781, -9.061423301696777, -9.933025360107422, -9.9917631149292, -10.639325141906738, -9.887922286987305, -9.888495445251465, -9.792564392089844, 1.3298439979553223, 0.8172141909599304, 0.9683854579925537, 1.0590611696243286, 0.920926034450531, 1.0073227882385254, 6.432611465454102, 6.5054521560668945, 6.304677486419678, 6.466815948486328, 6.196816921234131, 6.271098613739014, 1.1067893505096436, 1.0905803442001343, 1.0971770286560059, 6.766702651977539, 7.1770830154418945, 7.089655876159668, 6.311776161193848, 6.567728519439697, 7.09016752243042, 6.409312725067139, 6.42715311050415, 7.243155002593994, 6.973774433135986, 7.456803798675537, -0.5392318367958069, -0.37604543566703796, -0.6967164278030396, -0.0944364070892334, -0.669570803642273, -0.07138046622276306, -0.3771365284919739, 1.5302324295043945, 2.024918556213379, -0.012578308582305908, 0.22300367057323456, 0.31467124819755554, 0.5938255190849304, -0.1892949640750885, -0.20556306838989258, 0.24285709857940674, -0.2770173251628876, -0.19781196117401123, -0.01335182785987854, -0.11938986927270889, -0.07724888622760773, -0.014042507857084274, -0.2782982587814331, 0.23660220205783844, -0.1886555403470993, -0.26592040061950684, -0.1462171971797943, 4.009139060974121, 3.750009536743164, 3.888526439666748, 4.708617210388184, 4.380589008331299, 4.156111717224121, 4.025245666503906, 4.314327716827393, 4.696876049041748, 4.664740085601807, 4.729949951171875, 4.032491207122803, 4.045953750610352, 4.066930770874023, 3.491957664489746, 4.130531311035156, 4.109317779541016, 4.6265130043029785, 4.108859539031982, 4.784226417541504, 3.8256664276123047, 0.19341163337230682, 4.32643461227417, 4.019179821014404, 3.2141222953796387, 4.248252868652344, 2.5966365337371826, 5.347797393798828, 3.9957025051116943, 3.526387929916382, 2.5965373516082764, 4.749527454376221, 3.6651203632354736, 4.060612678527832, 4.169705390930176, 3.9014742374420166, 4.92301082611084, 2.596585750579834, 4.033654689788818, 3.948479413986206, 3.682744264602661, 4.760348796844482, 4.564940452575684, 4.569969654083252, 4.659177780151367, 4.520078182220459, 2.6529428958892822, 2.7178118228912354, 8.254999160766602, 8.247930526733398, 9.138043403625488, 8.24936294555664, 8.404998779296875, 9.080561637878418, -3.082601308822632, -1.7088979482650757, -1.5009180307388306, -1.785464882850647, -1.5950757265090942, -2.207822561264038], \"xaxis\": \"x\", \"y\": [3.859523296356201, 9.507525444030762, 3.755516767501831, 3.754517078399658, 3.833543300628662, 3.842792510986328, 4.823811054229736, 4.882331371307373, 4.1714324951171875, 4.765980243682861, 8.830678939819336, 9.281925201416016, 8.882347106933594, 8.724082946777344, 0.45743030309677124, 0.45037612318992615, 0.5001477003097534, 0.5094391107559204, 0.45500311255455017, -0.601590633392334, 12.501654624938965, 12.424479484558105, 12.879602432250977, 12.232039451599121, 13.70662784576416, 12.941315650939941, 12.886164665222168, 12.560523986816406, 12.861454010009766, 12.523015022277832, -3.5512969493865967, -3.1534066200256348, -3.3294317722320557, -3.7623660564422607, -3.687908411026001, -3.789919853210449, -14.169671058654785, -14.310797691345215, -13.926931381225586, -14.354278564453125, -13.516462326049805, -13.666974067687988, 0.771487295627594, 0.7851607203483582, 0.7768315672874451, 12.384474754333496, 11.435980796813965, 11.352970123291016, 12.81443977355957, 13.362582206726074, 11.349695205688477, 12.844407081604004, 13.026460647583008, 11.941590309143066, 11.18659496307373, 11.628488540649414, 14.327997207641602, 13.717941284179688, 14.398797988891602, 13.459074020385742, 14.377958297729492, 13.290993690490723, 15.229864120483398, 10.019377708435059, 11.152603149414062, 9.569186210632324, 3.657578706741333, 3.6943745613098145, 15.939209938049316, 6.671557903289795, 6.487472057342529, 5.918643474578857, 6.633213996887207, 6.509844779968262, 6.287123203277588, 6.396548271179199, 6.345266342163086, 6.39212703704834, 6.821174621582031, 5.937020301818848, 6.465887069702148, 6.62307071685791, 6.486754894256592, 11.150521278381348, 10.049736022949219, 10.509255409240723, 8.876730918884277, 9.900391578674316, 11.517069816589355, 10.171878814697266, 9.139062881469727, 8.95660400390625, 10.69186019897461, 9.85961627960205, 10.349067687988281, 11.219950675964355, 10.074298858642578, 10.362560272216797, 10.01594352722168, 10.161172866821289, 9.109238624572754, 10.996603012084961, 9.075726509094238, 10.083066940307617, 9.653632164001465, 9.422348976135254, 11.324162483215332, 11.005634307861328, 9.148244857788086, 11.348287582397461, 9.444942474365234, 9.720699310302734, 9.887003898620605, 11.348642349243164, 9.036931037902832, 9.95865249633789, 10.457090377807617, 10.120339393615723, 11.431253433227539, 10.04116153717041, 11.34833812713623, 10.734650611877441, 10.525674819946289, 10.808182716369629, 10.462939262390137, 9.559708595275879, 9.122573852539062, 8.938563346862793, 9.446471214294434, 7.051896572113037, 7.224379539489746, -6.916292667388916, -6.79296875, -6.9847941398620605, -6.991569519042969, -6.943509101867676, -7.029872894287109, 6.579584121704102, 0.986843466758728, 1.1166328191757202, 1.0232155323028564, 1.243891954421997, -0.1826903074979782], \"yaxis\": \"y\"}],\n",
       "                        {\"legend\": {\"title\": {\"text\": \"virus\"}, \"tracegroupgap\": 0}, \"margin\": {\"t\": 60}, \"template\": {\"data\": {\"bar\": [{\"error_x\": {\"color\": \"#2a3f5f\"}, \"error_y\": {\"color\": \"#2a3f5f\"}, \"marker\": {\"line\": {\"color\": \"#E5ECF6\", \"width\": 0.5}}, \"type\": \"bar\"}], \"barpolar\": [{\"marker\": {\"line\": {\"color\": \"#E5ECF6\", \"width\": 0.5}}, \"type\": \"barpolar\"}], \"carpet\": [{\"aaxis\": {\"endlinecolor\": \"#2a3f5f\", \"gridcolor\": \"white\", \"linecolor\": \"white\", \"minorgridcolor\": \"white\", \"startlinecolor\": \"#2a3f5f\"}, \"baxis\": {\"endlinecolor\": \"#2a3f5f\", \"gridcolor\": \"white\", \"linecolor\": \"white\", \"minorgridcolor\": \"white\", \"startlinecolor\": \"#2a3f5f\"}, \"type\": \"carpet\"}], \"choropleth\": [{\"colorbar\": {\"outlinewidth\": 0, \"ticks\": \"\"}, \"type\": \"choropleth\"}], \"contour\": [{\"colorbar\": {\"outlinewidth\": 0, \"ticks\": \"\"}, \"colorscale\": [[0.0, \"#0d0887\"], [0.1111111111111111, \"#46039f\"], [0.2222222222222222, \"#7201a8\"], [0.3333333333333333, \"#9c179e\"], [0.4444444444444444, \"#bd3786\"], [0.5555555555555556, \"#d8576b\"], [0.6666666666666666, \"#ed7953\"], [0.7777777777777778, \"#fb9f3a\"], [0.8888888888888888, \"#fdca26\"], [1.0, \"#f0f921\"]], \"type\": \"contour\"}], \"contourcarpet\": [{\"colorbar\": {\"outlinewidth\": 0, \"ticks\": \"\"}, \"type\": \"contourcarpet\"}], \"heatmap\": [{\"colorbar\": {\"outlinewidth\": 0, \"ticks\": \"\"}, \"colorscale\": [[0.0, \"#0d0887\"], [0.1111111111111111, \"#46039f\"], [0.2222222222222222, \"#7201a8\"], [0.3333333333333333, \"#9c179e\"], [0.4444444444444444, \"#bd3786\"], [0.5555555555555556, \"#d8576b\"], [0.6666666666666666, \"#ed7953\"], [0.7777777777777778, \"#fb9f3a\"], [0.8888888888888888, \"#fdca26\"], [1.0, \"#f0f921\"]], \"type\": \"heatmap\"}], \"heatmapgl\": [{\"colorbar\": {\"outlinewidth\": 0, \"ticks\": \"\"}, \"colorscale\": [[0.0, \"#0d0887\"], [0.1111111111111111, \"#46039f\"], [0.2222222222222222, \"#7201a8\"], [0.3333333333333333, \"#9c179e\"], [0.4444444444444444, \"#bd3786\"], [0.5555555555555556, \"#d8576b\"], [0.6666666666666666, \"#ed7953\"], [0.7777777777777778, \"#fb9f3a\"], [0.8888888888888888, \"#fdca26\"], [1.0, \"#f0f921\"]], \"type\": \"heatmapgl\"}], \"histogram\": [{\"marker\": {\"colorbar\": {\"outlinewidth\": 0, \"ticks\": \"\"}}, \"type\": \"histogram\"}], \"histogram2d\": [{\"colorbar\": {\"outlinewidth\": 0, \"ticks\": \"\"}, \"colorscale\": [[0.0, \"#0d0887\"], [0.1111111111111111, \"#46039f\"], [0.2222222222222222, \"#7201a8\"], [0.3333333333333333, \"#9c179e\"], [0.4444444444444444, \"#bd3786\"], [0.5555555555555556, \"#d8576b\"], [0.6666666666666666, \"#ed7953\"], [0.7777777777777778, \"#fb9f3a\"], [0.8888888888888888, \"#fdca26\"], [1.0, \"#f0f921\"]], \"type\": \"histogram2d\"}], \"histogram2dcontour\": [{\"colorbar\": {\"outlinewidth\": 0, \"ticks\": \"\"}, \"colorscale\": [[0.0, \"#0d0887\"], [0.1111111111111111, \"#46039f\"], [0.2222222222222222, \"#7201a8\"], [0.3333333333333333, \"#9c179e\"], [0.4444444444444444, \"#bd3786\"], [0.5555555555555556, \"#d8576b\"], [0.6666666666666666, \"#ed7953\"], [0.7777777777777778, \"#fb9f3a\"], [0.8888888888888888, \"#fdca26\"], [1.0, \"#f0f921\"]], \"type\": \"histogram2dcontour\"}], \"mesh3d\": [{\"colorbar\": {\"outlinewidth\": 0, \"ticks\": \"\"}, \"type\": \"mesh3d\"}], \"parcoords\": [{\"line\": {\"colorbar\": {\"outlinewidth\": 0, \"ticks\": \"\"}}, \"type\": \"parcoords\"}], \"pie\": [{\"automargin\": true, \"type\": \"pie\"}], \"scatter\": [{\"marker\": {\"colorbar\": {\"outlinewidth\": 0, \"ticks\": \"\"}}, \"type\": \"scatter\"}], \"scatter3d\": [{\"line\": {\"colorbar\": {\"outlinewidth\": 0, \"ticks\": \"\"}}, \"marker\": {\"colorbar\": {\"outlinewidth\": 0, \"ticks\": \"\"}}, \"type\": \"scatter3d\"}], \"scattercarpet\": [{\"marker\": {\"colorbar\": {\"outlinewidth\": 0, \"ticks\": \"\"}}, \"type\": \"scattercarpet\"}], \"scattergeo\": [{\"marker\": {\"colorbar\": {\"outlinewidth\": 0, \"ticks\": \"\"}}, \"type\": \"scattergeo\"}], \"scattergl\": [{\"marker\": {\"colorbar\": {\"outlinewidth\": 0, \"ticks\": \"\"}}, \"type\": \"scattergl\"}], \"scattermapbox\": [{\"marker\": {\"colorbar\": {\"outlinewidth\": 0, \"ticks\": \"\"}}, \"type\": \"scattermapbox\"}], \"scatterpolar\": [{\"marker\": {\"colorbar\": {\"outlinewidth\": 0, \"ticks\": \"\"}}, \"type\": \"scatterpolar\"}], \"scatterpolargl\": [{\"marker\": {\"colorbar\": {\"outlinewidth\": 0, \"ticks\": \"\"}}, \"type\": \"scatterpolargl\"}], \"scatterternary\": [{\"marker\": {\"colorbar\": {\"outlinewidth\": 0, \"ticks\": \"\"}}, \"type\": \"scatterternary\"}], \"surface\": [{\"colorbar\": {\"outlinewidth\": 0, \"ticks\": \"\"}, \"colorscale\": [[0.0, \"#0d0887\"], [0.1111111111111111, \"#46039f\"], [0.2222222222222222, \"#7201a8\"], [0.3333333333333333, \"#9c179e\"], [0.4444444444444444, \"#bd3786\"], [0.5555555555555556, \"#d8576b\"], [0.6666666666666666, \"#ed7953\"], [0.7777777777777778, \"#fb9f3a\"], [0.8888888888888888, \"#fdca26\"], [1.0, \"#f0f921\"]], \"type\": \"surface\"}], \"table\": [{\"cells\": {\"fill\": {\"color\": \"#EBF0F8\"}, \"line\": {\"color\": \"white\"}}, \"header\": {\"fill\": {\"color\": \"#C8D4E3\"}, \"line\": {\"color\": \"white\"}}, \"type\": \"table\"}]}, \"layout\": {\"annotationdefaults\": {\"arrowcolor\": \"#2a3f5f\", \"arrowhead\": 0, \"arrowwidth\": 1}, \"coloraxis\": {\"colorbar\": {\"outlinewidth\": 0, \"ticks\": \"\"}}, \"colorscale\": {\"diverging\": [[0, \"#8e0152\"], [0.1, \"#c51b7d\"], [0.2, \"#de77ae\"], [0.3, \"#f1b6da\"], [0.4, \"#fde0ef\"], [0.5, \"#f7f7f7\"], [0.6, \"#e6f5d0\"], [0.7, \"#b8e186\"], [0.8, \"#7fbc41\"], [0.9, \"#4d9221\"], [1, \"#276419\"]], \"sequential\": [[0.0, \"#0d0887\"], [0.1111111111111111, \"#46039f\"], [0.2222222222222222, \"#7201a8\"], [0.3333333333333333, \"#9c179e\"], [0.4444444444444444, \"#bd3786\"], [0.5555555555555556, \"#d8576b\"], [0.6666666666666666, \"#ed7953\"], [0.7777777777777778, \"#fb9f3a\"], [0.8888888888888888, \"#fdca26\"], [1.0, \"#f0f921\"]], \"sequentialminus\": [[0.0, \"#0d0887\"], [0.1111111111111111, \"#46039f\"], [0.2222222222222222, \"#7201a8\"], [0.3333333333333333, \"#9c179e\"], [0.4444444444444444, \"#bd3786\"], [0.5555555555555556, \"#d8576b\"], [0.6666666666666666, \"#ed7953\"], [0.7777777777777778, \"#fb9f3a\"], [0.8888888888888888, \"#fdca26\"], [1.0, \"#f0f921\"]]}, \"colorway\": [\"#636efa\", \"#EF553B\", \"#00cc96\", \"#ab63fa\", \"#FFA15A\", \"#19d3f3\", \"#FF6692\", \"#B6E880\", \"#FF97FF\", \"#FECB52\"], \"font\": {\"color\": \"#2a3f5f\"}, \"geo\": {\"bgcolor\": \"white\", \"lakecolor\": \"white\", \"landcolor\": \"#E5ECF6\", \"showlakes\": true, \"showland\": true, \"subunitcolor\": \"white\"}, \"hoverlabel\": {\"align\": \"left\"}, \"hovermode\": \"closest\", \"mapbox\": {\"style\": \"light\"}, \"paper_bgcolor\": \"white\", \"plot_bgcolor\": \"#E5ECF6\", \"polar\": {\"angularaxis\": {\"gridcolor\": \"white\", \"linecolor\": \"white\", \"ticks\": \"\"}, \"bgcolor\": \"#E5ECF6\", \"radialaxis\": {\"gridcolor\": \"white\", \"linecolor\": \"white\", \"ticks\": \"\"}}, \"scene\": {\"xaxis\": {\"backgroundcolor\": \"#E5ECF6\", \"gridcolor\": \"white\", \"gridwidth\": 2, \"linecolor\": \"white\", \"showbackground\": true, \"ticks\": \"\", \"zerolinecolor\": \"white\"}, \"yaxis\": {\"backgroundcolor\": \"#E5ECF6\", \"gridcolor\": \"white\", \"gridwidth\": 2, \"linecolor\": \"white\", \"showbackground\": true, \"ticks\": \"\", \"zerolinecolor\": \"white\"}, \"zaxis\": {\"backgroundcolor\": \"#E5ECF6\", \"gridcolor\": \"white\", \"gridwidth\": 2, \"linecolor\": \"white\", \"showbackground\": true, \"ticks\": \"\", \"zerolinecolor\": \"white\"}}, \"shapedefaults\": {\"line\": {\"color\": \"#2a3f5f\"}}, \"ternary\": {\"aaxis\": {\"gridcolor\": \"white\", \"linecolor\": \"white\", \"ticks\": \"\"}, \"baxis\": {\"gridcolor\": \"white\", \"linecolor\": \"white\", \"ticks\": \"\"}, \"bgcolor\": \"#E5ECF6\", \"caxis\": {\"gridcolor\": \"white\", \"linecolor\": \"white\", \"ticks\": \"\"}}, \"title\": {\"x\": 0.05}, \"xaxis\": {\"automargin\": true, \"gridcolor\": \"white\", \"linecolor\": \"white\", \"ticks\": \"\", \"title\": {\"standoff\": 15}, \"zerolinecolor\": \"white\", \"zerolinewidth\": 2}, \"yaxis\": {\"automargin\": true, \"gridcolor\": \"white\", \"linecolor\": \"white\", \"ticks\": \"\", \"title\": {\"standoff\": 15}, \"zerolinecolor\": \"white\", \"zerolinewidth\": 2}}}, \"xaxis\": {\"anchor\": \"y\", \"domain\": [0.0, 1.0], \"title\": {\"text\": \"PCA1\"}}, \"yaxis\": {\"anchor\": \"x\", \"domain\": [0.0, 1.0], \"title\": {\"text\": \"PCA2\"}}},\n",
       "                        {\"responsive\": true}\n",
       "                    ).then(function(){\n",
       "                            \n",
       "var gd = document.getElementById('305a8a2d-7003-4fed-bc8c-4db58f135e9f');\n",
       "var x = new MutationObserver(function (mutations, observer) {{\n",
       "        var display = window.getComputedStyle(gd).display;\n",
       "        if (!display || display === 'none') {{\n",
       "            console.log([gd, 'removed!']);\n",
       "            Plotly.purge(gd);\n",
       "            observer.disconnect();\n",
       "        }}\n",
       "}});\n",
       "\n",
       "// Listen for the removal of the full notebook cells\n",
       "var notebookContainer = gd.closest('#notebook-container');\n",
       "if (notebookContainer) {{\n",
       "    x.observe(notebookContainer, {childList: true});\n",
       "}}\n",
       "\n",
       "// Listen for the clearing of the current output cell\n",
       "var outputEl = gd.closest('.output');\n",
       "if (outputEl) {{\n",
       "    x.observe(outputEl, {childList: true});\n",
       "}}\n",
       "\n",
       "                        })\n",
       "                };\n",
       "                });\n",
       "            </script>\n",
       "        </div>"
      ]
     },
     "metadata": {},
     "output_type": "display_data"
    }
   ],
   "source": [
    "#fig = px.scatter(df_covid, x='PCA1',y='PCA2', hover_data=['PPI'], color='color')\n",
    "#fig = px.scatter(df_corona, x='PCA1',y='PCA2', hover_data=['PPI'], color=['coral']*df_corona.shape[0])\n",
    "df_all = df_hiv.append(df_covid)\n",
    "df_all = df_all.append(df_corona)\n",
    "fig = px.scatter(df_all, x='PCA1',y='PCA2', hover_data=['PPI'], color='virus')\n",
    "\n",
    "fig.show()\n",
    "fig.write_html('output.html')\n",
    "#plt.savefig('TSNE_viruses.pdf', dpi=300, bbox_inches='tight')"
   ]
  },
  {
   "cell_type": "code",
   "execution_count": null,
   "metadata": {},
   "outputs": [],
   "source": [
    "plt.scatter(g_pca[idx3,0],g_pca[idx3,1], c='green', label='hiv')\n",
    "plt.scatter(g_pca[idx2,0],g_pca[idx2,1], c='blue', label='sars-cov-2')\n",
    "plt.scatter(g_pca[idx1,0],g_pca[idx1,1], c='coral', label='Other corona')\n",
    "#plt.scatter(g_pca[idx4,0],g_pca[idx4,1], c='yellow', label='Negatives')\n",
    "plt.legend()\n",
    "plt.savefig('TSNE_viruses.pdf', dpi=300, bbox_inches='tight')"
   ]
  }
 ],
 "metadata": {
  "kernelspec": {
   "display_name": "Python 3",
   "language": "python",
   "name": "python3"
  },
  "language_info": {
   "codemirror_mode": {
    "name": "ipython",
    "version": 3
   },
   "file_extension": ".py",
   "mimetype": "text/x-python",
   "name": "python",
   "nbconvert_exporter": "python",
   "pygments_lexer": "ipython3",
   "version": "3.7.3"
  }
 },
 "nbformat": 4,
 "nbformat_minor": 4
}
